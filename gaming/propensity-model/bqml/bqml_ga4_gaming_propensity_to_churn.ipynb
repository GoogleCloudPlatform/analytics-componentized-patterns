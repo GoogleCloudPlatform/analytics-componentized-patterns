{
 "cells": [
  {
   "cell_type": "code",
   "execution_count": null,
   "metadata": {
    "id": "XM4xjzQNzHwz"
   },
   "outputs": [],
   "source": [
    "# Copyright 2020 Google LLC\n",
    "#\n",
    "# Licensed under the Apache License, Version 2.0 (the \"License\");\n",
    "# you may not use this file except in compliance with the License.\n",
    "# You may obtain a copy of the License at\n",
    "#\n",
    "#     https://www.apache.org/licenses/LICENSE-2.0\n",
    "#\n",
    "# Unless required by applicable law or agreed to in writing, software\n",
    "# distributed under the License is distributed on an \"AS IS\" BASIS,\n",
    "# WITHOUT WARRANTIES OR CONDITIONS OF ANY KIND, either express or implied.\n",
    "# See the License for the specific language governing permissions and\n",
    "# limitations under the License."
   ]
  },
  {
   "cell_type": "markdown",
   "metadata": {
    "id": "tTt2Oe0szW0M"
   },
   "source": [
    "<table align=\"left\">\n",
    "  <td>\n",
    "    <a href=\"https://console.cloud.google.com/ai-platform/notebooks/deploy-notebook?name=Churn%20prediction%20for%20game%20developers%20using%20Google%20Analytics%204%20%28GA4%29%20and%20BigQuery%20ML%20Notebook&download_url=https%3A%2F%2Fraw.githubusercontent.com%2FGoogleCloudPlatform%2Fanalytics-componentized-patterns%2Fmaster%2Fgaming%2Fpropensity-model%2Fbqml%2Fbqml_ga4_gaming_propensity_to_churn.ipynb\">\n",
    "      <img src=\"https://cloud.google.com/images/products/ai/ai-solutions-icon.svg\" alt=\"AI Platform Notebooks\">Run on AI Platform Notebooks</a>\n",
    "  </td>\n",
    "  <td>\n",
    "    <a href=\"https://github.com/GoogleCloudPlatform/analytics-componentized-patterns/blob/master/gaming/propensity-model/bqml/bqml_ga4_gaming_propensity_to_churn.ipynb\">\n",
    "      <img src=\"https://cloud.google.com/ml-engine/images/github-logo-32px.png\" alt=\"GitHub logo\">\n",
    "      View on GitHub\n",
    "    </a>\n",
    "  </td>\n",
    "</table>"
   ]
  },
  {
   "cell_type": "markdown",
   "metadata": {
    "id": "DWW_k7u_zaER"
   },
   "source": [
    "# Overview\n",
    "This notebook shows you how you can train, evaluate, and deploy a propensity model in BigQuery ML to predict user retention on a mobile game, based on app measurement data from Google Analytics 4.\n",
    "\n",
    "#### Propensity modeling in the mobile gaming industry\n",
    "According to a [2019 study](https://gameanalytics.com/reports/mobile-gaming-industry-analysis-h1-2019) on 100K mobile games by the Mobile Gaming Industry Analysis, most mobile games only see a 25% retention rate for users after the first 24 hours, and any game \"below 30% retention generally needs improvement\". In light of this, using machine learning -- to identify the propensity that a user churn after day 1 -- can allow app developers to incentivize users at higher risk of churning to return.\n",
    "\n",
    "To predict the propensity (a.k.a. likelihood) that a user will return vs churn, you can use classification algorithms, like logistic regression, XGBoost, neural networks, or AutoML Tables, all of which are available with BigQuery ML.\n",
    "\n",
    "#### Propensity modeling in BigQuery ML\n",
    "With BigQuery ML, you can train, evaluate and deploy our models directly within BigQuery using SQL, which saves time from needing to manually configure ML infrastructure. You can train and deploy ML models directly where the data is already stored, which also helps to avoid potential issues around data governance.\n",
    "\n",
    "Using classification models that you train and deploy in BigQuery ML, you can predict propensity using the output of the models. The models outputs provide a probability score between 0 and 1.0 -- how likely the model predicts that the user will churn (1) or not churn (0).\n",
    "\n",
    "Using the probability (propensity) scores, you can then, for example, target users who may not return on their own, but could potentially return if they are provided with an incentive or notification.\n",
    "\n",
    "#### Not just churn -- propensity modeling for any behavior\n",
    "Propensity modeling is not limited to predicting churn. In fact, you can calculate a propensity score for any behavior you may want to predict. For example, you may want to predict the likelihood a user will spend money on in-app purchases. Or, perhaps you can predict the likelihood of a user performing \"stickier\" behaviors such as adding and playing with friends, which could lead to longer-term retention and organic user growth. Whichever the case, you can easily modify this notebook to suit your needs, as the overall workflow will still be the same."
   ]
  },
  {
   "cell_type": "markdown",
   "metadata": {
    "id": "t44p6IQUzrY4"
   },
   "source": [
    "## Scope of this notebook"
   ]
  },
  {
   "cell_type": "markdown",
   "metadata": {
    "id": "nznL3qK4z8Jm"
   },
   "source": [
    "### Dataset\n",
    "\n",
    "This notebook uses [this public BigQuery dataset](https://console.cloud.google.com/bigquery?p=firebase-public-project&d=analytics_153293282&t=events_20181003&page=table), contains raw event data from a real mobile gaming app called Flood It! ([Android app](https://play.google.com/store/apps/details?id=com.labpixies.flood), [iOS app](https://itunes.apple.com/us/app/flood-it!/id476943146?mt=8)). The [data schema](https://support.google.com/analytics/answer/7029846) originates from Google Analytics for Firebase, but is the same schema as [Google Analytics 4](https://support.google.com/analytics/answer/9358801); this notebook applies to use cases that use either Google Analytics for Firebase or Google Analytics 4 data.\n",
    "\n",
    "Google Analytics 4 (GA4) uses an [event-based](https://support.google.com/analytics/answer/9322688) measurement model. Events provide insight on what is happening in an app or on a website, such as user actions, system events, or errors. Every row in the dataset is an event, with various characteristics relevant to that event stored in a nested format within the row. While Google Analytics logs many types of events already by default, developers can also customize the types of events they also wish to log.\n",
    "\n",
    "Note that as you cannot simply use the raw event data to train a machine learning model, in this notebook, you will also learn the important steps of how to pre-process the raw data into an appropriate format to use as training data for classification models."
   ]
  },
  {
   "cell_type": "markdown",
   "metadata": {
    "id": "hxrwZlF2PYQ8"
   },
   "source": [
    "#### Using your own GA4 data?\n",
    "If you are already using a Google Analytics 4 property, follow [this guide]((https://support.google.com/analytics/answer/9823238) to learn how to export your GA4 data to BigQuery. Once the GA4 data is in BigQuery, there will be two tables:\n",
    "\n",
    "* `events_`\n",
    "* `events_intraday_`\n",
    "\n",
    "For this notebook, you can replace the table in the `FROM` clause in SQL queries with your `events_` table that is updated daily. The `events_intraday_` table contains streaming data for the current day.\n",
    "\n",
    "Note that if you use your own GA4 data, you may need to slightly modify some of the scripts in this notebook to predict a different output behavior or the types events in the training data that are specific to your use case. "
   ]
  },
  {
   "cell_type": "markdown",
   "metadata": {
    "id": "KJB3rOtfrBIl"
   },
   "source": [
    "#### Using data from other non-Google Analytics data collection tools?"
   ]
  },
  {
   "cell_type": "markdown",
   "metadata": {
    "id": "9corrB3IrPeH"
   },
   "source": [
    "While this notebook provides code based on a Google Analytics dataset, you can also use your own dataset from other non-Google Analytics data collection tools. The overall concepts and process of propensity modeling will be the same, but you may need to customize the code in order to prepare your dataset into the training data format described in this notebook.\n"
   ]
  },
  {
   "cell_type": "markdown",
   "metadata": {
    "id": "sH0CZGku0BPp"
   },
   "source": [
    "### Objective and Problem Statement\n",
    "\n",
    "The goal of this notebook is to provide an end-to-end solution for propensity modeling to predict user churn on GA4 data using BigQuery ML. Using the \"Flood It!\" dataset, based on a user's activity within the first 24 hrs of app installation, you will try various classification models to predict the propensity to churn (1) or not churn (0).\n",
    "\n",
    "By the end of this notebook, you will know how to:\n",
    "* Explore the export of Google Analytics 4 data on BigQuery\n",
    "* Prepare the training data using demographic, behavioral data, and the label (churn/not-churn)\n",
    "* Train classification models using BigQuery ML\n",
    "* Evaluate classification models using BigQuery ML\n",
    "* Make predictions on which users will churn using BigQuery ML\n",
    "* Activate on model predictions"
   ]
  },
  {
   "cell_type": "markdown",
   "metadata": {
    "id": "IStlwydL0NWC"
   },
   "source": [
    "### Costs \n",
    "\n",
    "There is no cost associated with using the free version of Google Analytics and using the BigQuery Export feature. This tutorial uses billable components of Google Cloud Platform (GCP):\n",
    "\n",
    "* BigQuery\n",
    "* BigQuery ML\n",
    "\n",
    "Learn about [BigQuery pricing](https://cloud.google.com/bigquery/pricing), [BigQuery ML\n",
    "pricing](https://cloud.google.com/bigquery-ml/pricing) and use the [Pricing\n",
    "Calculator](https://cloud.google.com/products/calculator/)\n",
    "to generate a cost estimate based on your projected usage."
   ]
  },
  {
   "cell_type": "markdown",
   "metadata": {
    "id": "coMAAaOH0Tcl"
   },
   "source": [
    "## Setup"
   ]
  },
  {
   "cell_type": "markdown",
   "metadata": {
    "id": "NUlqCGWz0VGL"
   },
   "source": [
    "### PIP Install Packages and dependencies"
   ]
  },
  {
   "cell_type": "code",
   "execution_count": null,
   "metadata": {
    "id": "MujO3LNG0W26"
   },
   "outputs": [],
   "source": [
    "!pip install google-cloud-bigquery",
    "#!sudo /opt/conda/bin/conda install -c conda-forge google-cloud-bigquery google-cloud-bigquery-storage pandas pyarrow --yes"
   ]
  },
  {
   "cell_type": "code",
   "execution_count": null,
   "metadata": {
    "id": "oRab23dd0aeC"
   },
   "outputs": [],
   "source": [
    "# Automatically restart kernel after installs\n",
    "import IPython\n",
    "app = IPython.Application.instance()\n",
    "app.kernel.do_shutdown(True)  "
   ]
  },
  {
   "cell_type": "markdown",
   "metadata": {
    "id": "8PpWu5MR0bPf"
   },
   "source": [
    "### Set up your GCP project\n",
    "\n",
    "_The following steps are required, regardless of your notebook environment._\n",
    "\n",
    "1. [Select or create a GCP project](https://console.cloud.google.com/cloud-resource-manager). When you first create an account, you get a $300 free credit towards your compute/storage costs.\n",
    "\n",
    "1. [Make sure that billing is enabled for your project.](https://cloud.google.com/billing/docs/how-to/modify-project)\n",
    "\n",
    "1. [Enable the AI Platform APIs and Compute Engine APIs.](https://console.cloud.google.com/flows/enableapi?apiid=ml.googleapis.com,compute_component)\n",
    "\n",
    "1. Enter your project ID and region in the cell below. Then run the  cell to make sure the\n",
    "Cloud SDK uses the right project for all the commands in this notebook."
   ]
  },
  {
   "cell_type": "code",
   "execution_count": 1,
   "metadata": {},
   "outputs": [],
   "source": [
    "PROJECT_ID = \"MYPROJECTID\" #replace with your project id\n",
    "REGION = 'US'"
   ]
  },
  {
   "cell_type": "markdown",
   "metadata": {
    "id": "mm5cGuC00mHI"
   },
   "source": [
    "### Import libraries and define constants"
   ]
  },
  {
   "cell_type": "code",
   "execution_count": 2,
   "metadata": {
    "id": "DRYImlXa0mld"
   },
   "outputs": [],
   "source": [
    "from google.cloud import bigquery\n",
    "import pandas as pd\n",
    "\n",
    "pd.set_option('display.float_format', lambda x: '%.3f' % x)"
   ]
  },
  {
   "cell_type": "markdown",
   "metadata": {
    "id": "BlfwBj4P0rHD"
   },
   "source": [
    "### Create a BigQuery dataset"
   ]
  },
  {
   "cell_type": "markdown",
   "metadata": {
    "id": "X9TLkb8f0tCE"
   },
   "source": [
    "In this notebook, you will need to create a dataset in your project called `bqmlga4`. To create it, run the following cell:"
   ]
  },
  {
   "cell_type": "code",
   "execution_count": 5,
   "metadata": {
    "id": "d8LyhoGy0ttK"
   },
   "outputs": [
    {
     "name": "stdout",
     "output_type": "stream",
     "text": [
      "Dataset 'MYPROJECTID:bqmlga4' successfully created.\n"
     ]
    }
   ],
   "source": [
    "DATASET_NAME = \"bqmlga4\"\n",
    "!bq mk --location=$REGION --dataset $PROJECT_ID:$DATASET_NAME"
   ]
  },
  {
   "cell_type": "markdown",
   "metadata": {
    "id": "_sOVqTXM0-Wc"
   },
   "source": [
    "## The dataset"
   ]
  },
  {
   "cell_type": "markdown",
   "metadata": {
    "id": "4LMr6Q3MQt0I"
   },
   "source": [
    "### Using the sample gaming event data from Flood it!\n",
    "\n"
   ]
  },
  {
   "cell_type": "markdown",
   "metadata": {
    "id": "wV7wi8X51eNw"
   },
   "source": [
    "The sample dataset contains raw event data, as shown in the next cell:\n",
    "\n",
    "_Note_: Jupyter runs cells starting with %%bigquery as SQL queries"
   ]
  },
  {
   "cell_type": "code",
   "execution_count": 9,
   "metadata": {
    "colab": {
     "base_uri": "https://localhost:8080/",
     "height": 551
    },
    "id": "wwz_N3Kh1f9l",
    "outputId": "8b162c57-12a6-4262-e482-6e4d0ae3b47c"
   },
   "outputs": [
    {
     "name": "stderr",
     "output_type": "stream",
     "text": [
      "Query complete after 0.00s: 100%|██████████| 2/2 [00:00<00:00, 694.71query/s]                         \n",
      "Downloading: 100%|██████████| 50000/50000 [00:02<00:00, 16823.72rows/s]\n"
     ]
    },
    {
     "data": {
      "text/html": [
       "<div>\n",
       "<style scoped>\n",
       "    .dataframe tbody tr th:only-of-type {\n",
       "        vertical-align: middle;\n",
       "    }\n",
       "\n",
       "    .dataframe tbody tr th {\n",
       "        vertical-align: top;\n",
       "    }\n",
       "\n",
       "    .dataframe thead th {\n",
       "        text-align: right;\n",
       "    }\n",
       "</style>\n",
       "<table border=\"1\" class=\"dataframe\">\n",
       "  <thead>\n",
       "    <tr style=\"text-align: right;\">\n",
       "      <th></th>\n",
       "      <th>event_date</th>\n",
       "      <th>event_timestamp</th>\n",
       "      <th>event_name</th>\n",
       "      <th>event_params</th>\n",
       "      <th>event_previous_timestamp</th>\n",
       "      <th>event_value_in_usd</th>\n",
       "      <th>event_bundle_sequence_id</th>\n",
       "      <th>event_server_timestamp_offset</th>\n",
       "      <th>user_id</th>\n",
       "      <th>user_pseudo_id</th>\n",
       "      <th>user_properties</th>\n",
       "      <th>user_first_touch_timestamp</th>\n",
       "      <th>user_ltv</th>\n",
       "      <th>device</th>\n",
       "      <th>geo</th>\n",
       "      <th>app_info</th>\n",
       "      <th>traffic_source</th>\n",
       "      <th>stream_id</th>\n",
       "      <th>platform</th>\n",
       "      <th>event_dimensions</th>\n",
       "    </tr>\n",
       "  </thead>\n",
       "  <tbody>\n",
       "    <tr>\n",
       "      <th>0</th>\n",
       "      <td>20180911</td>\n",
       "      <td>1536730727868002</td>\n",
       "      <td>post_score</td>\n",
       "      <td>[{'key': 'level_name', 'value': {'string_value...</td>\n",
       "      <td>1536267608835002.000</td>\n",
       "      <td>nan</td>\n",
       "      <td>1300</td>\n",
       "      <td>1177637</td>\n",
       "      <td>None</td>\n",
       "      <td>49E9C6C52FBDE2759897A72EB7C37165</td>\n",
       "      <td>[{'key': 'ad_frequency', 'value': {'string_val...</td>\n",
       "      <td>1482572812736000</td>\n",
       "      <td>None</td>\n",
       "      <td>{'category': 'mobile', 'mobile_brand_name': 'n...</td>\n",
       "      <td>{'continent': 'Asia', 'country': 'Taiwan', 're...</td>\n",
       "      <td>{'id': 'com.labpixies.flood', 'version': '2.62...</td>\n",
       "      <td>{'name': '(direct)', 'medium': '(none)', 'sour...</td>\n",
       "      <td>1051193346</td>\n",
       "      <td>ANDROID</td>\n",
       "      <td>None</td>\n",
       "    </tr>\n",
       "    <tr>\n",
       "      <th>1</th>\n",
       "      <td>20180911</td>\n",
       "      <td>1536730899993013</td>\n",
       "      <td>post_score</td>\n",
       "      <td>[{'key': 'level_name', 'value': {'string_value...</td>\n",
       "      <td>1536730717868013.000</td>\n",
       "      <td>nan</td>\n",
       "      <td>1300</td>\n",
       "      <td>1177637</td>\n",
       "      <td>None</td>\n",
       "      <td>49E9C6C52FBDE2759897A72EB7C37165</td>\n",
       "      <td>[{'key': 'ad_frequency', 'value': {'string_val...</td>\n",
       "      <td>1482572812736000</td>\n",
       "      <td>None</td>\n",
       "      <td>{'category': 'mobile', 'mobile_brand_name': 'n...</td>\n",
       "      <td>{'continent': 'Asia', 'country': 'Taiwan', 're...</td>\n",
       "      <td>{'id': 'com.labpixies.flood', 'version': '2.62...</td>\n",
       "      <td>{'name': '(direct)', 'medium': '(none)', 'sour...</td>\n",
       "      <td>1051193346</td>\n",
       "      <td>ANDROID</td>\n",
       "      <td>None</td>\n",
       "    </tr>\n",
       "    <tr>\n",
       "      <th>2</th>\n",
       "      <td>20180911</td>\n",
       "      <td>1536731015696035</td>\n",
       "      <td>post_score</td>\n",
       "      <td>[{'key': 'level_name', 'value': {'string_value...</td>\n",
       "      <td>1536730854993035.000</td>\n",
       "      <td>nan</td>\n",
       "      <td>1300</td>\n",
       "      <td>1177637</td>\n",
       "      <td>None</td>\n",
       "      <td>49E9C6C52FBDE2759897A72EB7C37165</td>\n",
       "      <td>[{'key': 'ad_frequency', 'value': {'string_val...</td>\n",
       "      <td>1482572812736000</td>\n",
       "      <td>None</td>\n",
       "      <td>{'category': 'mobile', 'mobile_brand_name': 'n...</td>\n",
       "      <td>{'continent': 'Asia', 'country': 'Taiwan', 're...</td>\n",
       "      <td>{'id': 'com.labpixies.flood', 'version': '2.62...</td>\n",
       "      <td>{'name': '(direct)', 'medium': '(none)', 'sour...</td>\n",
       "      <td>1051193346</td>\n",
       "      <td>ANDROID</td>\n",
       "      <td>None</td>\n",
       "    </tr>\n",
       "    <tr>\n",
       "      <th>3</th>\n",
       "      <td>20180911</td>\n",
       "      <td>1536731167970048</td>\n",
       "      <td>post_score</td>\n",
       "      <td>[{'key': 'level_name', 'value': {'string_value...</td>\n",
       "      <td>1536730995696048.000</td>\n",
       "      <td>nan</td>\n",
       "      <td>1300</td>\n",
       "      <td>1177637</td>\n",
       "      <td>None</td>\n",
       "      <td>49E9C6C52FBDE2759897A72EB7C37165</td>\n",
       "      <td>[{'key': 'ad_frequency', 'value': {'string_val...</td>\n",
       "      <td>1482572812736000</td>\n",
       "      <td>None</td>\n",
       "      <td>{'category': 'mobile', 'mobile_brand_name': 'n...</td>\n",
       "      <td>{'continent': 'Asia', 'country': 'Taiwan', 're...</td>\n",
       "      <td>{'id': 'com.labpixies.flood', 'version': '2.62...</td>\n",
       "      <td>{'name': '(direct)', 'medium': '(none)', 'sour...</td>\n",
       "      <td>1051193346</td>\n",
       "      <td>ANDROID</td>\n",
       "      <td>None</td>\n",
       "    </tr>\n",
       "    <tr>\n",
       "      <th>4</th>\n",
       "      <td>20180911</td>\n",
       "      <td>1536731291099060</td>\n",
       "      <td>post_score</td>\n",
       "      <td>[{'key': 'level_name', 'value': {'string_value...</td>\n",
       "      <td>1536731112970060.000</td>\n",
       "      <td>nan</td>\n",
       "      <td>1300</td>\n",
       "      <td>1177637</td>\n",
       "      <td>None</td>\n",
       "      <td>49E9C6C52FBDE2759897A72EB7C37165</td>\n",
       "      <td>[{'key': 'ad_frequency', 'value': {'string_val...</td>\n",
       "      <td>1482572812736000</td>\n",
       "      <td>None</td>\n",
       "      <td>{'category': 'mobile', 'mobile_brand_name': 'n...</td>\n",
       "      <td>{'continent': 'Asia', 'country': 'Taiwan', 're...</td>\n",
       "      <td>{'id': 'com.labpixies.flood', 'version': '2.62...</td>\n",
       "      <td>{'name': '(direct)', 'medium': '(none)', 'sour...</td>\n",
       "      <td>1051193346</td>\n",
       "      <td>ANDROID</td>\n",
       "      <td>None</td>\n",
       "    </tr>\n",
       "    <tr>\n",
       "      <th>...</th>\n",
       "      <td>...</td>\n",
       "      <td>...</td>\n",
       "      <td>...</td>\n",
       "      <td>...</td>\n",
       "      <td>...</td>\n",
       "      <td>...</td>\n",
       "      <td>...</td>\n",
       "      <td>...</td>\n",
       "      <td>...</td>\n",
       "      <td>...</td>\n",
       "      <td>...</td>\n",
       "      <td>...</td>\n",
       "      <td>...</td>\n",
       "      <td>...</td>\n",
       "      <td>...</td>\n",
       "      <td>...</td>\n",
       "      <td>...</td>\n",
       "      <td>...</td>\n",
       "      <td>...</td>\n",
       "      <td>...</td>\n",
       "    </tr>\n",
       "    <tr>\n",
       "      <th>49995</th>\n",
       "      <td>20180911</td>\n",
       "      <td>1536681994959004</td>\n",
       "      <td>firebase_campaign</td>\n",
       "      <td>[{'key': 'click_timestamp', 'value': {'string_...</td>\n",
       "      <td>nan</td>\n",
       "      <td>nan</td>\n",
       "      <td>2</td>\n",
       "      <td>1111888</td>\n",
       "      <td>None</td>\n",
       "      <td>95B590F12E8E14749D6634ACD4AF518F</td>\n",
       "      <td>[{'key': 'first_open_time', 'value': {'string_...</td>\n",
       "      <td>1536682077387000</td>\n",
       "      <td>None</td>\n",
       "      <td>{'category': 'mobile', 'mobile_brand_name': 'n...</td>\n",
       "      <td>{'continent': 'Asia', 'country': 'India', 'reg...</td>\n",
       "      <td>{'id': 'com.labpixies.flood', 'version': '2.62...</td>\n",
       "      <td>{'name': None, 'medium': 'organic', 'source': ...</td>\n",
       "      <td>1051193346</td>\n",
       "      <td>ANDROID</td>\n",
       "      <td>None</td>\n",
       "    </tr>\n",
       "    <tr>\n",
       "      <th>49996</th>\n",
       "      <td>20180911</td>\n",
       "      <td>1536682006805005</td>\n",
       "      <td>firebase_campaign</td>\n",
       "      <td>[{'key': 'firebase_screen_id', 'value': {'stri...</td>\n",
       "      <td>1536681989959005.000</td>\n",
       "      <td>nan</td>\n",
       "      <td>2</td>\n",
       "      <td>1111888</td>\n",
       "      <td>None</td>\n",
       "      <td>95B590F12E8E14749D6634ACD4AF518F</td>\n",
       "      <td>[{'key': 'first_open_time', 'value': {'string_...</td>\n",
       "      <td>1536682077387000</td>\n",
       "      <td>None</td>\n",
       "      <td>{'category': 'mobile', 'mobile_brand_name': 'n...</td>\n",
       "      <td>{'continent': 'Asia', 'country': 'India', 'reg...</td>\n",
       "      <td>{'id': 'com.labpixies.flood', 'version': '2.62...</td>\n",
       "      <td>{'name': None, 'medium': 'organic', 'source': ...</td>\n",
       "      <td>1051193346</td>\n",
       "      <td>ANDROID</td>\n",
       "      <td>None</td>\n",
       "    </tr>\n",
       "    <tr>\n",
       "      <th>49997</th>\n",
       "      <td>20180911</td>\n",
       "      <td>1536682020475002</td>\n",
       "      <td>user_engagement</td>\n",
       "      <td>[{'key': 'firebase_screen_id', 'value': {'stri...</td>\n",
       "      <td>1536681986387002.000</td>\n",
       "      <td>nan</td>\n",
       "      <td>2</td>\n",
       "      <td>1111888</td>\n",
       "      <td>None</td>\n",
       "      <td>95B590F12E8E14749D6634ACD4AF518F</td>\n",
       "      <td>[{'key': 'first_open_time', 'value': {'string_...</td>\n",
       "      <td>1536682077387000</td>\n",
       "      <td>None</td>\n",
       "      <td>{'category': 'mobile', 'mobile_brand_name': 'n...</td>\n",
       "      <td>{'continent': 'Asia', 'country': 'India', 'reg...</td>\n",
       "      <td>{'id': 'com.labpixies.flood', 'version': '2.62...</td>\n",
       "      <td>{'name': None, 'medium': 'organic', 'source': ...</td>\n",
       "      <td>1051193346</td>\n",
       "      <td>ANDROID</td>\n",
       "      <td>None</td>\n",
       "    </tr>\n",
       "    <tr>\n",
       "      <th>49998</th>\n",
       "      <td>20180911</td>\n",
       "      <td>1536682010978000</td>\n",
       "      <td>screen_view</td>\n",
       "      <td>[{'key': 'firebase_screen_id', 'value': {'stri...</td>\n",
       "      <td>nan</td>\n",
       "      <td>nan</td>\n",
       "      <td>2</td>\n",
       "      <td>1111888</td>\n",
       "      <td>None</td>\n",
       "      <td>95B590F12E8E14749D6634ACD4AF518F</td>\n",
       "      <td>[{'key': 'first_open_time', 'value': {'string_...</td>\n",
       "      <td>1536682077387000</td>\n",
       "      <td>None</td>\n",
       "      <td>{'category': 'mobile', 'mobile_brand_name': 'n...</td>\n",
       "      <td>{'continent': 'Asia', 'country': 'India', 'reg...</td>\n",
       "      <td>{'id': 'com.labpixies.flood', 'version': '2.62...</td>\n",
       "      <td>{'name': None, 'medium': 'organic', 'source': ...</td>\n",
       "      <td>1051193346</td>\n",
       "      <td>ANDROID</td>\n",
       "      <td>None</td>\n",
       "    </tr>\n",
       "    <tr>\n",
       "      <th>49999</th>\n",
       "      <td>20180911</td>\n",
       "      <td>1536682038475001</td>\n",
       "      <td>screen_view</td>\n",
       "      <td>[{'key': 'firebase_screen_id', 'value': {'stri...</td>\n",
       "      <td>1536681987978001.000</td>\n",
       "      <td>nan</td>\n",
       "      <td>2</td>\n",
       "      <td>1111888</td>\n",
       "      <td>None</td>\n",
       "      <td>95B590F12E8E14749D6634ACD4AF518F</td>\n",
       "      <td>[{'key': 'first_open_time', 'value': {'string_...</td>\n",
       "      <td>1536682077387000</td>\n",
       "      <td>None</td>\n",
       "      <td>{'category': 'mobile', 'mobile_brand_name': 'n...</td>\n",
       "      <td>{'continent': 'Asia', 'country': 'India', 'reg...</td>\n",
       "      <td>{'id': 'com.labpixies.flood', 'version': '2.62...</td>\n",
       "      <td>{'name': None, 'medium': 'organic', 'source': ...</td>\n",
       "      <td>1051193346</td>\n",
       "      <td>ANDROID</td>\n",
       "      <td>None</td>\n",
       "    </tr>\n",
       "  </tbody>\n",
       "</table>\n",
       "<p>50000 rows × 20 columns</p>\n",
       "</div>"
      ],
      "text/plain": [
       "      event_date   event_timestamp         event_name  \\\n",
       "0       20180911  1536730727868002         post_score   \n",
       "1       20180911  1536730899993013         post_score   \n",
       "2       20180911  1536731015696035         post_score   \n",
       "3       20180911  1536731167970048         post_score   \n",
       "4       20180911  1536731291099060         post_score   \n",
       "...          ...               ...                ...   \n",
       "49995   20180911  1536681994959004  firebase_campaign   \n",
       "49996   20180911  1536682006805005  firebase_campaign   \n",
       "49997   20180911  1536682020475002    user_engagement   \n",
       "49998   20180911  1536682010978000        screen_view   \n",
       "49999   20180911  1536682038475001        screen_view   \n",
       "\n",
       "                                            event_params  \\\n",
       "0      [{'key': 'level_name', 'value': {'string_value...   \n",
       "1      [{'key': 'level_name', 'value': {'string_value...   \n",
       "2      [{'key': 'level_name', 'value': {'string_value...   \n",
       "3      [{'key': 'level_name', 'value': {'string_value...   \n",
       "4      [{'key': 'level_name', 'value': {'string_value...   \n",
       "...                                                  ...   \n",
       "49995  [{'key': 'click_timestamp', 'value': {'string_...   \n",
       "49996  [{'key': 'firebase_screen_id', 'value': {'stri...   \n",
       "49997  [{'key': 'firebase_screen_id', 'value': {'stri...   \n",
       "49998  [{'key': 'firebase_screen_id', 'value': {'stri...   \n",
       "49999  [{'key': 'firebase_screen_id', 'value': {'stri...   \n",
       "\n",
       "       event_previous_timestamp  event_value_in_usd  event_bundle_sequence_id  \\\n",
       "0          1536267608835002.000                 nan                      1300   \n",
       "1          1536730717868013.000                 nan                      1300   \n",
       "2          1536730854993035.000                 nan                      1300   \n",
       "3          1536730995696048.000                 nan                      1300   \n",
       "4          1536731112970060.000                 nan                      1300   \n",
       "...                         ...                 ...                       ...   \n",
       "49995                       nan                 nan                         2   \n",
       "49996      1536681989959005.000                 nan                         2   \n",
       "49997      1536681986387002.000                 nan                         2   \n",
       "49998                       nan                 nan                         2   \n",
       "49999      1536681987978001.000                 nan                         2   \n",
       "\n",
       "       event_server_timestamp_offset user_id  \\\n",
       "0                            1177637    None   \n",
       "1                            1177637    None   \n",
       "2                            1177637    None   \n",
       "3                            1177637    None   \n",
       "4                            1177637    None   \n",
       "...                              ...     ...   \n",
       "49995                        1111888    None   \n",
       "49996                        1111888    None   \n",
       "49997                        1111888    None   \n",
       "49998                        1111888    None   \n",
       "49999                        1111888    None   \n",
       "\n",
       "                         user_pseudo_id  \\\n",
       "0      49E9C6C52FBDE2759897A72EB7C37165   \n",
       "1      49E9C6C52FBDE2759897A72EB7C37165   \n",
       "2      49E9C6C52FBDE2759897A72EB7C37165   \n",
       "3      49E9C6C52FBDE2759897A72EB7C37165   \n",
       "4      49E9C6C52FBDE2759897A72EB7C37165   \n",
       "...                                 ...   \n",
       "49995  95B590F12E8E14749D6634ACD4AF518F   \n",
       "49996  95B590F12E8E14749D6634ACD4AF518F   \n",
       "49997  95B590F12E8E14749D6634ACD4AF518F   \n",
       "49998  95B590F12E8E14749D6634ACD4AF518F   \n",
       "49999  95B590F12E8E14749D6634ACD4AF518F   \n",
       "\n",
       "                                         user_properties  \\\n",
       "0      [{'key': 'ad_frequency', 'value': {'string_val...   \n",
       "1      [{'key': 'ad_frequency', 'value': {'string_val...   \n",
       "2      [{'key': 'ad_frequency', 'value': {'string_val...   \n",
       "3      [{'key': 'ad_frequency', 'value': {'string_val...   \n",
       "4      [{'key': 'ad_frequency', 'value': {'string_val...   \n",
       "...                                                  ...   \n",
       "49995  [{'key': 'first_open_time', 'value': {'string_...   \n",
       "49996  [{'key': 'first_open_time', 'value': {'string_...   \n",
       "49997  [{'key': 'first_open_time', 'value': {'string_...   \n",
       "49998  [{'key': 'first_open_time', 'value': {'string_...   \n",
       "49999  [{'key': 'first_open_time', 'value': {'string_...   \n",
       "\n",
       "       user_first_touch_timestamp user_ltv  \\\n",
       "0                1482572812736000     None   \n",
       "1                1482572812736000     None   \n",
       "2                1482572812736000     None   \n",
       "3                1482572812736000     None   \n",
       "4                1482572812736000     None   \n",
       "...                           ...      ...   \n",
       "49995            1536682077387000     None   \n",
       "49996            1536682077387000     None   \n",
       "49997            1536682077387000     None   \n",
       "49998            1536682077387000     None   \n",
       "49999            1536682077387000     None   \n",
       "\n",
       "                                                  device  \\\n",
       "0      {'category': 'mobile', 'mobile_brand_name': 'n...   \n",
       "1      {'category': 'mobile', 'mobile_brand_name': 'n...   \n",
       "2      {'category': 'mobile', 'mobile_brand_name': 'n...   \n",
       "3      {'category': 'mobile', 'mobile_brand_name': 'n...   \n",
       "4      {'category': 'mobile', 'mobile_brand_name': 'n...   \n",
       "...                                                  ...   \n",
       "49995  {'category': 'mobile', 'mobile_brand_name': 'n...   \n",
       "49996  {'category': 'mobile', 'mobile_brand_name': 'n...   \n",
       "49997  {'category': 'mobile', 'mobile_brand_name': 'n...   \n",
       "49998  {'category': 'mobile', 'mobile_brand_name': 'n...   \n",
       "49999  {'category': 'mobile', 'mobile_brand_name': 'n...   \n",
       "\n",
       "                                                     geo  \\\n",
       "0      {'continent': 'Asia', 'country': 'Taiwan', 're...   \n",
       "1      {'continent': 'Asia', 'country': 'Taiwan', 're...   \n",
       "2      {'continent': 'Asia', 'country': 'Taiwan', 're...   \n",
       "3      {'continent': 'Asia', 'country': 'Taiwan', 're...   \n",
       "4      {'continent': 'Asia', 'country': 'Taiwan', 're...   \n",
       "...                                                  ...   \n",
       "49995  {'continent': 'Asia', 'country': 'India', 'reg...   \n",
       "49996  {'continent': 'Asia', 'country': 'India', 'reg...   \n",
       "49997  {'continent': 'Asia', 'country': 'India', 'reg...   \n",
       "49998  {'continent': 'Asia', 'country': 'India', 'reg...   \n",
       "49999  {'continent': 'Asia', 'country': 'India', 'reg...   \n",
       "\n",
       "                                                app_info  \\\n",
       "0      {'id': 'com.labpixies.flood', 'version': '2.62...   \n",
       "1      {'id': 'com.labpixies.flood', 'version': '2.62...   \n",
       "2      {'id': 'com.labpixies.flood', 'version': '2.62...   \n",
       "3      {'id': 'com.labpixies.flood', 'version': '2.62...   \n",
       "4      {'id': 'com.labpixies.flood', 'version': '2.62...   \n",
       "...                                                  ...   \n",
       "49995  {'id': 'com.labpixies.flood', 'version': '2.62...   \n",
       "49996  {'id': 'com.labpixies.flood', 'version': '2.62...   \n",
       "49997  {'id': 'com.labpixies.flood', 'version': '2.62...   \n",
       "49998  {'id': 'com.labpixies.flood', 'version': '2.62...   \n",
       "49999  {'id': 'com.labpixies.flood', 'version': '2.62...   \n",
       "\n",
       "                                          traffic_source   stream_id platform  \\\n",
       "0      {'name': '(direct)', 'medium': '(none)', 'sour...  1051193346  ANDROID   \n",
       "1      {'name': '(direct)', 'medium': '(none)', 'sour...  1051193346  ANDROID   \n",
       "2      {'name': '(direct)', 'medium': '(none)', 'sour...  1051193346  ANDROID   \n",
       "3      {'name': '(direct)', 'medium': '(none)', 'sour...  1051193346  ANDROID   \n",
       "4      {'name': '(direct)', 'medium': '(none)', 'sour...  1051193346  ANDROID   \n",
       "...                                                  ...         ...      ...   \n",
       "49995  {'name': None, 'medium': 'organic', 'source': ...  1051193346  ANDROID   \n",
       "49996  {'name': None, 'medium': 'organic', 'source': ...  1051193346  ANDROID   \n",
       "49997  {'name': None, 'medium': 'organic', 'source': ...  1051193346  ANDROID   \n",
       "49998  {'name': None, 'medium': 'organic', 'source': ...  1051193346  ANDROID   \n",
       "49999  {'name': None, 'medium': 'organic', 'source': ...  1051193346  ANDROID   \n",
       "\n",
       "      event_dimensions  \n",
       "0                 None  \n",
       "1                 None  \n",
       "2                 None  \n",
       "3                 None  \n",
       "4                 None  \n",
       "...                ...  \n",
       "49995             None  \n",
       "49996             None  \n",
       "49997             None  \n",
       "49998             None  \n",
       "49999             None  \n",
       "\n",
       "[50000 rows x 20 columns]"
      ]
     },
     "execution_count": 9,
     "metadata": {},
     "output_type": "execute_result"
    }
   ],
   "source": [
    "%%bigquery --project $PROJECT_ID\n",
    "\n",
    "SELECT \n",
    "    *\n",
    "FROM\n",
    "  `firebase-public-project.analytics_153293282.events_*`\n",
    "    \n",
    "TABLESAMPLE SYSTEM (1 PERCENT)"
   ]
  },
  {
   "cell_type": "markdown",
   "metadata": {
    "id": "PYBMN963Qydl"
   },
   "source": [
    "It may be helpful to take a look at the overall schema used in Google Analytics 4. As mentioned earlier, Google Analytics 4 uses an event based measurement model and each row in this dataset is an event. [Click here](https://support.google.com/analytics/answer/7029846) to view the complete schema and details about each column. As you can see above, certain columns are nested records and contain detailed information:\n"
   ]
  },
  {
   "cell_type": "markdown",
   "metadata": {
    "id": "IaM8co6eRsOp"
   },
   "source": [
    "\n",
    "* `app_info`\n",
    "* `device`\n",
    "* `ecommerce`\n",
    "* `event_params`\n",
    "* `geo`\n",
    "* `traffic_source`\n",
    "* `user_properties`\n",
    "* `items`*\n",
    "* `web_info`*\n",
    "\n",
    "_* present by default in GA4 datasets_"
   ]
  },
  {
   "cell_type": "markdown",
   "metadata": {
    "id": "dLUv-7xNRhAj"
   },
   "source": [
    "As we can see below, there are 15K users and 5.7M events in this dataset:"
   ]
  },
  {
   "cell_type": "code",
   "execution_count": 10,
   "metadata": {
    "colab": {
     "base_uri": "https://localhost:8080/",
     "height": 77
    },
    "id": "MjqKMGVDRPyZ",
    "outputId": "6c0d76c7-ad92-40de-a689-365867b23281"
   },
   "outputs": [
    {
     "name": "stderr",
     "output_type": "stream",
     "text": [
      "Query complete after 0.00s: 100%|██████████| 4/4 [00:00<00:00, 1447.56query/s]                        \n",
      "Downloading: 100%|██████████| 1/1 [00:01<00:00,  1.43s/rows]\n"
     ]
    },
    {
     "data": {
      "text/html": [
       "<div>\n",
       "<style scoped>\n",
       "    .dataframe tbody tr th:only-of-type {\n",
       "        vertical-align: middle;\n",
       "    }\n",
       "\n",
       "    .dataframe tbody tr th {\n",
       "        vertical-align: top;\n",
       "    }\n",
       "\n",
       "    .dataframe thead th {\n",
       "        text-align: right;\n",
       "    }\n",
       "</style>\n",
       "<table border=\"1\" class=\"dataframe\">\n",
       "  <thead>\n",
       "    <tr style=\"text-align: right;\">\n",
       "      <th></th>\n",
       "      <th>count_distinct_users</th>\n",
       "      <th>count_events</th>\n",
       "    </tr>\n",
       "  </thead>\n",
       "  <tbody>\n",
       "    <tr>\n",
       "      <th>0</th>\n",
       "      <td>15175</td>\n",
       "      <td>5700000</td>\n",
       "    </tr>\n",
       "  </tbody>\n",
       "</table>\n",
       "</div>"
      ],
      "text/plain": [
       "   count_distinct_users  count_events\n",
       "0                 15175       5700000"
      ]
     },
     "execution_count": 10,
     "metadata": {},
     "output_type": "execute_result"
    }
   ],
   "source": [
    "%%bigquery --project $PROJECT_ID\n",
    "\n",
    "SELECT \n",
    "    COUNT(DISTINCT user_pseudo_id) as count_distinct_users,\n",
    "    COUNT(event_timestamp) as count_events\n",
    "FROM\n",
    "  `firebase-public-project.analytics_153293282.events_*`"
   ]
  },
  {
   "cell_type": "markdown",
   "metadata": {
    "id": "3iHaV9-q1k1i"
   },
   "source": [
    "### Preparing the training data"
   ]
  },
  {
   "cell_type": "markdown",
   "metadata": {
    "id": "P358Jo_s8WC0"
   },
   "source": [
    "You cannot simply use raw event data to train a machine learning model as it would not be in the right shape and format to use as training data. So in this section, you will learn how to pre-process the raw data into an appropriate format to use as training data for classification models.\n"
   ]
  },
  {
   "cell_type": "markdown",
   "metadata": {
    "id": "eXl1kSh1yPXk"
   },
   "source": [
    "To predict which user is going to _churn_ or _return_, the ideal training data format for classification should look like the following:  \n"
   ]
  },
  {
   "cell_type": "markdown",
   "metadata": {
    "id": "Xv8ibjMNy_bV"
   },
   "source": [
    "|User ID|User demographic data|User behavioral data|Churned|\n",
    "|-|-|-|-|\n",
    "|User1|(e.g., country, device_type)|(e.g., # of times they did something within a time period)|1\n",
    "|User2|(e.g., country, device_type)|(e.g., # of times they did something within a time period)|0\n",
    "|User3|(e.g., country, device_type)|(e.g., # of times they did something within a time period)|1\n"
   ]
  },
  {
   "cell_type": "markdown",
   "metadata": {
    "id": "HydYCB2jzrzn"
   },
   "source": [
    "Characteristics of the training data:\n",
    "- each row is a separate unique user ID\n",
    "- feature(s) for **demographic data**\n",
    "- feature(s) for **behavioral data**\n",
    "- the actual **label** that you want to train the model to predict (e.g., 1 = churned, 0 = returned)\n",
    "\n",
    "You can train a model with only demographic data or behavioral data, but having a combination of both will likely help you create a more predictive model. For this reason, in this section, you will learn how to pre-process the raw data to follow this training data format."
   ]
  },
  {
   "cell_type": "markdown",
   "metadata": {
    "id": "ICpTsrfg2-Cw"
   },
   "source": [
    "The following sections will walk you through preparing the demographic data, behavioral data, and the label before joining them all together as the training data.\n",
    "\n",
    "1. Identifying the label for each user (churned or returned)\n",
    "1. Extracting demographic data for each user\n",
    "1. Extracting behavioral data for each user\n",
    "1. Combining the label, demographic and behavioral data together as training data"
   ]
  },
  {
   "cell_type": "markdown",
   "metadata": {
    "id": "ZYHefnNx21lO"
   },
   "source": [
    "#### Step 1: Identifying the label for each user"
   ]
  },
  {
   "cell_type": "markdown",
   "metadata": {
    "id": "Qt6a5Kv-25iq"
   },
   "source": [
    "The raw dataset doesn't have a feature that simply identifies users as \"churned\" or \"returned\", so in this section, you will need to create this label based on some of the existing columns."
   ]
  },
  {
   "cell_type": "markdown",
   "metadata": {
    "id": "lgqxD30Hl6FM"
   },
   "source": [
    "There are many ways to define user churn, but for the purposes of this notebook, you will predict 1-day churn as users who do not come back and use the app again after 24 hr of the user's first engagement. \n",
    "\n",
    "In other words, after 24 hr of a user's first engagement with the app:\n",
    "- if the user _shows no event data thereafter_, the user is considered **churned**. \n",
    "- if the user _does have at least one event datapoint thereafter_, then the user is considered **returned**\n",
    "\n",
    "You may also want to remove users who were unlikely to have ever returned anyway after spending just a few minutes with the app, which is sometimes referred to as \"bouncing\". For example, we can say want to build our model only on users who spent at least 10 minutes with the app (users who didn't bounce).\n",
    "\n",
    "So your updated definition of a **churned user** for this notebook is:\n",
    "> \"any user who spent at least 10 minutes on the app, but after 24 hour from when they first engaged with the app, never used the app again\"\n"
   ]
  },
  {
   "cell_type": "markdown",
   "metadata": {
    "id": "_YyxwMQQ1uQW"
   },
   "source": [
    "In SQL, since the raw data contains all of the events for every user, from their first touch (app installation) to their last touch, you can use this information to create two columns: `churned` and `bounced`.\n"
   ]
  },
  {
   "cell_type": "markdown",
   "metadata": {
    "id": "d_JCCtuZVzne"
   },
   "source": [
    "Take a look at the following SQL query and the results:"
   ]
  },
  {
   "cell_type": "code",
   "execution_count": 11,
   "metadata": {
    "colab": {
     "base_uri": "https://localhost:8080/",
     "height": 531
    },
    "id": "_QQO3POV2EQ4",
    "outputId": "8369d0bd-8527-42bd-d1c6-aa8e4c380cb0"
   },
   "outputs": [
    {
     "name": "stderr",
     "output_type": "stream",
     "text": [
      "Query complete after 0.01s: 100%|██████████| 1/1 [00:00<00:00, 663.45query/s] \n",
      "Downloading: 100%|██████████| 10/10 [00:01<00:00,  5.62rows/s]\n"
     ]
    },
    {
     "data": {
      "text/html": [
       "<div>\n",
       "<style scoped>\n",
       "    .dataframe tbody tr th:only-of-type {\n",
       "        vertical-align: middle;\n",
       "    }\n",
       "\n",
       "    .dataframe tbody tr th {\n",
       "        vertical-align: top;\n",
       "    }\n",
       "\n",
       "    .dataframe thead th {\n",
       "        text-align: right;\n",
       "    }\n",
       "</style>\n",
       "<table border=\"1\" class=\"dataframe\">\n",
       "  <thead>\n",
       "    <tr style=\"text-align: right;\">\n",
       "      <th></th>\n",
       "      <th>user_pseudo_id</th>\n",
       "      <th>user_first_engagement</th>\n",
       "      <th>user_last_engagement</th>\n",
       "      <th>ts_24hr_after_first_engagement</th>\n",
       "      <th>churned</th>\n",
       "      <th>bounced</th>\n",
       "    </tr>\n",
       "  </thead>\n",
       "  <tbody>\n",
       "    <tr>\n",
       "      <th>0</th>\n",
       "      <td>F7440C5660BC904383AFC518162113D0</td>\n",
       "      <td>2018-07-24 09:18:27.256001+00:00</td>\n",
       "      <td>2018-09-18 00:52:12.096003+00:00</td>\n",
       "      <td>2018-07-25 09:18:27.256001+00:00</td>\n",
       "      <td>0</td>\n",
       "      <td>0</td>\n",
       "    </tr>\n",
       "    <tr>\n",
       "      <th>1</th>\n",
       "      <td>6A2F4E7AB1816D2F6EC741BC92141766</td>\n",
       "      <td>2018-07-31 09:57:47.415001+00:00</td>\n",
       "      <td>2018-08-20 09:42:09.136007+00:00</td>\n",
       "      <td>2018-08-01 09:57:47.415001+00:00</td>\n",
       "      <td>0</td>\n",
       "      <td>0</td>\n",
       "    </tr>\n",
       "    <tr>\n",
       "      <th>2</th>\n",
       "      <td>7842C62D45ECE888132F21C9F4417B21</td>\n",
       "      <td>2018-06-18 20:37:40.703004+00:00</td>\n",
       "      <td>2018-09-29 19:54:35.634027+00:00</td>\n",
       "      <td>2018-06-19 20:37:40.703004+00:00</td>\n",
       "      <td>0</td>\n",
       "      <td>0</td>\n",
       "    </tr>\n",
       "    <tr>\n",
       "      <th>3</th>\n",
       "      <td>310D44D95961BF9754C9948AF6F437EA</td>\n",
       "      <td>2018-08-02 08:28:05.541001+00:00</td>\n",
       "      <td>2018-08-03 04:32:55.958191+00:00</td>\n",
       "      <td>2018-08-03 08:28:05.541001+00:00</td>\n",
       "      <td>1</td>\n",
       "      <td>0</td>\n",
       "    </tr>\n",
       "    <tr>\n",
       "      <th>4</th>\n",
       "      <td>BD23A737D75442D2C32CE2259D15D624</td>\n",
       "      <td>2018-07-05 21:04:26.811001+00:00</td>\n",
       "      <td>2018-08-18 22:25:24.778006+00:00</td>\n",
       "      <td>2018-07-06 21:04:26.811001+00:00</td>\n",
       "      <td>0</td>\n",
       "      <td>0</td>\n",
       "    </tr>\n",
       "    <tr>\n",
       "      <th>5</th>\n",
       "      <td>257A35EA0A92B4B2F8FB4BA3F8B4C3D8</td>\n",
       "      <td>2018-07-01 23:32:38.536001+00:00</td>\n",
       "      <td>2018-08-03 00:56:55.450112+00:00</td>\n",
       "      <td>2018-07-02 23:32:38.536001+00:00</td>\n",
       "      <td>0</td>\n",
       "      <td>0</td>\n",
       "    </tr>\n",
       "    <tr>\n",
       "      <th>6</th>\n",
       "      <td>7392FB7027578690D48268EE642A3895</td>\n",
       "      <td>2018-07-29 18:08:37.469001+00:00</td>\n",
       "      <td>2018-10-04 06:17:21.585006+00:00</td>\n",
       "      <td>2018-07-30 18:08:37.469001+00:00</td>\n",
       "      <td>0</td>\n",
       "      <td>0</td>\n",
       "    </tr>\n",
       "    <tr>\n",
       "      <th>7</th>\n",
       "      <td>171871CA6AF9A891FB7B3E19CD144B2E</td>\n",
       "      <td>2018-08-02 05:14:40.959003+00:00</td>\n",
       "      <td>2018-08-02 16:04:05.413015+00:00</td>\n",
       "      <td>2018-08-03 05:14:40.959003+00:00</td>\n",
       "      <td>1</td>\n",
       "      <td>0</td>\n",
       "    </tr>\n",
       "    <tr>\n",
       "      <th>8</th>\n",
       "      <td>7A70E6F261CE349D5E9EE5DDFAAB0EAD</td>\n",
       "      <td>2018-07-31 05:21:20.655001+00:00</td>\n",
       "      <td>2018-08-06 01:31:47.898036+00:00</td>\n",
       "      <td>2018-08-01 05:21:20.655001+00:00</td>\n",
       "      <td>0</td>\n",
       "      <td>0</td>\n",
       "    </tr>\n",
       "    <tr>\n",
       "      <th>9</th>\n",
       "      <td>7410C5CC4FA11D31DB5F9B1D8ECD6BD0</td>\n",
       "      <td>2018-06-13 16:16:58.678010+00:00</td>\n",
       "      <td>2018-09-28 13:00:54.883000+00:00</td>\n",
       "      <td>2018-06-14 16:16:58.678010+00:00</td>\n",
       "      <td>0</td>\n",
       "      <td>0</td>\n",
       "    </tr>\n",
       "  </tbody>\n",
       "</table>\n",
       "</div>"
      ],
      "text/plain": [
       "                     user_pseudo_id            user_first_engagement  \\\n",
       "0  F7440C5660BC904383AFC518162113D0 2018-07-24 09:18:27.256001+00:00   \n",
       "1  6A2F4E7AB1816D2F6EC741BC92141766 2018-07-31 09:57:47.415001+00:00   \n",
       "2  7842C62D45ECE888132F21C9F4417B21 2018-06-18 20:37:40.703004+00:00   \n",
       "3  310D44D95961BF9754C9948AF6F437EA 2018-08-02 08:28:05.541001+00:00   \n",
       "4  BD23A737D75442D2C32CE2259D15D624 2018-07-05 21:04:26.811001+00:00   \n",
       "5  257A35EA0A92B4B2F8FB4BA3F8B4C3D8 2018-07-01 23:32:38.536001+00:00   \n",
       "6  7392FB7027578690D48268EE642A3895 2018-07-29 18:08:37.469001+00:00   \n",
       "7  171871CA6AF9A891FB7B3E19CD144B2E 2018-08-02 05:14:40.959003+00:00   \n",
       "8  7A70E6F261CE349D5E9EE5DDFAAB0EAD 2018-07-31 05:21:20.655001+00:00   \n",
       "9  7410C5CC4FA11D31DB5F9B1D8ECD6BD0 2018-06-13 16:16:58.678010+00:00   \n",
       "\n",
       "              user_last_engagement   ts_24hr_after_first_engagement  churned  \\\n",
       "0 2018-09-18 00:52:12.096003+00:00 2018-07-25 09:18:27.256001+00:00        0   \n",
       "1 2018-08-20 09:42:09.136007+00:00 2018-08-01 09:57:47.415001+00:00        0   \n",
       "2 2018-09-29 19:54:35.634027+00:00 2018-06-19 20:37:40.703004+00:00        0   \n",
       "3 2018-08-03 04:32:55.958191+00:00 2018-08-03 08:28:05.541001+00:00        1   \n",
       "4 2018-08-18 22:25:24.778006+00:00 2018-07-06 21:04:26.811001+00:00        0   \n",
       "5 2018-08-03 00:56:55.450112+00:00 2018-07-02 23:32:38.536001+00:00        0   \n",
       "6 2018-10-04 06:17:21.585006+00:00 2018-07-30 18:08:37.469001+00:00        0   \n",
       "7 2018-08-02 16:04:05.413015+00:00 2018-08-03 05:14:40.959003+00:00        1   \n",
       "8 2018-08-06 01:31:47.898036+00:00 2018-08-01 05:21:20.655001+00:00        0   \n",
       "9 2018-09-28 13:00:54.883000+00:00 2018-06-14 16:16:58.678010+00:00        0   \n",
       "\n",
       "   bounced  \n",
       "0        0  \n",
       "1        0  \n",
       "2        0  \n",
       "3        0  \n",
       "4        0  \n",
       "5        0  \n",
       "6        0  \n",
       "7        0  \n",
       "8        0  \n",
       "9        0  "
      ]
     },
     "execution_count": 11,
     "metadata": {},
     "output_type": "execute_result"
    }
   ],
   "source": [
    "%%bigquery --project $PROJECT_ID \n",
    "\n",
    "CREATE OR REPLACE VIEW bqmlga4.returningusers AS (\n",
    "  WITH firstlasttouch AS (\n",
    "    SELECT\n",
    "      user_pseudo_id,\n",
    "      TIMESTAMP_MICROS(MIN(event_timestamp)) AS user_first_engagement,\n",
    "      TIMESTAMP_MICROS(MAX(event_timestamp)) AS user_last_engagement\n",
    "    FROM\n",
    "      `firebase-public-project.analytics_153293282.events_*`\n",
    "    WHERE event_name=\"user_engagement\"\n",
    "    GROUP BY\n",
    "      user_pseudo_id\n",
    "\n",
    "  )\n",
    "  SELECT\n",
    "    user_pseudo_id,\n",
    "    user_first_engagement,\n",
    "    user_last_engagement,\n",
    "\n",
    "    #add 24 hr to user's first touch\n",
    "    TIMESTAMP_ADD(user_first_engagement, INTERVAL 24 HOUR\n",
    "                  ) AS ts_24hr_after_first_engagement,\n",
    "\n",
    "#churned = 1 if last_touch within 24 hr of app installation, else 0\n",
    "IF (user_last_engagement < TIMESTAMP_ADD(user_first_engagement, \n",
    "      INTERVAL 24 HOUR),\n",
    "    1,\n",
    "    0 ) AS churned,\n",
    "\n",
    "#bounced = 1 if last_touch within 10 min, else 0\n",
    "IF (user_last_engagement <= TIMESTAMP_ADD(user_first_engagement, \n",
    "      INTERVAL 10 MINUTE),\n",
    "    1,\n",
    "    0 ) AS bounced,\n",
    "  FROM\n",
    "    firstlasttouch\n",
    "  GROUP BY\n",
    "    1,2,3\n",
    "    );\n",
    "\n",
    "SELECT \n",
    "  * \n",
    "FROM \n",
    "  bqmlga4.returningusers \n",
    "LIMIT 10;"
   ]
  },
  {
   "cell_type": "markdown",
   "metadata": {
    "id": "FOoqPb2J2Q5f"
   },
   "source": [
    "For the `churned` column, `churned=0` if the user performs an action after 24 hours since their first touch, otherwise if their last action was only within the first 24 hours, then `churned=1`.\n"
   ]
  },
  {
   "cell_type": "markdown",
   "metadata": {
    "id": "sC3sIc0C2a4Z"
   },
   "source": [
    "For the `bounced` column, `bounced=1` if the user's last action was within the first ten minutes since their first touch with the app, otherwise `bounced=0`. We can use this column to filter our training data later on, by conditionally querying for users where `bounced = 0`."
   ]
  },
  {
   "cell_type": "markdown",
   "metadata": {
    "id": "ulbfb8SY2fSM"
   },
   "source": [
    "You might wonder how many of these 15k users bounced and returned? You can run the following query to check:"
   ]
  },
  {
   "cell_type": "code",
   "execution_count": 12,
   "metadata": {
    "colab": {
     "base_uri": "https://localhost:8080/",
     "height": 136
    },
    "id": "gC32zyIE2olw",
    "outputId": "6c51e523-0a4f-4a8d-a4c4-e0f7f0131925"
   },
   "outputs": [
    {
     "name": "stderr",
     "output_type": "stream",
     "text": [
      "Query complete after 0.00s: 100%|██████████| 5/5 [00:00<00:00, 1395.22query/s]                        \n",
      "Downloading: 100%|██████████| 3/3 [00:01<00:00,  1.77rows/s]\n"
     ]
    },
    {
     "data": {
      "text/html": [
       "<div>\n",
       "<style scoped>\n",
       "    .dataframe tbody tr th:only-of-type {\n",
       "        vertical-align: middle;\n",
       "    }\n",
       "\n",
       "    .dataframe tbody tr th {\n",
       "        vertical-align: top;\n",
       "    }\n",
       "\n",
       "    .dataframe thead th {\n",
       "        text-align: right;\n",
       "    }\n",
       "</style>\n",
       "<table border=\"1\" class=\"dataframe\">\n",
       "  <thead>\n",
       "    <tr style=\"text-align: right;\">\n",
       "      <th></th>\n",
       "      <th>bounced</th>\n",
       "      <th>churned</th>\n",
       "      <th>count_users</th>\n",
       "    </tr>\n",
       "  </thead>\n",
       "  <tbody>\n",
       "    <tr>\n",
       "      <th>0</th>\n",
       "      <td>0</td>\n",
       "      <td>0</td>\n",
       "      <td>6148</td>\n",
       "    </tr>\n",
       "    <tr>\n",
       "      <th>1</th>\n",
       "      <td>0</td>\n",
       "      <td>1</td>\n",
       "      <td>1883</td>\n",
       "    </tr>\n",
       "    <tr>\n",
       "      <th>2</th>\n",
       "      <td>1</td>\n",
       "      <td>1</td>\n",
       "      <td>5557</td>\n",
       "    </tr>\n",
       "  </tbody>\n",
       "</table>\n",
       "</div>"
      ],
      "text/plain": [
       "   bounced  churned  count_users\n",
       "0        0        0         6148\n",
       "1        0        1         1883\n",
       "2        1        1         5557"
      ]
     },
     "execution_count": 12,
     "metadata": {},
     "output_type": "execute_result"
    }
   ],
   "source": [
    "%%bigquery --project $PROJECT_ID\n",
    "\n",
    "SELECT\n",
    "    bounced,\n",
    "    churned, \n",
    "    COUNT(churned) as count_users\n",
    "FROM\n",
    "    bqmlga4.returningusers\n",
    "GROUP BY 1,2\n",
    "ORDER BY bounced"
   ]
  },
  {
   "cell_type": "markdown",
   "metadata": {
    "id": "Z29RsKJi2uwO"
   },
   "source": [
    "For the training data, you will only end up using data where `bounced = 0`. Based on the 15k users, you can see that 5,557 (\\~41%) users bounced within the first ten minutes of their first engagement with the app, but of the remaining 8,031 users, 1,883 users (\\~23%) churned after 24 hours."
   ]
  },
  {
   "cell_type": "code",
   "execution_count": 13,
   "metadata": {
    "colab": {
     "base_uri": "https://localhost:8080/",
     "height": 77
    },
    "id": "ZStzVtgEIkzh",
    "outputId": "15b2abb5-f966-4363-f7f6-b676f6b521b8"
   },
   "outputs": [
    {
     "name": "stderr",
     "output_type": "stream",
     "text": [
      "Query complete after 0.00s: 100%|██████████| 4/4 [00:00<00:00, 1195.47query/s]                        \n",
      "Downloading: 100%|██████████| 1/1 [00:01<00:00,  1.40s/rows]\n"
     ]
    },
    {
     "data": {
      "text/html": [
       "<div>\n",
       "<style scoped>\n",
       "    .dataframe tbody tr th:only-of-type {\n",
       "        vertical-align: middle;\n",
       "    }\n",
       "\n",
       "    .dataframe tbody tr th {\n",
       "        vertical-align: top;\n",
       "    }\n",
       "\n",
       "    .dataframe thead th {\n",
       "        text-align: right;\n",
       "    }\n",
       "</style>\n",
       "<table border=\"1\" class=\"dataframe\">\n",
       "  <thead>\n",
       "    <tr style=\"text-align: right;\">\n",
       "      <th></th>\n",
       "      <th>churn_rate</th>\n",
       "    </tr>\n",
       "  </thead>\n",
       "  <tbody>\n",
       "    <tr>\n",
       "      <th>0</th>\n",
       "      <td>0.234</td>\n",
       "    </tr>\n",
       "  </tbody>\n",
       "</table>\n",
       "</div>"
      ],
      "text/plain": [
       "   churn_rate\n",
       "0       0.234"
      ]
     },
     "execution_count": 13,
     "metadata": {},
     "output_type": "execute_result"
    }
   ],
   "source": [
    "%%bigquery --project $PROJECT_ID\n",
    "\n",
    "SELECT\n",
    "    COUNTIF(churned=1)/COUNT(churned) as churn_rate\n",
    "FROM\n",
    "    bqmlga4.returningusers\n",
    "WHERE bounced = 0"
   ]
  },
  {
   "cell_type": "markdown",
   "metadata": {
    "id": "daSQViux_XWR"
   },
   "source": [
    "#### Step 2. Extracting demographic data for each user"
   ]
  },
  {
   "cell_type": "markdown",
   "metadata": {
    "id": "qcC2JJ6W_-sb"
   },
   "source": [
    "This section is focused on extracting the demographic information for each user. Different demographic information about the user is available in the dataset already, including `app_info`, `device`, `ecommerce`, `event_params`, `geo`. Demographic features can help the model predict whether users on certain devices or countries are more likely to churn.\n",
    "\n",
    "For this notebook, you can start just with `geo.country`, `device.operating_system`, and `device.language`. If you are using your own dataset and have joinable first-party data, this section is a good opportunity to add any additional attributes for each user that may not be readily available in Google Analytics 4.\n",
    "\n",
    "Note that a user's demographics may occasionally change (e.g. moving from one country to another). For simplicity, you will just use the demographic information that Google Analytics 4 provides when the user first engaged with the app as indicated by `MIN(event_timestamp)`. This enables every unique user to be represented by a single row."
   ]
  },
  {
   "cell_type": "code",
   "execution_count": 14,
   "metadata": {
    "colab": {
     "base_uri": "https://localhost:8080/",
     "height": 343
    },
    "id": "gc47WFyM_5nQ",
    "outputId": "5c545aef-eaa8-451e-8443-38461d2c9923"
   },
   "outputs": [
    {
     "name": "stderr",
     "output_type": "stream",
     "text": [
      "Query complete after 0.00s: 100%|██████████| 1/1 [00:00<00:00, 662.92query/s] \n",
      "Downloading: 100%|██████████| 10/10 [00:01<00:00,  7.79rows/s]\n"
     ]
    },
    {
     "data": {
      "text/html": [
       "<div>\n",
       "<style scoped>\n",
       "    .dataframe tbody tr th:only-of-type {\n",
       "        vertical-align: middle;\n",
       "    }\n",
       "\n",
       "    .dataframe tbody tr th {\n",
       "        vertical-align: top;\n",
       "    }\n",
       "\n",
       "    .dataframe thead th {\n",
       "        text-align: right;\n",
       "    }\n",
       "</style>\n",
       "<table border=\"1\" class=\"dataframe\">\n",
       "  <thead>\n",
       "    <tr style=\"text-align: right;\">\n",
       "      <th></th>\n",
       "      <th>user_pseudo_id</th>\n",
       "      <th>country</th>\n",
       "      <th>operating_system</th>\n",
       "      <th>language</th>\n",
       "    </tr>\n",
       "  </thead>\n",
       "  <tbody>\n",
       "    <tr>\n",
       "      <th>0</th>\n",
       "      <td>0002B103EB7E4844DAA75700C57E820E</td>\n",
       "      <td>China</td>\n",
       "      <td>IOS</td>\n",
       "      <td>zh-hans-cn</td>\n",
       "    </tr>\n",
       "    <tr>\n",
       "      <th>1</th>\n",
       "      <td>0055BAC9EFA78604AA7BD8D7E57041C1</td>\n",
       "      <td>United States</td>\n",
       "      <td>IOS</td>\n",
       "      <td>en-us</td>\n",
       "    </tr>\n",
       "    <tr>\n",
       "      <th>2</th>\n",
       "      <td>00E878EB767C8B2AC001F40367A4B8DE</td>\n",
       "      <td>United States</td>\n",
       "      <td>IOS</td>\n",
       "      <td>en-us</td>\n",
       "    </tr>\n",
       "    <tr>\n",
       "      <th>3</th>\n",
       "      <td>02BDEEED9EC58C4DF3E3808CFF51C484</td>\n",
       "      <td>Ethiopia</td>\n",
       "      <td>IOS</td>\n",
       "      <td>en-us</td>\n",
       "    </tr>\n",
       "    <tr>\n",
       "      <th>4</th>\n",
       "      <td>03E05B9F728257B2F739CF0BB4497166</td>\n",
       "      <td>Mexico</td>\n",
       "      <td>IOS</td>\n",
       "      <td>es-mx</td>\n",
       "    </tr>\n",
       "    <tr>\n",
       "      <th>5</th>\n",
       "      <td>03EDD80C203A7F82951E2DF891F92EFE</td>\n",
       "      <td>Philippines</td>\n",
       "      <td>IOS</td>\n",
       "      <td>en-ph</td>\n",
       "    </tr>\n",
       "    <tr>\n",
       "      <th>6</th>\n",
       "      <td>0419B02595AE3DC9BBBEE618017DAE32</td>\n",
       "      <td>United States</td>\n",
       "      <td>IOS</td>\n",
       "      <td>en-us</td>\n",
       "    </tr>\n",
       "    <tr>\n",
       "      <th>7</th>\n",
       "      <td>0896F71BD17284AEC7C97C4841CB650F</td>\n",
       "      <td>Japan</td>\n",
       "      <td>IOS</td>\n",
       "      <td>ja-jp</td>\n",
       "    </tr>\n",
       "    <tr>\n",
       "      <th>8</th>\n",
       "      <td>0E10123B79C73F4F30CC49462652D604</td>\n",
       "      <td>Canada</td>\n",
       "      <td>IOS</td>\n",
       "      <td>en-ca</td>\n",
       "    </tr>\n",
       "    <tr>\n",
       "      <th>9</th>\n",
       "      <td>0E8FE385EA5F172D219A555FBFC6FFAF</td>\n",
       "      <td>India</td>\n",
       "      <td>ANDROID</td>\n",
       "      <td>en-gb</td>\n",
       "    </tr>\n",
       "  </tbody>\n",
       "</table>\n",
       "</div>"
      ],
      "text/plain": [
       "                     user_pseudo_id        country operating_system  \\\n",
       "0  0002B103EB7E4844DAA75700C57E820E          China              IOS   \n",
       "1  0055BAC9EFA78604AA7BD8D7E57041C1  United States              IOS   \n",
       "2  00E878EB767C8B2AC001F40367A4B8DE  United States              IOS   \n",
       "3  02BDEEED9EC58C4DF3E3808CFF51C484       Ethiopia              IOS   \n",
       "4  03E05B9F728257B2F739CF0BB4497166         Mexico              IOS   \n",
       "5  03EDD80C203A7F82951E2DF891F92EFE    Philippines              IOS   \n",
       "6  0419B02595AE3DC9BBBEE618017DAE32  United States              IOS   \n",
       "7  0896F71BD17284AEC7C97C4841CB650F          Japan              IOS   \n",
       "8  0E10123B79C73F4F30CC49462652D604         Canada              IOS   \n",
       "9  0E8FE385EA5F172D219A555FBFC6FFAF          India          ANDROID   \n",
       "\n",
       "     language  \n",
       "0  zh-hans-cn  \n",
       "1       en-us  \n",
       "2       en-us  \n",
       "3       en-us  \n",
       "4       es-mx  \n",
       "5       en-ph  \n",
       "6       en-us  \n",
       "7       ja-jp  \n",
       "8       en-ca  \n",
       "9       en-gb  "
      ]
     },
     "execution_count": 14,
     "metadata": {},
     "output_type": "execute_result"
    }
   ],
   "source": [
    "%%bigquery --project $PROJECT_ID\n",
    "\n",
    "CREATE OR REPLACE VIEW bqmlga4.user_demographics AS (\n",
    "\n",
    "  WITH first_values AS (\n",
    "      SELECT\n",
    "          user_pseudo_id,\n",
    "          geo.country as country,\n",
    "          device.operating_system as operating_system,\n",
    "          device.language as language,\n",
    "          ROW_NUMBER() OVER (PARTITION BY user_pseudo_id ORDER BY event_timestamp DESC) AS row_num\n",
    "      FROM `firebase-public-project.analytics_153293282.events_*`\n",
    "      WHERE event_name=\"user_engagement\"\n",
    "      )\n",
    "  SELECT * EXCEPT (row_num)\n",
    "  FROM first_values\n",
    "  WHERE row_num = 1\n",
    "  );\n",
    "\n",
    "SELECT\n",
    "  *\n",
    "FROM\n",
    "  bqmlga4.user_demographics\n",
    "LIMIT 10"
   ]
  },
  {
   "cell_type": "markdown",
   "metadata": {
    "id": "Nxv9yaTt2zD1"
   },
   "source": [
    "#### Step 3. Extracting behavioral data for each user"
   ]
  },
  {
   "cell_type": "markdown",
   "metadata": {
    "id": "c_9qPkVAfmpY"
   },
   "source": [
    "Behavioral data in the raw event data spans across multiple events -- and thus rows -- per user. The goal of this section is to aggregate and extract behavioral data for each user, resulting in one row of behavioral data per unique user.\n",
    "\n",
    "But what kind of behavioral data will you need to prepare? Since the end goal of this notebook is to predict, based on a user's activity within the first 24 hrs since app installation, whether that user will churn or return thereafter, then you will want to use behavioral data from the first 24 hrs in your training data. Later on, we can also extract some extra time-related features from `user_first_engagement`, such as the month or day of the first engagement.\n",
    "\n",
    "Google Analytics automatically collects [certain events](https://support.google.com/analytics/answer/6317485) that you can use to analyze behavior. In addition, there are certain recommended [events for games](https://support.google.com/analytics/answer/6317494). \n",
    "\n",
    "\n",
    "As a first step, you can explore all the unique events that exist in this dataset, based on `event_name`:"
   ]
  },
  {
   "cell_type": "code",
   "execution_count": 15,
   "metadata": {
    "colab": {
     "base_uri": "https://localhost:8080/",
     "height": 1000
    },
    "id": "XsXBNmeAf3fI",
    "outputId": "da0f4a32-83ba-42e5-c381-49178c44f5f1"
   },
   "outputs": [
    {
     "name": "stderr",
     "output_type": "stream",
     "text": [
      "Query complete after 0.00s: 100%|██████████| 3/3 [00:00<00:00, 938.53query/s]                         \n",
      "Downloading: 100%|██████████| 37/37 [00:01<00:00, 26.20rows/s]\n"
     ]
    },
    {
     "data": {
      "text/html": [
       "<div>\n",
       "<style scoped>\n",
       "    .dataframe tbody tr th:only-of-type {\n",
       "        vertical-align: middle;\n",
       "    }\n",
       "\n",
       "    .dataframe tbody tr th {\n",
       "        vertical-align: top;\n",
       "    }\n",
       "\n",
       "    .dataframe thead th {\n",
       "        text-align: right;\n",
       "    }\n",
       "</style>\n",
       "<table border=\"1\" class=\"dataframe\">\n",
       "  <thead>\n",
       "    <tr style=\"text-align: right;\">\n",
       "      <th></th>\n",
       "      <th>event_name</th>\n",
       "      <th>event_count</th>\n",
       "    </tr>\n",
       "  </thead>\n",
       "  <tbody>\n",
       "    <tr>\n",
       "      <th>0</th>\n",
       "      <td>screen_view</td>\n",
       "      <td>2247623</td>\n",
       "    </tr>\n",
       "    <tr>\n",
       "      <th>1</th>\n",
       "      <td>user_engagement</td>\n",
       "      <td>1358958</td>\n",
       "    </tr>\n",
       "    <tr>\n",
       "      <th>2</th>\n",
       "      <td>level_start_quickplay</td>\n",
       "      <td>523430</td>\n",
       "    </tr>\n",
       "    <tr>\n",
       "      <th>3</th>\n",
       "      <td>level_end_quickplay</td>\n",
       "      <td>349729</td>\n",
       "    </tr>\n",
       "    <tr>\n",
       "      <th>4</th>\n",
       "      <td>post_score</td>\n",
       "      <td>242051</td>\n",
       "    </tr>\n",
       "    <tr>\n",
       "      <th>5</th>\n",
       "      <td>level_complete_quickplay</td>\n",
       "      <td>191088</td>\n",
       "    </tr>\n",
       "    <tr>\n",
       "      <th>6</th>\n",
       "      <td>level_fail_quickplay</td>\n",
       "      <td>137035</td>\n",
       "    </tr>\n",
       "    <tr>\n",
       "      <th>7</th>\n",
       "      <td>level_reset_quickplay</td>\n",
       "      <td>122278</td>\n",
       "    </tr>\n",
       "    <tr>\n",
       "      <th>8</th>\n",
       "      <td>select_content</td>\n",
       "      <td>105139</td>\n",
       "    </tr>\n",
       "    <tr>\n",
       "      <th>9</th>\n",
       "      <td>level_start</td>\n",
       "      <td>74417</td>\n",
       "    </tr>\n",
       "    <tr>\n",
       "      <th>10</th>\n",
       "      <td>session_start</td>\n",
       "      <td>74353</td>\n",
       "    </tr>\n",
       "    <tr>\n",
       "      <th>11</th>\n",
       "      <td>level_end</td>\n",
       "      <td>54582</td>\n",
       "    </tr>\n",
       "    <tr>\n",
       "      <th>12</th>\n",
       "      <td>level_retry</td>\n",
       "      <td>43345</td>\n",
       "    </tr>\n",
       "    <tr>\n",
       "      <th>13</th>\n",
       "      <td>level_up</td>\n",
       "      <td>35666</td>\n",
       "    </tr>\n",
       "    <tr>\n",
       "      <th>14</th>\n",
       "      <td>level_complete</td>\n",
       "      <td>33986</td>\n",
       "    </tr>\n",
       "    <tr>\n",
       "      <th>15</th>\n",
       "      <td>level_retry_quickplay</td>\n",
       "      <td>29939</td>\n",
       "    </tr>\n",
       "    <tr>\n",
       "      <th>16</th>\n",
       "      <td>level_fail</td>\n",
       "      <td>17353</td>\n",
       "    </tr>\n",
       "    <tr>\n",
       "      <th>17</th>\n",
       "      <td>spend_virtual_currency</td>\n",
       "      <td>9363</td>\n",
       "    </tr>\n",
       "    <tr>\n",
       "      <th>18</th>\n",
       "      <td>use_extra_steps</td>\n",
       "      <td>8945</td>\n",
       "    </tr>\n",
       "    <tr>\n",
       "      <th>19</th>\n",
       "      <td>level_reset</td>\n",
       "      <td>8535</td>\n",
       "    </tr>\n",
       "    <tr>\n",
       "      <th>20</th>\n",
       "      <td>firebase_campaign</td>\n",
       "      <td>5411</td>\n",
       "    </tr>\n",
       "    <tr>\n",
       "      <th>21</th>\n",
       "      <td>app_exception</td>\n",
       "      <td>5156</td>\n",
       "    </tr>\n",
       "    <tr>\n",
       "      <th>22</th>\n",
       "      <td>first_open</td>\n",
       "      <td>4322</td>\n",
       "    </tr>\n",
       "    <tr>\n",
       "      <th>23</th>\n",
       "      <td>os_update</td>\n",
       "      <td>3290</td>\n",
       "    </tr>\n",
       "    <tr>\n",
       "      <th>24</th>\n",
       "      <td>no_more_extra_steps</td>\n",
       "      <td>2792</td>\n",
       "    </tr>\n",
       "    <tr>\n",
       "      <th>25</th>\n",
       "      <td>app_remove</td>\n",
       "      <td>2639</td>\n",
       "    </tr>\n",
       "    <tr>\n",
       "      <th>26</th>\n",
       "      <td>app_update</td>\n",
       "      <td>2473</td>\n",
       "    </tr>\n",
       "    <tr>\n",
       "      <th>27</th>\n",
       "      <td>ad_reward</td>\n",
       "      <td>1912</td>\n",
       "    </tr>\n",
       "    <tr>\n",
       "      <th>28</th>\n",
       "      <td>completed_5_levels</td>\n",
       "      <td>1867</td>\n",
       "    </tr>\n",
       "    <tr>\n",
       "      <th>29</th>\n",
       "      <td>error</td>\n",
       "      <td>1714</td>\n",
       "    </tr>\n",
       "    <tr>\n",
       "      <th>30</th>\n",
       "      <td>challenge_a_friend</td>\n",
       "      <td>524</td>\n",
       "    </tr>\n",
       "    <tr>\n",
       "      <th>31</th>\n",
       "      <td>in_app_purchase</td>\n",
       "      <td>27</td>\n",
       "    </tr>\n",
       "    <tr>\n",
       "      <th>32</th>\n",
       "      <td>dynamic_link_app_open</td>\n",
       "      <td>19</td>\n",
       "    </tr>\n",
       "    <tr>\n",
       "      <th>33</th>\n",
       "      <td>app_clear_data</td>\n",
       "      <td>17</td>\n",
       "    </tr>\n",
       "    <tr>\n",
       "      <th>34</th>\n",
       "      <td>dynamic_link_first_open</td>\n",
       "      <td>16</td>\n",
       "    </tr>\n",
       "    <tr>\n",
       "      <th>35</th>\n",
       "      <td>challenge_accepted</td>\n",
       "      <td>5</td>\n",
       "    </tr>\n",
       "    <tr>\n",
       "      <th>36</th>\n",
       "      <td>notification_foreground</td>\n",
       "      <td>1</td>\n",
       "    </tr>\n",
       "  </tbody>\n",
       "</table>\n",
       "</div>"
      ],
      "text/plain": [
       "                  event_name  event_count\n",
       "0                screen_view      2247623\n",
       "1            user_engagement      1358958\n",
       "2      level_start_quickplay       523430\n",
       "3        level_end_quickplay       349729\n",
       "4                 post_score       242051\n",
       "5   level_complete_quickplay       191088\n",
       "6       level_fail_quickplay       137035\n",
       "7      level_reset_quickplay       122278\n",
       "8             select_content       105139\n",
       "9                level_start        74417\n",
       "10             session_start        74353\n",
       "11                 level_end        54582\n",
       "12               level_retry        43345\n",
       "13                  level_up        35666\n",
       "14            level_complete        33986\n",
       "15     level_retry_quickplay        29939\n",
       "16                level_fail        17353\n",
       "17    spend_virtual_currency         9363\n",
       "18           use_extra_steps         8945\n",
       "19               level_reset         8535\n",
       "20         firebase_campaign         5411\n",
       "21             app_exception         5156\n",
       "22                first_open         4322\n",
       "23                 os_update         3290\n",
       "24       no_more_extra_steps         2792\n",
       "25                app_remove         2639\n",
       "26                app_update         2473\n",
       "27                 ad_reward         1912\n",
       "28        completed_5_levels         1867\n",
       "29                     error         1714\n",
       "30        challenge_a_friend          524\n",
       "31           in_app_purchase           27\n",
       "32     dynamic_link_app_open           19\n",
       "33            app_clear_data           17\n",
       "34   dynamic_link_first_open           16\n",
       "35        challenge_accepted            5\n",
       "36   notification_foreground            1"
      ]
     },
     "execution_count": 15,
     "metadata": {},
     "output_type": "execute_result"
    }
   ],
   "source": [
    "%%bigquery --project $PROJECT_ID\n",
    "\n",
    "SELECT\n",
    "    event_name,\n",
    "    COUNT(event_name) as event_count\n",
    "FROM\n",
    "    `firebase-public-project.analytics_153293282.events_*`\n",
    "GROUP BY 1\n",
    "ORDER BY\n",
    "   event_count DESC"
   ]
  },
  {
   "cell_type": "markdown",
   "metadata": {
    "id": "smsCdPFpmJpT"
   },
   "source": [
    "For this notebook, to predict whether a user will churn or return, you can start by counting the number of times a user engages in the following event types:\n",
    "\n",
    "* `user_engagement`\n",
    "* `level_start_quickplay`\n",
    "* `level_end_quickplay`\n",
    "* `level_complete_quickplay`\n",
    "* `level_reset_quickplay`\n",
    "* `post_score`\n",
    "* `spend_virtual_currency`\n",
    "* `ad_reward`\n",
    "* `challenge_a_friend`\n",
    "* `completed_5_levels`\n",
    "* `use_extra_steps`\n",
    "\n"
   ]
  },
  {
   "cell_type": "markdown",
   "metadata": {
    "id": "D9vIqhuj_qFW"
   },
   "source": [
    "In SQL, you can aggregate the behavioral data by calculating the total number of times when each of the above `event_names` occurred in the data set per user.\n",
    "\n",
    "If you are using your own dataset, you may have different event types that you can aggregate and extract. Your app may be sending very different `event_names` to Google Analytics so be sure to use events most suitable to your scenario."
   ]
  },
  {
   "cell_type": "code",
   "execution_count": 16,
   "metadata": {
    "colab": {
     "base_uri": "https://localhost:8080/",
     "height": 363
    },
    "id": "nzbVtI6G_Y9p",
    "outputId": "8ae82387-01ff-4bbe-b629-659e4754ac81"
   },
   "outputs": [
    {
     "name": "stderr",
     "output_type": "stream",
     "text": [
      "Query complete after 0.00s: 100%|██████████| 1/1 [00:00<00:00, 575.98query/s] \n",
      "Downloading: 100%|██████████| 10/10 [00:01<00:00,  7.98rows/s]\n"
     ]
    },
    {
     "data": {
      "text/html": [
       "<div>\n",
       "<style scoped>\n",
       "    .dataframe tbody tr th:only-of-type {\n",
       "        vertical-align: middle;\n",
       "    }\n",
       "\n",
       "    .dataframe tbody tr th {\n",
       "        vertical-align: top;\n",
       "    }\n",
       "\n",
       "    .dataframe thead th {\n",
       "        text-align: right;\n",
       "    }\n",
       "</style>\n",
       "<table border=\"1\" class=\"dataframe\">\n",
       "  <thead>\n",
       "    <tr style=\"text-align: right;\">\n",
       "      <th></th>\n",
       "      <th>user_pseudo_id</th>\n",
       "      <th>cnt_user_engagement</th>\n",
       "      <th>cnt_level_start_quickplay</th>\n",
       "      <th>cnt_level_end_quickplay</th>\n",
       "      <th>cnt_level_complete_quickplay</th>\n",
       "      <th>cnt_level_reset_quickplay</th>\n",
       "      <th>cnt_post_score</th>\n",
       "      <th>cnt_spend_virtual_currency</th>\n",
       "      <th>cnt_ad_reward</th>\n",
       "      <th>cnt_challenge_a_friend</th>\n",
       "      <th>cnt_completed_5_levels</th>\n",
       "      <th>cnt_use_extra_steps</th>\n",
       "    </tr>\n",
       "  </thead>\n",
       "  <tbody>\n",
       "    <tr>\n",
       "      <th>0</th>\n",
       "      <td>8452B10FC45B44EB9353EE14BC7A6EFB</td>\n",
       "      <td>1</td>\n",
       "      <td>0</td>\n",
       "      <td>0</td>\n",
       "      <td>0</td>\n",
       "      <td>0</td>\n",
       "      <td>0</td>\n",
       "      <td>0</td>\n",
       "      <td>0</td>\n",
       "      <td>0</td>\n",
       "      <td>0</td>\n",
       "      <td>0</td>\n",
       "    </tr>\n",
       "    <tr>\n",
       "      <th>1</th>\n",
       "      <td>A38B18A10443886063E5A2C98EB49C5F</td>\n",
       "      <td>1</td>\n",
       "      <td>0</td>\n",
       "      <td>0</td>\n",
       "      <td>0</td>\n",
       "      <td>0</td>\n",
       "      <td>0</td>\n",
       "      <td>0</td>\n",
       "      <td>0</td>\n",
       "      <td>0</td>\n",
       "      <td>0</td>\n",
       "      <td>0</td>\n",
       "    </tr>\n",
       "    <tr>\n",
       "      <th>2</th>\n",
       "      <td>C08AAF1391E0219CA2743DE09E394995</td>\n",
       "      <td>9</td>\n",
       "      <td>0</td>\n",
       "      <td>0</td>\n",
       "      <td>0</td>\n",
       "      <td>0</td>\n",
       "      <td>1</td>\n",
       "      <td>0</td>\n",
       "      <td>0</td>\n",
       "      <td>0</td>\n",
       "      <td>0</td>\n",
       "      <td>0</td>\n",
       "    </tr>\n",
       "    <tr>\n",
       "      <th>3</th>\n",
       "      <td>08F14F3BCA030F81B447161BA8653B44</td>\n",
       "      <td>92</td>\n",
       "      <td>0</td>\n",
       "      <td>0</td>\n",
       "      <td>0</td>\n",
       "      <td>0</td>\n",
       "      <td>17</td>\n",
       "      <td>0</td>\n",
       "      <td>0</td>\n",
       "      <td>0</td>\n",
       "      <td>1</td>\n",
       "      <td>0</td>\n",
       "    </tr>\n",
       "    <tr>\n",
       "      <th>4</th>\n",
       "      <td>4D1DFFA5A6570E90D83878ED0021478B</td>\n",
       "      <td>102</td>\n",
       "      <td>1</td>\n",
       "      <td>0</td>\n",
       "      <td>0</td>\n",
       "      <td>0</td>\n",
       "      <td>29</td>\n",
       "      <td>6</td>\n",
       "      <td>0</td>\n",
       "      <td>0</td>\n",
       "      <td>1</td>\n",
       "      <td>5</td>\n",
       "    </tr>\n",
       "    <tr>\n",
       "      <th>5</th>\n",
       "      <td>84AFEFA3875BA1F17232CB41D06B6EF4</td>\n",
       "      <td>5</td>\n",
       "      <td>2</td>\n",
       "      <td>1</td>\n",
       "      <td>1</td>\n",
       "      <td>0</td>\n",
       "      <td>1</td>\n",
       "      <td>0</td>\n",
       "      <td>0</td>\n",
       "      <td>0</td>\n",
       "      <td>0</td>\n",
       "      <td>0</td>\n",
       "    </tr>\n",
       "    <tr>\n",
       "      <th>6</th>\n",
       "      <td>6715B569543C76DB5342D8677A8A0963</td>\n",
       "      <td>3</td>\n",
       "      <td>1</td>\n",
       "      <td>0</td>\n",
       "      <td>0</td>\n",
       "      <td>0</td>\n",
       "      <td>0</td>\n",
       "      <td>0</td>\n",
       "      <td>0</td>\n",
       "      <td>0</td>\n",
       "      <td>0</td>\n",
       "      <td>0</td>\n",
       "    </tr>\n",
       "    <tr>\n",
       "      <th>7</th>\n",
       "      <td>D8A3FB65349D7DC9D73D39B1E473782F</td>\n",
       "      <td>6</td>\n",
       "      <td>0</td>\n",
       "      <td>0</td>\n",
       "      <td>0</td>\n",
       "      <td>0</td>\n",
       "      <td>1</td>\n",
       "      <td>0</td>\n",
       "      <td>0</td>\n",
       "      <td>0</td>\n",
       "      <td>0</td>\n",
       "      <td>0</td>\n",
       "    </tr>\n",
       "    <tr>\n",
       "      <th>8</th>\n",
       "      <td>C8B06F76EE9091107007C19B08C7834E</td>\n",
       "      <td>51</td>\n",
       "      <td>7</td>\n",
       "      <td>2</td>\n",
       "      <td>2</td>\n",
       "      <td>2</td>\n",
       "      <td>8</td>\n",
       "      <td>5</td>\n",
       "      <td>2</td>\n",
       "      <td>0</td>\n",
       "      <td>0</td>\n",
       "      <td>0</td>\n",
       "    </tr>\n",
       "    <tr>\n",
       "      <th>9</th>\n",
       "      <td>C2138A9054B61336E862FA1B2D7E4F46</td>\n",
       "      <td>37</td>\n",
       "      <td>0</td>\n",
       "      <td>0</td>\n",
       "      <td>0</td>\n",
       "      <td>0</td>\n",
       "      <td>0</td>\n",
       "      <td>0</td>\n",
       "      <td>0</td>\n",
       "      <td>0</td>\n",
       "      <td>0</td>\n",
       "      <td>0</td>\n",
       "    </tr>\n",
       "  </tbody>\n",
       "</table>\n",
       "</div>"
      ],
      "text/plain": [
       "                     user_pseudo_id  cnt_user_engagement  \\\n",
       "0  8452B10FC45B44EB9353EE14BC7A6EFB                    1   \n",
       "1  A38B18A10443886063E5A2C98EB49C5F                    1   \n",
       "2  C08AAF1391E0219CA2743DE09E394995                    9   \n",
       "3  08F14F3BCA030F81B447161BA8653B44                   92   \n",
       "4  4D1DFFA5A6570E90D83878ED0021478B                  102   \n",
       "5  84AFEFA3875BA1F17232CB41D06B6EF4                    5   \n",
       "6  6715B569543C76DB5342D8677A8A0963                    3   \n",
       "7  D8A3FB65349D7DC9D73D39B1E473782F                    6   \n",
       "8  C8B06F76EE9091107007C19B08C7834E                   51   \n",
       "9  C2138A9054B61336E862FA1B2D7E4F46                   37   \n",
       "\n",
       "   cnt_level_start_quickplay  cnt_level_end_quickplay  \\\n",
       "0                          0                        0   \n",
       "1                          0                        0   \n",
       "2                          0                        0   \n",
       "3                          0                        0   \n",
       "4                          1                        0   \n",
       "5                          2                        1   \n",
       "6                          1                        0   \n",
       "7                          0                        0   \n",
       "8                          7                        2   \n",
       "9                          0                        0   \n",
       "\n",
       "   cnt_level_complete_quickplay  cnt_level_reset_quickplay  cnt_post_score  \\\n",
       "0                             0                          0               0   \n",
       "1                             0                          0               0   \n",
       "2                             0                          0               1   \n",
       "3                             0                          0              17   \n",
       "4                             0                          0              29   \n",
       "5                             1                          0               1   \n",
       "6                             0                          0               0   \n",
       "7                             0                          0               1   \n",
       "8                             2                          2               8   \n",
       "9                             0                          0               0   \n",
       "\n",
       "   cnt_spend_virtual_currency  cnt_ad_reward  cnt_challenge_a_friend  \\\n",
       "0                           0              0                       0   \n",
       "1                           0              0                       0   \n",
       "2                           0              0                       0   \n",
       "3                           0              0                       0   \n",
       "4                           6              0                       0   \n",
       "5                           0              0                       0   \n",
       "6                           0              0                       0   \n",
       "7                           0              0                       0   \n",
       "8                           5              2                       0   \n",
       "9                           0              0                       0   \n",
       "\n",
       "   cnt_completed_5_levels  cnt_use_extra_steps  \n",
       "0                       0                    0  \n",
       "1                       0                    0  \n",
       "2                       0                    0  \n",
       "3                       1                    0  \n",
       "4                       1                    5  \n",
       "5                       0                    0  \n",
       "6                       0                    0  \n",
       "7                       0                    0  \n",
       "8                       0                    0  \n",
       "9                       0                    0  "
      ]
     },
     "execution_count": 16,
     "metadata": {},
     "output_type": "execute_result"
    }
   ],
   "source": [
    "%%bigquery --project $PROJECT_ID\n",
    "\n",
    "CREATE OR REPLACE VIEW bqmlga4.user_aggregate_behavior AS (\n",
    "WITH\n",
    "  events_first24hr AS (\n",
    "    #select user data only from first 24 hr of using the app\n",
    "    SELECT\n",
    "      e.*\n",
    "    FROM\n",
    "      `firebase-public-project.analytics_153293282.events_*` e\n",
    "    JOIN\n",
    "      bqmlga4.returningusers r\n",
    "    ON\n",
    "      e.user_pseudo_id = r.user_pseudo_id\n",
    "    WHERE\n",
    "      TIMESTAMP_MICROS(e.event_timestamp) <= r.ts_24hr_after_first_engagement\n",
    "    )\n",
    "SELECT\n",
    "  user_pseudo_id,\n",
    "  SUM(IF(event_name = 'user_engagement', 1, 0)) AS cnt_user_engagement,\n",
    "  SUM(IF(event_name = 'level_start_quickplay', 1, 0)) AS cnt_level_start_quickplay,\n",
    "  SUM(IF(event_name = 'level_end_quickplay', 1, 0)) AS cnt_level_end_quickplay,\n",
    "  SUM(IF(event_name = 'level_complete_quickplay', 1, 0)) AS cnt_level_complete_quickplay,\n",
    "  SUM(IF(event_name = 'level_reset_quickplay', 1, 0)) AS cnt_level_reset_quickplay,\n",
    "  SUM(IF(event_name = 'post_score', 1, 0)) AS cnt_post_score,\n",
    "  SUM(IF(event_name = 'spend_virtual_currency', 1, 0)) AS cnt_spend_virtual_currency,\n",
    "  SUM(IF(event_name = 'ad_reward', 1, 0)) AS cnt_ad_reward,\n",
    "  SUM(IF(event_name = 'challenge_a_friend', 1, 0)) AS cnt_challenge_a_friend,\n",
    "  SUM(IF(event_name = 'completed_5_levels', 1, 0)) AS cnt_completed_5_levels,\n",
    "  SUM(IF(event_name = 'use_extra_steps', 1, 0)) AS cnt_use_extra_steps,\n",
    "FROM\n",
    "  events_first24hr\n",
    "GROUP BY\n",
    "  1\n",
    "  );\n",
    "\n",
    "SELECT\n",
    "  *\n",
    "FROM\n",
    "  bqmlga4.user_aggregate_behavior\n",
    "LIMIT 10"
   ]
  },
  {
   "cell_type": "markdown",
   "metadata": {
    "id": "EO1zcaiK_I4S"
   },
   "source": [
    "Note that in addition to frequency of performing an action, you can also include other behavioral features in this step such as the total amount of in-game currency they spent, or if they reached certain app-specifc milestones that may be more relevant to your app (e.g., gained a certain threshold amount of XP or leveled up at least 5 times). This is an opportunity for you to extend this notebook to suit your needs."
   ]
  },
  {
   "cell_type": "markdown",
   "metadata": {
    "id": "PrWx_WQQBitA"
   },
   "source": [
    "#### Step 4: Combining the label, demographic and behavioral data together as training data"
   ]
  },
  {
   "cell_type": "markdown",
   "metadata": {
    "id": "o54qf5U6ik2l"
   },
   "source": [
    "In this section, you can now combine these three intermediary views (label, demographic, and behavioral data) into the final training data. Here you can also specify `bounced = 0`, in order to limit the training data only to users who did not \"bounce\" within the first 10 minutes of using the app."
   ]
  },
  {
   "cell_type": "code",
   "execution_count": 17,
   "metadata": {
    "colab": {
     "base_uri": "https://localhost:8080/",
     "height": 531
    },
    "id": "2i4WeTqLB1mC",
    "outputId": "c6669996-83c4-4fb5-fcde-c3135ffd7705"
   },
   "outputs": [
    {
     "name": "stderr",
     "output_type": "stream",
     "text": [
      "Query complete after 0.00s: 100%|██████████| 1/1 [00:00<00:00, 337.49query/s] \n",
      "Downloading: 100%|██████████| 10/10 [00:01<00:00,  7.09rows/s]\n"
     ]
    },
    {
     "data": {
      "text/html": [
       "<div>\n",
       "<style scoped>\n",
       "    .dataframe tbody tr th:only-of-type {\n",
       "        vertical-align: middle;\n",
       "    }\n",
       "\n",
       "    .dataframe tbody tr th {\n",
       "        vertical-align: top;\n",
       "    }\n",
       "\n",
       "    .dataframe thead th {\n",
       "        text-align: right;\n",
       "    }\n",
       "</style>\n",
       "<table border=\"1\" class=\"dataframe\">\n",
       "  <thead>\n",
       "    <tr style=\"text-align: right;\">\n",
       "      <th></th>\n",
       "      <th>user_pseudo_id</th>\n",
       "      <th>country</th>\n",
       "      <th>operating_system</th>\n",
       "      <th>language</th>\n",
       "      <th>cnt_user_engagement</th>\n",
       "      <th>cnt_level_start_quickplay</th>\n",
       "      <th>cnt_level_end_quickplay</th>\n",
       "      <th>cnt_level_complete_quickplay</th>\n",
       "      <th>cnt_level_reset_quickplay</th>\n",
       "      <th>cnt_post_score</th>\n",
       "      <th>cnt_spend_virtual_currency</th>\n",
       "      <th>cnt_ad_reward</th>\n",
       "      <th>cnt_challenge_a_friend</th>\n",
       "      <th>cnt_completed_5_levels</th>\n",
       "      <th>cnt_use_extra_steps</th>\n",
       "      <th>user_first_engagement</th>\n",
       "      <th>churned</th>\n",
       "    </tr>\n",
       "  </thead>\n",
       "  <tbody>\n",
       "    <tr>\n",
       "      <th>0</th>\n",
       "      <td>83D8C7F90DAF2C832F05A9DDD8693135</td>\n",
       "      <td>India</td>\n",
       "      <td>ANDROID</td>\n",
       "      <td>en-gb</td>\n",
       "      <td>18</td>\n",
       "      <td>0</td>\n",
       "      <td>0</td>\n",
       "      <td>0</td>\n",
       "      <td>0</td>\n",
       "      <td>4</td>\n",
       "      <td>0</td>\n",
       "      <td>0</td>\n",
       "      <td>0</td>\n",
       "      <td>0</td>\n",
       "      <td>0</td>\n",
       "      <td>2018-06-24 05:44:24.356004+00:00</td>\n",
       "      <td>0</td>\n",
       "    </tr>\n",
       "    <tr>\n",
       "      <th>1</th>\n",
       "      <td>2F2B5C88B72A5253AAF448B1E29333F5</td>\n",
       "      <td>United States</td>\n",
       "      <td>ANDROID</td>\n",
       "      <td>en-us</td>\n",
       "      <td>28</td>\n",
       "      <td>7</td>\n",
       "      <td>4</td>\n",
       "      <td>2</td>\n",
       "      <td>0</td>\n",
       "      <td>2</td>\n",
       "      <td>0</td>\n",
       "      <td>0</td>\n",
       "      <td>0</td>\n",
       "      <td>0</td>\n",
       "      <td>0</td>\n",
       "      <td>2018-06-12 15:48:28.645015+00:00</td>\n",
       "      <td>0</td>\n",
       "    </tr>\n",
       "    <tr>\n",
       "      <th>2</th>\n",
       "      <td>8C69B4DCD463AFAAB9FA17B529AF2C8F</td>\n",
       "      <td>United States</td>\n",
       "      <td>ANDROID</td>\n",
       "      <td>en-us</td>\n",
       "      <td>4</td>\n",
       "      <td>1</td>\n",
       "      <td>0</td>\n",
       "      <td>0</td>\n",
       "      <td>0</td>\n",
       "      <td>0</td>\n",
       "      <td>0</td>\n",
       "      <td>0</td>\n",
       "      <td>0</td>\n",
       "      <td>0</td>\n",
       "      <td>0</td>\n",
       "      <td>2018-06-14 02:16:10.511010+00:00</td>\n",
       "      <td>0</td>\n",
       "    </tr>\n",
       "    <tr>\n",
       "      <th>3</th>\n",
       "      <td>BDF9AE665E55EBA1D92D6541B5DDE87C</td>\n",
       "      <td>Turkey</td>\n",
       "      <td>ANDROID</td>\n",
       "      <td>en-us</td>\n",
       "      <td>79</td>\n",
       "      <td>26</td>\n",
       "      <td>26</td>\n",
       "      <td>0</td>\n",
       "      <td>0</td>\n",
       "      <td>22</td>\n",
       "      <td>0</td>\n",
       "      <td>0</td>\n",
       "      <td>0</td>\n",
       "      <td>0</td>\n",
       "      <td>0</td>\n",
       "      <td>2018-06-30 16:34:26.199001+00:00</td>\n",
       "      <td>0</td>\n",
       "    </tr>\n",
       "    <tr>\n",
       "      <th>4</th>\n",
       "      <td>C87172398F5BD82E971EF9BABC662415</td>\n",
       "      <td>Thailand</td>\n",
       "      <td>ANDROID</td>\n",
       "      <td>en-gb</td>\n",
       "      <td>53</td>\n",
       "      <td>25</td>\n",
       "      <td>13</td>\n",
       "      <td>0</td>\n",
       "      <td>9</td>\n",
       "      <td>13</td>\n",
       "      <td>0</td>\n",
       "      <td>0</td>\n",
       "      <td>0</td>\n",
       "      <td>0</td>\n",
       "      <td>0</td>\n",
       "      <td>2018-06-18 07:28:50.517004+00:00</td>\n",
       "      <td>0</td>\n",
       "    </tr>\n",
       "    <tr>\n",
       "      <th>5</th>\n",
       "      <td>A9CAD52C956CB40934D8B63F3BE1F863</td>\n",
       "      <td>United States</td>\n",
       "      <td>ANDROID</td>\n",
       "      <td>en-us</td>\n",
       "      <td>11</td>\n",
       "      <td>4</td>\n",
       "      <td>4</td>\n",
       "      <td>0</td>\n",
       "      <td>1</td>\n",
       "      <td>0</td>\n",
       "      <td>0</td>\n",
       "      <td>0</td>\n",
       "      <td>0</td>\n",
       "      <td>0</td>\n",
       "      <td>0</td>\n",
       "      <td>2018-07-01 14:29:34.559013+00:00</td>\n",
       "      <td>0</td>\n",
       "    </tr>\n",
       "    <tr>\n",
       "      <th>6</th>\n",
       "      <td>E37D4BF1A19A21E8AE145402DDEC1CBA</td>\n",
       "      <td>Canada</td>\n",
       "      <td>ANDROID</td>\n",
       "      <td>en-ca</td>\n",
       "      <td>7</td>\n",
       "      <td>3</td>\n",
       "      <td>2</td>\n",
       "      <td>0</td>\n",
       "      <td>0</td>\n",
       "      <td>2</td>\n",
       "      <td>0</td>\n",
       "      <td>0</td>\n",
       "      <td>0</td>\n",
       "      <td>0</td>\n",
       "      <td>0</td>\n",
       "      <td>2018-07-01 14:15:10.195003+00:00</td>\n",
       "      <td>0</td>\n",
       "    </tr>\n",
       "    <tr>\n",
       "      <th>7</th>\n",
       "      <td>757F371D73A59AA7B6FB5CF1E6483B33</td>\n",
       "      <td>United States</td>\n",
       "      <td>ANDROID</td>\n",
       "      <td>en-us</td>\n",
       "      <td>9</td>\n",
       "      <td>2</td>\n",
       "      <td>2</td>\n",
       "      <td>1</td>\n",
       "      <td>0</td>\n",
       "      <td>1</td>\n",
       "      <td>0</td>\n",
       "      <td>0</td>\n",
       "      <td>0</td>\n",
       "      <td>0</td>\n",
       "      <td>0</td>\n",
       "      <td>2018-06-15 19:40:24.304001+00:00</td>\n",
       "      <td>0</td>\n",
       "    </tr>\n",
       "    <tr>\n",
       "      <th>8</th>\n",
       "      <td>C795AFA7F574C2BB09D3647AD90A9719</td>\n",
       "      <td>United States</td>\n",
       "      <td>ANDROID</td>\n",
       "      <td>en-us</td>\n",
       "      <td>10</td>\n",
       "      <td>7</td>\n",
       "      <td>4</td>\n",
       "      <td>4</td>\n",
       "      <td>2</td>\n",
       "      <td>4</td>\n",
       "      <td>0</td>\n",
       "      <td>0</td>\n",
       "      <td>0</td>\n",
       "      <td>0</td>\n",
       "      <td>0</td>\n",
       "      <td>2018-07-01 22:19:49.413003+00:00</td>\n",
       "      <td>0</td>\n",
       "    </tr>\n",
       "    <tr>\n",
       "      <th>9</th>\n",
       "      <td>FEDC59699D8832A11B88BFCCCAD0951D</td>\n",
       "      <td>United States</td>\n",
       "      <td>ANDROID</td>\n",
       "      <td>en-us</td>\n",
       "      <td>6</td>\n",
       "      <td>2</td>\n",
       "      <td>1</td>\n",
       "      <td>0</td>\n",
       "      <td>0</td>\n",
       "      <td>1</td>\n",
       "      <td>0</td>\n",
       "      <td>0</td>\n",
       "      <td>0</td>\n",
       "      <td>0</td>\n",
       "      <td>0</td>\n",
       "      <td>2018-06-18 14:21:21.659005+00:00</td>\n",
       "      <td>0</td>\n",
       "    </tr>\n",
       "  </tbody>\n",
       "</table>\n",
       "</div>"
      ],
      "text/plain": [
       "                     user_pseudo_id        country operating_system language  \\\n",
       "0  83D8C7F90DAF2C832F05A9DDD8693135          India          ANDROID    en-gb   \n",
       "1  2F2B5C88B72A5253AAF448B1E29333F5  United States          ANDROID    en-us   \n",
       "2  8C69B4DCD463AFAAB9FA17B529AF2C8F  United States          ANDROID    en-us   \n",
       "3  BDF9AE665E55EBA1D92D6541B5DDE87C         Turkey          ANDROID    en-us   \n",
       "4  C87172398F5BD82E971EF9BABC662415       Thailand          ANDROID    en-gb   \n",
       "5  A9CAD52C956CB40934D8B63F3BE1F863  United States          ANDROID    en-us   \n",
       "6  E37D4BF1A19A21E8AE145402DDEC1CBA         Canada          ANDROID    en-ca   \n",
       "7  757F371D73A59AA7B6FB5CF1E6483B33  United States          ANDROID    en-us   \n",
       "8  C795AFA7F574C2BB09D3647AD90A9719  United States          ANDROID    en-us   \n",
       "9  FEDC59699D8832A11B88BFCCCAD0951D  United States          ANDROID    en-us   \n",
       "\n",
       "   cnt_user_engagement  cnt_level_start_quickplay  cnt_level_end_quickplay  \\\n",
       "0                   18                          0                        0   \n",
       "1                   28                          7                        4   \n",
       "2                    4                          1                        0   \n",
       "3                   79                         26                       26   \n",
       "4                   53                         25                       13   \n",
       "5                   11                          4                        4   \n",
       "6                    7                          3                        2   \n",
       "7                    9                          2                        2   \n",
       "8                   10                          7                        4   \n",
       "9                    6                          2                        1   \n",
       "\n",
       "   cnt_level_complete_quickplay  cnt_level_reset_quickplay  cnt_post_score  \\\n",
       "0                             0                          0               4   \n",
       "1                             2                          0               2   \n",
       "2                             0                          0               0   \n",
       "3                             0                          0              22   \n",
       "4                             0                          9              13   \n",
       "5                             0                          1               0   \n",
       "6                             0                          0               2   \n",
       "7                             1                          0               1   \n",
       "8                             4                          2               4   \n",
       "9                             0                          0               1   \n",
       "\n",
       "   cnt_spend_virtual_currency  cnt_ad_reward  cnt_challenge_a_friend  \\\n",
       "0                           0              0                       0   \n",
       "1                           0              0                       0   \n",
       "2                           0              0                       0   \n",
       "3                           0              0                       0   \n",
       "4                           0              0                       0   \n",
       "5                           0              0                       0   \n",
       "6                           0              0                       0   \n",
       "7                           0              0                       0   \n",
       "8                           0              0                       0   \n",
       "9                           0              0                       0   \n",
       "\n",
       "   cnt_completed_5_levels  cnt_use_extra_steps  \\\n",
       "0                       0                    0   \n",
       "1                       0                    0   \n",
       "2                       0                    0   \n",
       "3                       0                    0   \n",
       "4                       0                    0   \n",
       "5                       0                    0   \n",
       "6                       0                    0   \n",
       "7                       0                    0   \n",
       "8                       0                    0   \n",
       "9                       0                    0   \n",
       "\n",
       "             user_first_engagement  churned  \n",
       "0 2018-06-24 05:44:24.356004+00:00        0  \n",
       "1 2018-06-12 15:48:28.645015+00:00        0  \n",
       "2 2018-06-14 02:16:10.511010+00:00        0  \n",
       "3 2018-06-30 16:34:26.199001+00:00        0  \n",
       "4 2018-06-18 07:28:50.517004+00:00        0  \n",
       "5 2018-07-01 14:29:34.559013+00:00        0  \n",
       "6 2018-07-01 14:15:10.195003+00:00        0  \n",
       "7 2018-06-15 19:40:24.304001+00:00        0  \n",
       "8 2018-07-01 22:19:49.413003+00:00        0  \n",
       "9 2018-06-18 14:21:21.659005+00:00        0  "
      ]
     },
     "execution_count": 17,
     "metadata": {},
     "output_type": "execute_result"
    }
   ],
   "source": [
    "%%bigquery --project $PROJECT_ID\n",
    "\n",
    "CREATE OR REPLACE VIEW bqmlga4.train AS (\n",
    "    \n",
    "  SELECT\n",
    "    dem.*,\n",
    "    IFNULL(beh.cnt_user_engagement, 0) AS cnt_user_engagement,\n",
    "    IFNULL(beh.cnt_level_start_quickplay, 0) AS cnt_level_start_quickplay,\n",
    "    IFNULL(beh.cnt_level_end_quickplay, 0) AS cnt_level_end_quickplay,\n",
    "    IFNULL(beh.cnt_level_complete_quickplay, 0) AS cnt_level_complete_quickplay,\n",
    "    IFNULL(beh.cnt_level_reset_quickplay, 0) AS cnt_level_reset_quickplay,\n",
    "    IFNULL(beh.cnt_post_score, 0) AS cnt_post_score,\n",
    "    IFNULL(beh.cnt_spend_virtual_currency, 0) AS cnt_spend_virtual_currency,\n",
    "    IFNULL(beh.cnt_ad_reward, 0) AS cnt_ad_reward,\n",
    "    IFNULL(beh.cnt_challenge_a_friend, 0) AS cnt_challenge_a_friend,\n",
    "    IFNULL(beh.cnt_completed_5_levels, 0) AS cnt_completed_5_levels,\n",
    "    IFNULL(beh.cnt_use_extra_steps, 0) AS cnt_use_extra_steps,\n",
    "    ret.user_first_engagement,\n",
    "    ret.churned\n",
    "  FROM\n",
    "    bqmlga4.returningusers ret\n",
    "  LEFT OUTER JOIN\n",
    "    bqmlga4.user_demographics dem\n",
    "  ON \n",
    "    ret.user_pseudo_id = dem.user_pseudo_id\n",
    "  LEFT OUTER JOIN \n",
    "    bqmlga4.user_aggregate_behavior beh\n",
    "  ON\n",
    "    ret.user_pseudo_id = beh.user_pseudo_id\n",
    "  WHERE ret.bounced = 0\n",
    "  );\n",
    "\n",
    "SELECT\n",
    "  *\n",
    "FROM\n",
    "  bqmlga4.train\n",
    "LIMIT 10"
   ]
  },
  {
   "cell_type": "markdown",
   "metadata": {
    "id": "Co90TkTsCk9p"
   },
   "source": [
    "## Training the propensity model with BigQuery ML"
   ]
  },
  {
   "cell_type": "markdown",
   "metadata": {
    "id": "stwX9Np9CyWG"
   },
   "source": [
    "In this section, using the training data you prepared, you will now train machine learning models in SQL using BigQuery ML. The remainder of the notebook will only use logistic regression, but you can also follow the optional code below to train other model types."
   ]
  },
  {
   "cell_type": "markdown",
   "metadata": {
    "id": "FQTRryQ9Fr_l"
   },
   "source": [
    "**Choosing the model:**\n",
    "As this is a binary classification task, for simplicity, you can start with [logistic regression](https://cloud.google.com/bigquery-ml/docs/reference/standard-sql/bigqueryml-syntax-create), but you can also train other classification models like [XGBoost](https://cloud.google.com/bigquery-ml/docs/reference/standard-sql/bigqueryml-syntax-create-boosted-tree), [deep neural networks](https://cloud.google.com/bigquery-ml/docs/reference/standard-sql/bigqueryml-syntax-create-dnn-models) and [AutoML Tables](https://cloud.google.com/bigquery-ml/docs/reference/standard-sql/bigqueryml-syntax-create-automl) in BigQuery ML to calculate propensity scores. Each of these models will output a probability score (propensity) between 0 and 1.0 of how likely the model prediction is based on the training data. In this notebook, the model predicts whether the user will churn (1) or return (0) after 24 hours of the user's first engagement with the app.\n",
    "\n",
    "\n",
    "|Model| model_type| Advantages | Disadvantages|\n",
    "|-|-|-|-|\n",
    "|**Logistic Regression**| `LOGISTIC_REG` ([documentation](https://cloud.google.com/bigquery-ml/docs/reference/standard-sql/bigqueryml-syntax-create))| Fast to train vs. other model types | May not have the highest model performance |\n",
    "|**XGBoost**| `BOOSTED_TREE_CLASSIFIER` ([documentation](https://cloud.google.com/bigquery-ml/docs/reference/standard-sql/bigqueryml-syntax-create-boosted-tree))| Higher model performance. Can inspect feature importance. | Slower to train vs. `LOGISTIC_REG`.|\n",
    "|**Deep Neural Networks**| `DNN_CLASSIFIER` ([documentation](https://cloud.google.com/bigquery-ml/docs/reference/standard-sql/bigqueryml-syntax-create-dnn-models))| Higher model performance | Slower to train vs. `LOGISTIC_REG`.|\n",
    "|**AutoML Tables**| `AUTOML_CLASSIFIER` ([documentation](https://cloud.google.com/bigquery-ml/docs/reference/standard-sql/bigqueryml-syntax-create-automl))| Very high model performance | May take at least a few hours to train, not easy to explain how the model works. |\n"
   ]
  },
  {
   "cell_type": "markdown",
   "metadata": {
    "id": "W326AA24FyPF"
   },
   "source": [
    "**There's no need to split your data into train/test:**\n",
    "- When you run the `CREATE MODEL` statement, BigQuery ML will automatically split your data into training and test, so you can evaluate your model immediately after training (see the [documentation](https://cloud.google.com/bigquery-ml/docs/reference/standard-sql/bigqueryml-syntax-create#data_split_method) for more information or how to specify the split manually).\n"
   ]
  },
  {
   "cell_type": "markdown",
   "metadata": {
    "id": "zfNMGKb_GAPM"
   },
   "source": [
    "**Hyperparameter tuning:**\n",
    "Note that you can also tune hyperparameters for each model, although it is beyond the scope of this notebook. See the [BigQuery ML documentation for CREATE MODEL](https://cloud.google.com/bigquery-ml/docs/reference/standard-sql/bigqueryml-syntax-create) for further details on the available hyperparameters."
   ]
  },
  {
   "cell_type": "markdown",
   "metadata": {
    "id": "X5Ei0HB_HTAT"
   },
   "source": [
    "**`TRANSFORM()`:** \n",
    "It may also be useful to extract features from datetimes/timestamps as one simple example of additional feature preprocessing before training. For example, we can extract the month, day of year, and day of week from `user_first_engagement`.  [`TRANSFORM()`](https://cloud.google.com/bigquery-ml/docs/reference/standard-sql/bigqueryml-syntax-create#transform) allows the model to remember the extracted values so you won't need to extract them again when making predictions using the model later on."
   ]
  },
  {
   "cell_type": "markdown",
   "metadata": {
    "id": "cu-xHARS90xN"
   },
   "source": [
    "#### Train a logistic regression model"
   ]
  },
  {
   "cell_type": "markdown",
   "metadata": {
    "id": "5A_PGKG5Ob8u"
   },
   "source": [
    "The following code trains a logistic regression model. This should only take a minute or two to train.\n",
    "\n",
    "For more information on the default hyperparameters used, you can read the documentation:  \n",
    "[CREATE MODEL statement](https://cloud.google.com/bigquery-ml/docs/reference/standard-sql/bigqueryml-syntax-create)"
   ]
  },
  {
   "cell_type": "code",
   "execution_count": 18,
   "metadata": {
    "colab": {
     "base_uri": "https://localhost:8080/",
     "height": 31
    },
    "id": "1WRGHLIIC-RL",
    "outputId": "32339cf6-5548-4239-e211-002d1c5743a7"
   },
   "outputs": [
    {
     "name": "stderr",
     "output_type": "stream",
     "text": [
      "Query complete after 0.00s: 100%|██████████| 3/3 [00:00<00:00, 1292.94query/s]                        \n"
     ]
    },
    {
     "data": {
      "text/html": [
       "<div>\n",
       "<style scoped>\n",
       "    .dataframe tbody tr th:only-of-type {\n",
       "        vertical-align: middle;\n",
       "    }\n",
       "\n",
       "    .dataframe tbody tr th {\n",
       "        vertical-align: top;\n",
       "    }\n",
       "\n",
       "    .dataframe thead th {\n",
       "        text-align: right;\n",
       "    }\n",
       "</style>\n",
       "<table border=\"1\" class=\"dataframe\">\n",
       "  <thead>\n",
       "    <tr style=\"text-align: right;\">\n",
       "      <th></th>\n",
       "    </tr>\n",
       "  </thead>\n",
       "  <tbody>\n",
       "  </tbody>\n",
       "</table>\n",
       "</div>"
      ],
      "text/plain": [
       "Empty DataFrame\n",
       "Columns: []\n",
       "Index: []"
      ]
     },
     "execution_count": 18,
     "metadata": {},
     "output_type": "execute_result"
    }
   ],
   "source": [
    "%%bigquery --project $PROJECT_ID\n",
    "\n",
    "CREATE OR REPLACE MODEL bqmlga4.churn_logreg\n",
    "\n",
    "TRANSFORM(\n",
    "  EXTRACT(MONTH from user_first_engagement) as month,\n",
    "  EXTRACT(DAYOFYEAR from user_first_engagement) as julianday,\n",
    "  EXTRACT(DAYOFWEEK from user_first_engagement) as dayofweek,\n",
    "  * EXCEPT(user_first_engagement, user_pseudo_id)\n",
    ")\n",
    "\n",
    "OPTIONS(\n",
    "  MODEL_TYPE=\"LOGISTIC_REG\",\n",
    "  INPUT_LABEL_COLS=[\"churned\"]\n",
    ") AS\n",
    "\n",
    "SELECT\n",
    "  *\n",
    "FROM\n",
    "  bqmlga4.train"
   ]
  },
  {
   "cell_type": "markdown",
   "metadata": {
    "id": "ZBX-46-Q94tI"
   },
   "source": [
    "#### Train an XGBoost model (optional)"
   ]
  },
  {
   "cell_type": "markdown",
   "metadata": {
    "id": "uqewIJBoOnAZ"
   },
   "source": [
    "The following code trains an XGBoost model. This may take several minutes to train.\n",
    "\n",
    "For more information on the default hyperparameters used, you can read the documentation:  \n",
    "[CREATE MODEL statement for Boosted Tree models using XGBoost](https://cloud.google.com/bigquery-ml/docs/reference/standard-sql/bigqueryml-syntax-create-boosted-tree)"
   ]
  },
  {
   "cell_type": "code",
   "execution_count": null,
   "metadata": {
    "id": "3XNDx5YoEFmY"
   },
   "outputs": [],
   "source": [
    "# %%bigquery --project $PROJECT_ID\n",
    "\n",
    "# CREATE OR REPLACE MODEL bqmlga4.churn_xgb\n",
    "\n",
    "# TRANSFORM(\n",
    "#   EXTRACT(MONTH from user_first_engagement) as month,\n",
    "#   EXTRACT(DAYOFYEAR from user_first_engagement) as julianday,\n",
    "#   EXTRACT(DAYOFWEEK from user_first_engagement) as dayofweek,\n",
    "#   * EXCEPT(user_first_engagement, user_pseudo_id)\n",
    "# )\n",
    "\n",
    "# OPTIONS(\n",
    "#   MODEL_TYPE=\"BOOSTED_TREE_CLASSIFIER\",\n",
    "#   INPUT_LABEL_COLS=[\"churned\"]\n",
    "# ) AS\n",
    "\n",
    "# SELECT\n",
    "#   * EXCEPT(user_pseudo_id)\n",
    "# FROM\n",
    "#   bqmlga4.train"
   ]
  },
  {
   "cell_type": "markdown",
   "metadata": {
    "id": "0tSEDUcl98eE"
   },
   "source": [
    "#### Train a deep neural network (DNN) model  (optional)"
   ]
  },
  {
   "cell_type": "markdown",
   "metadata": {
    "id": "FPpfxT6ZOslN"
   },
   "source": [
    "The following code trains a deep neural network. This may take several minutes to train.\n",
    "\n",
    "For more information on the default hyperparameters used, you can read the documentation:  \n",
    "[CREATE MODEL statement for Deep Neural Network (DNN) models](https://cloud.google.com/bigquery-ml/docs/reference/standard-sql/bigqueryml-syntax-create-dnn-models)"
   ]
  },
  {
   "cell_type": "code",
   "execution_count": null,
   "metadata": {
    "id": "1o99jDldEGbT"
   },
   "outputs": [],
   "source": [
    "# %%bigquery --project $PROJECT_ID\n",
    "\n",
    "# CREATE OR REPLACE MODEL bqmlga4.churn_dnn\n",
    "\n",
    "# TRANSFORM(\n",
    "#   EXTRACT(MONTH from user_first_engagement) as month,\n",
    "#   EXTRACT(DAYOFYEAR from user_first_engagement) as julianday,\n",
    "#   EXTRACT(DAYOFWEEK from user_first_engagement) as dayofweek,\n",
    "#   * EXCEPT(user_first_engagement, user_pseudo_id)\n",
    "# )\n",
    "\n",
    "# OPTIONS(\n",
    "#   MODEL_TYPE=\"DNN_CLASSIFIER\",\n",
    "#   INPUT_LABEL_COLS=[\"churned\"]\n",
    "# ) AS\n",
    "\n",
    "# SELECT\n",
    "#   * EXCEPT(user_pseudo_id)\n",
    "# FROM\n",
    "#   bqmlga4.train"
   ]
  },
  {
   "cell_type": "markdown",
   "metadata": {
    "id": "X-DJU4-IkTsP"
   },
   "source": [
    "### Train an AutoML Tables model  (optional)\n",
    "\n",
    "[AutoML Tables](https://cloud.google.com/automl-tables) enables you to automatically build state-of-the-art machine learning models on structured data at massively increased speed and scale. AutoML Tables automatically searches through Google’s model zoo for structured data to find the best model for your needs, ranging from linear/logistic regression models for simpler datasets to advanced deep, ensemble, and architecture-search methods for larger, more complex ones.\n",
    "\n",
    "You can train an [AutoML model directly with BigQuery ML](https://cloud.google.com/bigquery-ml/docs/reference/standard-sql/bigqueryml-syntax-create-automl), as in the code below.\n",
    "\n",
    "Note that the `BUDGET_HOURS` parameter is for AutoML Tables training, specified in hours. The default value is 1.0 hour and must be between 1.0 and 72.0. The total query processing time can be greater than the budgeted hours specified in the query.\n",
    "\n",
    "**Note:** This may take a few hours to train.\n"
   ]
  },
  {
   "cell_type": "code",
   "execution_count": null,
   "metadata": {
    "id": "-tcfIVLZEHXU"
   },
   "outputs": [],
   "source": [
    "# %%bigquery --project $PROJECT_ID\n",
    "\n",
    "# CREATE OR REPLACE MODEL bqmlga4.churn_automl\n",
    "\n",
    "# OPTIONS(\n",
    "#   MODEL_TYPE=\"AUTOML_CLASSIFIER\",\n",
    "#   INPUT_LABEL_COLS=[\"churned\"],\n",
    "#   BUDGET_HOURS=1.0\n",
    "# ) AS\n",
    "\n",
    "# SELECT\n",
    "#   * EXCEPT(user_pseudo_id)\n",
    "# FROM\n",
    "#   bqmlga4.train"
   ]
  },
  {
   "cell_type": "markdown",
   "metadata": {
    "id": "s_t0zxoeE1d7"
   },
   "source": [
    "## Model Evaluation"
   ]
  },
  {
   "cell_type": "markdown",
   "metadata": {
    "id": "b69YK1iX_ksq"
   },
   "source": [
    "To evaluate the model, you can run [`ML.EVALUATE`](https://cloud.google.com/bigquery-ml/docs/reference/standard-sql/bigqueryml-syntax-evaluate) on a model that has finished training to inspect some of the metrics.\n",
    "\n",
    "The metrics are based on the test sample data that was automatically split during model creation ([documentation](https://cloud.google.com/bigquery-ml/docs/reference/standard-sql/bigqueryml-syntax-create#data_split_method))."
   ]
  },
  {
   "cell_type": "code",
   "execution_count": 19,
   "metadata": {
    "colab": {
     "base_uri": "https://localhost:8080/",
     "height": 77
    },
    "id": "p16-00xjE3JQ",
    "outputId": "cd9db9bf-2211-4152-e84e-5c299354663d"
   },
   "outputs": [
    {
     "name": "stderr",
     "output_type": "stream",
     "text": [
      "Query complete after 0.00s: 100%|██████████| 1/1 [00:00<00:00, 338.50query/s]                          \n",
      "Downloading: 100%|██████████| 1/1 [00:01<00:00,  1.68s/rows]\n"
     ]
    },
    {
     "data": {
      "text/html": [
       "<div>\n",
       "<style scoped>\n",
       "    .dataframe tbody tr th:only-of-type {\n",
       "        vertical-align: middle;\n",
       "    }\n",
       "\n",
       "    .dataframe tbody tr th {\n",
       "        vertical-align: top;\n",
       "    }\n",
       "\n",
       "    .dataframe thead th {\n",
       "        text-align: right;\n",
       "    }\n",
       "</style>\n",
       "<table border=\"1\" class=\"dataframe\">\n",
       "  <thead>\n",
       "    <tr style=\"text-align: right;\">\n",
       "      <th></th>\n",
       "      <th>precision</th>\n",
       "      <th>recall</th>\n",
       "      <th>accuracy</th>\n",
       "      <th>f1_score</th>\n",
       "      <th>log_loss</th>\n",
       "      <th>roc_auc</th>\n",
       "    </tr>\n",
       "  </thead>\n",
       "  <tbody>\n",
       "    <tr>\n",
       "      <th>0</th>\n",
       "      <td>0.437</td>\n",
       "      <td>0.106</td>\n",
       "      <td>0.767</td>\n",
       "      <td>0.170</td>\n",
       "      <td>0.494</td>\n",
       "      <td>0.716</td>\n",
       "    </tr>\n",
       "  </tbody>\n",
       "</table>\n",
       "</div>"
      ],
      "text/plain": [
       "   precision  recall  accuracy  f1_score  log_loss  roc_auc\n",
       "0      0.437   0.106     0.767     0.170     0.494    0.716"
      ]
     },
     "execution_count": 19,
     "metadata": {},
     "output_type": "execute_result"
    }
   ],
   "source": [
    "%%bigquery --project $PROJECT_ID\n",
    "\n",
    "SELECT\n",
    "  *\n",
    "FROM\n",
    "  ML.EVALUATE(MODEL bqmlga4.churn_logreg)"
   ]
  },
  {
   "cell_type": "markdown",
   "metadata": {
    "id": "ejdRfRYeATL-"
   },
   "source": [
    "`ML.EVALUATE` generates the `precision`, `recall`, `accuracy` and `f1_score` using the default classification threshold of 0.5, which can be modified by using the optional [`THRESHOLD`](https://cloud.google.com/bigquery-ml/docs/reference/standard-sql/bigqueryml-syntax-evaluate#eval_threshold) parameter.\n",
    "\n",
    "Generally speaking, you can use the `log_loss` and `roc_auc` metrics to compare  model performance.\n",
    "\n",
    "The `log_loss` ranges between 0 and 1.0, and the closer the `log_loss` is the zero, the closer the predicted labels were to the actual labels.\n",
    "The `roc_auc` ranges between 0 and 1.0, and the closer the `roc_auc` is to 1.0, the better the model is at distinguishing between the classes.\n",
    "\n",
    "For more information on these metrics, you can read through the definitions on [precision and recall](https://developers.google.com/machine-learning/crash-course/classification/precision-and-recall), [accuracy](https://developers.google.com/machine-learning/crash-course/classification/accuracy), [f1-score](https://en.wikipedia.org/wiki/F-score), [log_loss](https://en.wikipedia.org/wiki/Loss_functions_for_classification#Logistic_loss) and [roc_auc](https://developers.google.com/machine-learning/crash-course/classification/roc-and-auc)."
   ]
  },
  {
   "cell_type": "markdown",
   "metadata": {
    "id": "glkKlvoqP7Uf"
   },
   "source": [
    "#### Confusion matrix: predicted vs actual values"
   ]
  },
  {
   "cell_type": "markdown",
   "metadata": {
    "id": "AYB1xZ9oQDOv"
   },
   "source": [
    "In addition to model evaluation metrics, you may also want to use a confusion matrix to inspect how well the model predicted the labels, compared to the actual labels.\n",
    "\n",
    "With the rows indicating the actual labels, and the columns as the predicted labels, the resulting format for ML.CONFUSION_MATRIX for binary classification looks like:\n",
    "\n",
    "| | Predicted_0 | Predicted_1|\n",
    "|-|-|-|\n",
    "|Actual_0| True Negatives | False Positives|\n",
    "|Actual_1| False Negatives | True Positives|\n",
    "\n",
    "For more information on confusion matrices, you can read through a detailed explanation [here](https://developers.google.com/machine-learning/crash-course/classification/true-false-positive-negative)."
   ]
  },
  {
   "cell_type": "code",
   "execution_count": 20,
   "metadata": {
    "colab": {
     "base_uri": "https://localhost:8080/",
     "height": 106
    },
    "id": "Db5M8U8QQgyi",
    "outputId": "2ea7e3c1-e411-43aa-e32c-6a29a2175c14"
   },
   "outputs": [
    {
     "name": "stderr",
     "output_type": "stream",
     "text": [
      "Query complete after 0.00s: 100%|██████████| 2/2 [00:00<00:00, 568.37query/s]                         \n",
      "Downloading: 100%|██████████| 2/2 [00:01<00:00,  1.25rows/s]\n"
     ]
    },
    {
     "data": {
      "text/html": [
       "<div>\n",
       "<style scoped>\n",
       "    .dataframe tbody tr th:only-of-type {\n",
       "        vertical-align: middle;\n",
       "    }\n",
       "\n",
       "    .dataframe tbody tr th {\n",
       "        vertical-align: top;\n",
       "    }\n",
       "\n",
       "    .dataframe thead th {\n",
       "        text-align: right;\n",
       "    }\n",
       "</style>\n",
       "<table border=\"1\" class=\"dataframe\">\n",
       "  <thead>\n",
       "    <tr style=\"text-align: right;\">\n",
       "      <th></th>\n",
       "      <th>expected_label</th>\n",
       "      <th>predicted_0</th>\n",
       "      <th>predicted_1</th>\n",
       "    </tr>\n",
       "  </thead>\n",
       "  <tbody>\n",
       "    <tr>\n",
       "      <th>0</th>\n",
       "      <td>0</td>\n",
       "      <td>1185</td>\n",
       "      <td>49</td>\n",
       "    </tr>\n",
       "    <tr>\n",
       "      <th>1</th>\n",
       "      <td>1</td>\n",
       "      <td>322</td>\n",
       "      <td>38</td>\n",
       "    </tr>\n",
       "  </tbody>\n",
       "</table>\n",
       "</div>"
      ],
      "text/plain": [
       "  expected_label  predicted_0  predicted_1\n",
       "0              0         1185           49\n",
       "1              1          322           38"
      ]
     },
     "execution_count": 20,
     "metadata": {},
     "output_type": "execute_result"
    }
   ],
   "source": [
    "%%bigquery --project $PROJECT_ID\n",
    "\n",
    "SELECT\n",
    "  expected_label,\n",
    "  _0 AS predicted_0,\n",
    "  _1 AS predicted_1\n",
    "FROM\n",
    "  ML.CONFUSION_MATRIX(MODEL bqmlga4.churn_logreg)"
   ]
  },
  {
   "cell_type": "markdown",
   "metadata": {
    "id": "Ix5q8Onw1aYs"
   },
   "source": [
    "#### ROC Curve"
   ]
  },
  {
   "cell_type": "markdown",
   "metadata": {
    "id": "XleHv73dIZx-"
   },
   "source": [
    "You can plot the AUC-ROC curve by using `ML.ROC_CURVE` to return the metrics for different threshold values for the model ([documentation](https://cloud.google.com/bigquery-ml/docs/reference/standard-sql/bigqueryml-syntax-roc))."
   ]
  },
  {
   "cell_type": "code",
   "execution_count": 21,
   "metadata": {
    "id": "p_iG9vOfbgX6"
   },
   "outputs": [
    {
     "name": "stderr",
     "output_type": "stream",
     "text": [
      "Query complete after 0.00s: 100%|██████████| 2/2 [00:00<00:00, 762.67query/s]                         \n",
      "Downloading: 100%|██████████| 101/101 [00:01<00:00, 62.20rows/s]\n"
     ]
    }
   ],
   "source": [
    "%%bigquery df_roc --project $PROJECT_ID\n",
    "SELECT * FROM ML.ROC_CURVE(MODEL bqmlga4.churn_logreg)"
   ]
  },
  {
   "cell_type": "code",
   "execution_count": 22,
   "metadata": {
    "colab": {
     "base_uri": "https://localhost:8080/",
     "height": 422
    },
    "id": "GoHGUcC7bzvX",
    "outputId": "c809aec7-5153-4a8b-bae8-14103c996c61"
   },
   "outputs": [
    {
     "data": {
      "text/html": [
       "<div>\n",
       "<style scoped>\n",
       "    .dataframe tbody tr th:only-of-type {\n",
       "        vertical-align: middle;\n",
       "    }\n",
       "\n",
       "    .dataframe tbody tr th {\n",
       "        vertical-align: top;\n",
       "    }\n",
       "\n",
       "    .dataframe thead th {\n",
       "        text-align: right;\n",
       "    }\n",
       "</style>\n",
       "<table border=\"1\" class=\"dataframe\">\n",
       "  <thead>\n",
       "    <tr style=\"text-align: right;\">\n",
       "      <th></th>\n",
       "      <th>threshold</th>\n",
       "      <th>recall</th>\n",
       "      <th>false_positive_rate</th>\n",
       "      <th>true_positives</th>\n",
       "      <th>false_positives</th>\n",
       "      <th>true_negatives</th>\n",
       "      <th>false_negatives</th>\n",
       "    </tr>\n",
       "  </thead>\n",
       "  <tbody>\n",
       "    <tr>\n",
       "      <th>0</th>\n",
       "      <td>0.844</td>\n",
       "      <td>0.000</td>\n",
       "      <td>0.001</td>\n",
       "      <td>0</td>\n",
       "      <td>1</td>\n",
       "      <td>1233</td>\n",
       "      <td>360</td>\n",
       "    </tr>\n",
       "    <tr>\n",
       "      <th>1</th>\n",
       "      <td>0.675</td>\n",
       "      <td>0.006</td>\n",
       "      <td>0.011</td>\n",
       "      <td>2</td>\n",
       "      <td>14</td>\n",
       "      <td>1220</td>\n",
       "      <td>358</td>\n",
       "    </tr>\n",
       "    <tr>\n",
       "      <th>2</th>\n",
       "      <td>0.615</td>\n",
       "      <td>0.031</td>\n",
       "      <td>0.017</td>\n",
       "      <td>11</td>\n",
       "      <td>21</td>\n",
       "      <td>1213</td>\n",
       "      <td>349</td>\n",
       "    </tr>\n",
       "    <tr>\n",
       "      <th>3</th>\n",
       "      <td>0.579</td>\n",
       "      <td>0.058</td>\n",
       "      <td>0.022</td>\n",
       "      <td>21</td>\n",
       "      <td>27</td>\n",
       "      <td>1207</td>\n",
       "      <td>339</td>\n",
       "    </tr>\n",
       "    <tr>\n",
       "      <th>4</th>\n",
       "      <td>0.541</td>\n",
       "      <td>0.075</td>\n",
       "      <td>0.030</td>\n",
       "      <td>27</td>\n",
       "      <td>37</td>\n",
       "      <td>1197</td>\n",
       "      <td>333</td>\n",
       "    </tr>\n",
       "    <tr>\n",
       "      <th>...</th>\n",
       "      <td>...</td>\n",
       "      <td>...</td>\n",
       "      <td>...</td>\n",
       "      <td>...</td>\n",
       "      <td>...</td>\n",
       "      <td>...</td>\n",
       "      <td>...</td>\n",
       "    </tr>\n",
       "    <tr>\n",
       "      <th>96</th>\n",
       "      <td>0.102</td>\n",
       "      <td>0.983</td>\n",
       "      <td>0.954</td>\n",
       "      <td>354</td>\n",
       "      <td>1177</td>\n",
       "      <td>57</td>\n",
       "      <td>6</td>\n",
       "    </tr>\n",
       "    <tr>\n",
       "      <th>97</th>\n",
       "      <td>0.091</td>\n",
       "      <td>0.989</td>\n",
       "      <td>0.965</td>\n",
       "      <td>356</td>\n",
       "      <td>1191</td>\n",
       "      <td>43</td>\n",
       "      <td>4</td>\n",
       "    </tr>\n",
       "    <tr>\n",
       "      <th>98</th>\n",
       "      <td>0.083</td>\n",
       "      <td>0.992</td>\n",
       "      <td>0.977</td>\n",
       "      <td>357</td>\n",
       "      <td>1206</td>\n",
       "      <td>28</td>\n",
       "      <td>3</td>\n",
       "    </tr>\n",
       "    <tr>\n",
       "      <th>99</th>\n",
       "      <td>0.058</td>\n",
       "      <td>0.994</td>\n",
       "      <td>0.989</td>\n",
       "      <td>358</td>\n",
       "      <td>1221</td>\n",
       "      <td>13</td>\n",
       "      <td>2</td>\n",
       "    </tr>\n",
       "    <tr>\n",
       "      <th>100</th>\n",
       "      <td>0.016</td>\n",
       "      <td>1.000</td>\n",
       "      <td>1.000</td>\n",
       "      <td>360</td>\n",
       "      <td>1234</td>\n",
       "      <td>0</td>\n",
       "      <td>0</td>\n",
       "    </tr>\n",
       "  </tbody>\n",
       "</table>\n",
       "<p>101 rows × 7 columns</p>\n",
       "</div>"
      ],
      "text/plain": [
       "     threshold  recall  false_positive_rate  true_positives  false_positives  \\\n",
       "0        0.844   0.000                0.001               0                1   \n",
       "1        0.675   0.006                0.011               2               14   \n",
       "2        0.615   0.031                0.017              11               21   \n",
       "3        0.579   0.058                0.022              21               27   \n",
       "4        0.541   0.075                0.030              27               37   \n",
       "..         ...     ...                  ...             ...              ...   \n",
       "96       0.102   0.983                0.954             354             1177   \n",
       "97       0.091   0.989                0.965             356             1191   \n",
       "98       0.083   0.992                0.977             357             1206   \n",
       "99       0.058   0.994                0.989             358             1221   \n",
       "100      0.016   1.000                1.000             360             1234   \n",
       "\n",
       "     true_negatives  false_negatives  \n",
       "0              1233              360  \n",
       "1              1220              358  \n",
       "2              1213              349  \n",
       "3              1207              339  \n",
       "4              1197              333  \n",
       "..              ...              ...  \n",
       "96               57                6  \n",
       "97               43                4  \n",
       "98               28                3  \n",
       "99               13                2  \n",
       "100               0                0  \n",
       "\n",
       "[101 rows x 7 columns]"
      ]
     },
     "execution_count": 22,
     "metadata": {},
     "output_type": "execute_result"
    }
   ],
   "source": [
    "df_roc"
   ]
  },
  {
   "cell_type": "markdown",
   "metadata": {
    "id": "s_zu9zZXJVNG"
   },
   "source": [
    "Plot the AUC-ROC curve"
   ]
  },
  {
   "cell_type": "code",
   "execution_count": 23,
   "metadata": {
    "colab": {
     "base_uri": "https://localhost:8080/",
     "height": 313
    },
    "id": "jSRTXr6ub2ty",
    "outputId": "46f6cf64-9108-4c8d-d148-ecbd2036ed2d"
   },
   "outputs": [
    {
     "data": {
      "text/plain": [
       "<AxesSubplot:title={'center':'AUC-ROC curve'}, xlabel='false_positive_rate'>"
      ]
     },
     "execution_count": 23,
     "metadata": {},
     "output_type": "execute_result"
    },
    {
     "data": {
      "image/png": "[encoded data removed]",
      "text/plain": [
       "<Figure size 432x288 with 1 Axes>"
      ]
     },
     "metadata": {
      "needs_background": "light"
     },
     "output_type": "display_data"
    }
   ],
   "source": [
    "df_roc.plot(x=\"false_positive_rate\", y=\"recall\", title=\"AUC-ROC curve\")"
   ]
  },
  {
   "cell_type": "markdown",
   "metadata": {
    "id": "oyeAzheVFUxU"
   },
   "source": [
    "## Model prediction"
   ]
  },
  {
   "cell_type": "markdown",
   "metadata": {
    "id": "02ZQPKIebo7y"
   },
   "source": [
    "You can run [`ML.PREDICT`](https://cloud.google.com/bigquery-ml/docs/reference/standard-sql/bigqueryml-syntax-predict) to make predictions on the propensity to churn. The following code returns all the information from `ML.PREDICT`."
   ]
  },
  {
   "cell_type": "code",
   "execution_count": 24,
   "metadata": {
    "colab": {
     "base_uri": "https://localhost:8080/",
     "height": 590
    },
    "id": "229TPkhUFe23",
    "outputId": "81495cbc-754a-4845-8e74-cd9ef0a49ede"
   },
   "outputs": [
    {
     "name": "stderr",
     "output_type": "stream",
     "text": [
      "Query complete after 0.00s: 100%|██████████| 15/15 [00:00<00:00, 4629.47query/s]                       \n",
      "Downloading: 100%|██████████| 8031/8031 [00:01<00:00, 4489.55rows/s]\n"
     ]
    },
    {
     "data": {
      "text/html": [
       "<div>\n",
       "<style scoped>\n",
       "    .dataframe tbody tr th:only-of-type {\n",
       "        vertical-align: middle;\n",
       "    }\n",
       "\n",
       "    .dataframe tbody tr th {\n",
       "        vertical-align: top;\n",
       "    }\n",
       "\n",
       "    .dataframe thead th {\n",
       "        text-align: right;\n",
       "    }\n",
       "</style>\n",
       "<table border=\"1\" class=\"dataframe\">\n",
       "  <thead>\n",
       "    <tr style=\"text-align: right;\">\n",
       "      <th></th>\n",
       "      <th>predicted_churned</th>\n",
       "      <th>predicted_churned_probs</th>\n",
       "      <th>user_pseudo_id</th>\n",
       "      <th>country</th>\n",
       "      <th>operating_system</th>\n",
       "      <th>language</th>\n",
       "      <th>cnt_user_engagement</th>\n",
       "      <th>cnt_level_start_quickplay</th>\n",
       "      <th>cnt_level_end_quickplay</th>\n",
       "      <th>cnt_level_complete_quickplay</th>\n",
       "      <th>cnt_level_reset_quickplay</th>\n",
       "      <th>cnt_post_score</th>\n",
       "      <th>cnt_spend_virtual_currency</th>\n",
       "      <th>cnt_ad_reward</th>\n",
       "      <th>cnt_challenge_a_friend</th>\n",
       "      <th>cnt_completed_5_levels</th>\n",
       "      <th>cnt_use_extra_steps</th>\n",
       "      <th>user_first_engagement</th>\n",
       "      <th>churned</th>\n",
       "    </tr>\n",
       "  </thead>\n",
       "  <tbody>\n",
       "    <tr>\n",
       "      <th>0</th>\n",
       "      <td>0</td>\n",
       "      <td>[{'label': 1, 'prob': 0.13352095793436647}, {'...</td>\n",
       "      <td>D41AA91B61872612B5F5F4E42870042C</td>\n",
       "      <td>United States</td>\n",
       "      <td>IOS</td>\n",
       "      <td>en-us</td>\n",
       "      <td>14</td>\n",
       "      <td>6</td>\n",
       "      <td>5</td>\n",
       "      <td>4</td>\n",
       "      <td>0</td>\n",
       "      <td>4</td>\n",
       "      <td>0</td>\n",
       "      <td>0</td>\n",
       "      <td>0</td>\n",
       "      <td>0</td>\n",
       "      <td>0</td>\n",
       "      <td>2018-06-29 23:18:58.080003+00:00</td>\n",
       "      <td>0</td>\n",
       "    </tr>\n",
       "    <tr>\n",
       "      <th>1</th>\n",
       "      <td>0</td>\n",
       "      <td>[{'label': 1, 'prob': 0.12270137067561815}, {'...</td>\n",
       "      <td>2B88F6144EE78D0EF8CF3489A6C4F50B</td>\n",
       "      <td>United States</td>\n",
       "      <td>IOS</td>\n",
       "      <td>en-us</td>\n",
       "      <td>64</td>\n",
       "      <td>20</td>\n",
       "      <td>19</td>\n",
       "      <td>10</td>\n",
       "      <td>0</td>\n",
       "      <td>10</td>\n",
       "      <td>0</td>\n",
       "      <td>0</td>\n",
       "      <td>0</td>\n",
       "      <td>0</td>\n",
       "      <td>0</td>\n",
       "      <td>2018-06-12 18:56:31.066010+00:00</td>\n",
       "      <td>0</td>\n",
       "    </tr>\n",
       "    <tr>\n",
       "      <th>2</th>\n",
       "      <td>0</td>\n",
       "      <td>[{'label': 1, 'prob': 0.14498119075248814}, {'...</td>\n",
       "      <td>07306BA35CEC558CCAB0B84409937A11</td>\n",
       "      <td>United States</td>\n",
       "      <td>IOS</td>\n",
       "      <td>en-us</td>\n",
       "      <td>88</td>\n",
       "      <td>0</td>\n",
       "      <td>0</td>\n",
       "      <td>0</td>\n",
       "      <td>0</td>\n",
       "      <td>1</td>\n",
       "      <td>0</td>\n",
       "      <td>0</td>\n",
       "      <td>0</td>\n",
       "      <td>0</td>\n",
       "      <td>0</td>\n",
       "      <td>2018-06-28 00:13:00.325001+00:00</td>\n",
       "      <td>0</td>\n",
       "    </tr>\n",
       "    <tr>\n",
       "      <th>3</th>\n",
       "      <td>0</td>\n",
       "      <td>[{'label': 1, 'prob': 0.13156774635165275}, {'...</td>\n",
       "      <td>2FA077E00B9A119EF4772C441710E49E</td>\n",
       "      <td>France</td>\n",
       "      <td>IOS</td>\n",
       "      <td>fr-fr</td>\n",
       "      <td>3</td>\n",
       "      <td>1</td>\n",
       "      <td>0</td>\n",
       "      <td>0</td>\n",
       "      <td>0</td>\n",
       "      <td>0</td>\n",
       "      <td>0</td>\n",
       "      <td>0</td>\n",
       "      <td>0</td>\n",
       "      <td>0</td>\n",
       "      <td>0</td>\n",
       "      <td>2018-06-13 20:20:03.408012+00:00</td>\n",
       "      <td>0</td>\n",
       "    </tr>\n",
       "    <tr>\n",
       "      <th>4</th>\n",
       "      <td>0</td>\n",
       "      <td>[{'label': 1, 'prob': 0.15083011539173766}, {'...</td>\n",
       "      <td>551130953A7F37F23035F9A91CA41C15</td>\n",
       "      <td>United States</td>\n",
       "      <td>IOS</td>\n",
       "      <td>en-us</td>\n",
       "      <td>308</td>\n",
       "      <td>121</td>\n",
       "      <td>119</td>\n",
       "      <td>0</td>\n",
       "      <td>0</td>\n",
       "      <td>0</td>\n",
       "      <td>0</td>\n",
       "      <td>0</td>\n",
       "      <td>0</td>\n",
       "      <td>0</td>\n",
       "      <td>0</td>\n",
       "      <td>2018-06-19 14:36:23.323000+00:00</td>\n",
       "      <td>0</td>\n",
       "    </tr>\n",
       "    <tr>\n",
       "      <th>...</th>\n",
       "      <td>...</td>\n",
       "      <td>...</td>\n",
       "      <td>...</td>\n",
       "      <td>...</td>\n",
       "      <td>...</td>\n",
       "      <td>...</td>\n",
       "      <td>...</td>\n",
       "      <td>...</td>\n",
       "      <td>...</td>\n",
       "      <td>...</td>\n",
       "      <td>...</td>\n",
       "      <td>...</td>\n",
       "      <td>...</td>\n",
       "      <td>...</td>\n",
       "      <td>...</td>\n",
       "      <td>...</td>\n",
       "      <td>...</td>\n",
       "      <td>...</td>\n",
       "      <td>...</td>\n",
       "    </tr>\n",
       "    <tr>\n",
       "      <th>8026</th>\n",
       "      <td>0</td>\n",
       "      <td>[{'label': 1, 'prob': 0.46342619616164515}, {'...</td>\n",
       "      <td>7B05C7F391F683C7E6A259F83B4DDB41</td>\n",
       "      <td>Japan</td>\n",
       "      <td>IOS</td>\n",
       "      <td>ja-jp</td>\n",
       "      <td>61</td>\n",
       "      <td>13</td>\n",
       "      <td>12</td>\n",
       "      <td>5</td>\n",
       "      <td>2</td>\n",
       "      <td>11</td>\n",
       "      <td>1</td>\n",
       "      <td>0</td>\n",
       "      <td>0</td>\n",
       "      <td>1</td>\n",
       "      <td>1</td>\n",
       "      <td>2018-09-16 10:15:07.943003+00:00</td>\n",
       "      <td>1</td>\n",
       "    </tr>\n",
       "    <tr>\n",
       "      <th>8027</th>\n",
       "      <td>0</td>\n",
       "      <td>[{'label': 1, 'prob': 0.36270970861710056}, {'...</td>\n",
       "      <td>4CAFA226273472F1B7C33A476F592230</td>\n",
       "      <td>Canada</td>\n",
       "      <td>IOS</td>\n",
       "      <td>en-ca</td>\n",
       "      <td>3</td>\n",
       "      <td>1</td>\n",
       "      <td>1</td>\n",
       "      <td>1</td>\n",
       "      <td>0</td>\n",
       "      <td>1</td>\n",
       "      <td>0</td>\n",
       "      <td>0</td>\n",
       "      <td>0</td>\n",
       "      <td>0</td>\n",
       "      <td>0</td>\n",
       "      <td>2018-09-16 16:48:57.725000+00:00</td>\n",
       "      <td>0</td>\n",
       "    </tr>\n",
       "    <tr>\n",
       "      <th>8028</th>\n",
       "      <td>0</td>\n",
       "      <td>[{'label': 1, 'prob': 0.26447623042730123}, {'...</td>\n",
       "      <td>8B5E68310B602B8AFA0709EA043A7FAB</td>\n",
       "      <td>France</td>\n",
       "      <td>ANDROID</td>\n",
       "      <td>fr-fr</td>\n",
       "      <td>50</td>\n",
       "      <td>2</td>\n",
       "      <td>1</td>\n",
       "      <td>0</td>\n",
       "      <td>0</td>\n",
       "      <td>9</td>\n",
       "      <td>1</td>\n",
       "      <td>0</td>\n",
       "      <td>0</td>\n",
       "      <td>1</td>\n",
       "      <td>1</td>\n",
       "      <td>2018-07-12 01:54:38.839001+00:00</td>\n",
       "      <td>1</td>\n",
       "    </tr>\n",
       "    <tr>\n",
       "      <th>8029</th>\n",
       "      <td>0</td>\n",
       "      <td>[{'label': 1, 'prob': 0.34719759614389184}, {'...</td>\n",
       "      <td>9511A7178AF9703781314EC0F5824E78</td>\n",
       "      <td>Canada</td>\n",
       "      <td>ANDROID</td>\n",
       "      <td>en-ca</td>\n",
       "      <td>18</td>\n",
       "      <td>0</td>\n",
       "      <td>0</td>\n",
       "      <td>0</td>\n",
       "      <td>0</td>\n",
       "      <td>4</td>\n",
       "      <td>0</td>\n",
       "      <td>0</td>\n",
       "      <td>0</td>\n",
       "      <td>0</td>\n",
       "      <td>0</td>\n",
       "      <td>2018-09-09 21:29:00.835004+00:00</td>\n",
       "      <td>1</td>\n",
       "    </tr>\n",
       "    <tr>\n",
       "      <th>8030</th>\n",
       "      <td>0</td>\n",
       "      <td>[{'label': 1, 'prob': 0.35904571413036446}, {'...</td>\n",
       "      <td>BA20B7F219559193E7FF0E8A5C9B6A29</td>\n",
       "      <td>United States</td>\n",
       "      <td>IOS</td>\n",
       "      <td>en-us</td>\n",
       "      <td>18</td>\n",
       "      <td>6</td>\n",
       "      <td>6</td>\n",
       "      <td>3</td>\n",
       "      <td>0</td>\n",
       "      <td>3</td>\n",
       "      <td>0</td>\n",
       "      <td>0</td>\n",
       "      <td>0</td>\n",
       "      <td>0</td>\n",
       "      <td>0</td>\n",
       "      <td>2018-09-09 21:22:25.765007+00:00</td>\n",
       "      <td>1</td>\n",
       "    </tr>\n",
       "  </tbody>\n",
       "</table>\n",
       "<p>8031 rows × 19 columns</p>\n",
       "</div>"
      ],
      "text/plain": [
       "      predicted_churned                            predicted_churned_probs  \\\n",
       "0                     0  [{'label': 1, 'prob': 0.13352095793436647}, {'...   \n",
       "1                     0  [{'label': 1, 'prob': 0.12270137067561815}, {'...   \n",
       "2                     0  [{'label': 1, 'prob': 0.14498119075248814}, {'...   \n",
       "3                     0  [{'label': 1, 'prob': 0.13156774635165275}, {'...   \n",
       "4                     0  [{'label': 1, 'prob': 0.15083011539173766}, {'...   \n",
       "...                 ...                                                ...   \n",
       "8026                  0  [{'label': 1, 'prob': 0.46342619616164515}, {'...   \n",
       "8027                  0  [{'label': 1, 'prob': 0.36270970861710056}, {'...   \n",
       "8028                  0  [{'label': 1, 'prob': 0.26447623042730123}, {'...   \n",
       "8029                  0  [{'label': 1, 'prob': 0.34719759614389184}, {'...   \n",
       "8030                  0  [{'label': 1, 'prob': 0.35904571413036446}, {'...   \n",
       "\n",
       "                        user_pseudo_id        country operating_system  \\\n",
       "0     D41AA91B61872612B5F5F4E42870042C  United States              IOS   \n",
       "1     2B88F6144EE78D0EF8CF3489A6C4F50B  United States              IOS   \n",
       "2     07306BA35CEC558CCAB0B84409937A11  United States              IOS   \n",
       "3     2FA077E00B9A119EF4772C441710E49E         France              IOS   \n",
       "4     551130953A7F37F23035F9A91CA41C15  United States              IOS   \n",
       "...                                ...            ...              ...   \n",
       "8026  7B05C7F391F683C7E6A259F83B4DDB41          Japan              IOS   \n",
       "8027  4CAFA226273472F1B7C33A476F592230         Canada              IOS   \n",
       "8028  8B5E68310B602B8AFA0709EA043A7FAB         France          ANDROID   \n",
       "8029  9511A7178AF9703781314EC0F5824E78         Canada          ANDROID   \n",
       "8030  BA20B7F219559193E7FF0E8A5C9B6A29  United States              IOS   \n",
       "\n",
       "     language  cnt_user_engagement  cnt_level_start_quickplay  \\\n",
       "0       en-us                   14                          6   \n",
       "1       en-us                   64                         20   \n",
       "2       en-us                   88                          0   \n",
       "3       fr-fr                    3                          1   \n",
       "4       en-us                  308                        121   \n",
       "...       ...                  ...                        ...   \n",
       "8026    ja-jp                   61                         13   \n",
       "8027    en-ca                    3                          1   \n",
       "8028    fr-fr                   50                          2   \n",
       "8029    en-ca                   18                          0   \n",
       "8030    en-us                   18                          6   \n",
       "\n",
       "      cnt_level_end_quickplay  cnt_level_complete_quickplay  \\\n",
       "0                           5                             4   \n",
       "1                          19                            10   \n",
       "2                           0                             0   \n",
       "3                           0                             0   \n",
       "4                         119                             0   \n",
       "...                       ...                           ...   \n",
       "8026                       12                             5   \n",
       "8027                        1                             1   \n",
       "8028                        1                             0   \n",
       "8029                        0                             0   \n",
       "8030                        6                             3   \n",
       "\n",
       "      cnt_level_reset_quickplay  cnt_post_score  cnt_spend_virtual_currency  \\\n",
       "0                             0               4                           0   \n",
       "1                             0              10                           0   \n",
       "2                             0               1                           0   \n",
       "3                             0               0                           0   \n",
       "4                             0               0                           0   \n",
       "...                         ...             ...                         ...   \n",
       "8026                          2              11                           1   \n",
       "8027                          0               1                           0   \n",
       "8028                          0               9                           1   \n",
       "8029                          0               4                           0   \n",
       "8030                          0               3                           0   \n",
       "\n",
       "      cnt_ad_reward  cnt_challenge_a_friend  cnt_completed_5_levels  \\\n",
       "0                 0                       0                       0   \n",
       "1                 0                       0                       0   \n",
       "2                 0                       0                       0   \n",
       "3                 0                       0                       0   \n",
       "4                 0                       0                       0   \n",
       "...             ...                     ...                     ...   \n",
       "8026              0                       0                       1   \n",
       "8027              0                       0                       0   \n",
       "8028              0                       0                       1   \n",
       "8029              0                       0                       0   \n",
       "8030              0                       0                       0   \n",
       "\n",
       "      cnt_use_extra_steps            user_first_engagement  churned  \n",
       "0                       0 2018-06-29 23:18:58.080003+00:00        0  \n",
       "1                       0 2018-06-12 18:56:31.066010+00:00        0  \n",
       "2                       0 2018-06-28 00:13:00.325001+00:00        0  \n",
       "3                       0 2018-06-13 20:20:03.408012+00:00        0  \n",
       "4                       0 2018-06-19 14:36:23.323000+00:00        0  \n",
       "...                   ...                              ...      ...  \n",
       "8026                    1 2018-09-16 10:15:07.943003+00:00        1  \n",
       "8027                    0 2018-09-16 16:48:57.725000+00:00        0  \n",
       "8028                    1 2018-07-12 01:54:38.839001+00:00        1  \n",
       "8029                    0 2018-09-09 21:29:00.835004+00:00        1  \n",
       "8030                    0 2018-09-09 21:22:25.765007+00:00        1  \n",
       "\n",
       "[8031 rows x 19 columns]"
      ]
     },
     "execution_count": 24,
     "metadata": {},
     "output_type": "execute_result"
    }
   ],
   "source": [
    "%%bigquery --project $PROJECT_ID\n",
    "\n",
    "SELECT\n",
    "  *\n",
    "FROM\n",
    "  ML.PREDICT(MODEL bqmlga4.churn_logreg,\n",
    "  (SELECT * FROM bqmlga4.train)) #can be replaced with a test dataset"
   ]
  },
  {
   "cell_type": "markdown",
   "metadata": {
    "id": "4WinvkfYdE1q"
   },
   "source": [
    "For propensity modeling, the most important output is the probability of a behavior occuring. The following query returns the probability that the user will return after 24 hrs. The higher the probability and closer it is to 1, the more likely the user is predicted to churn, and the closer it is to 0, the more likely the user is predicted to return."
   ]
  },
  {
   "cell_type": "code",
   "execution_count": 25,
   "metadata": {
    "colab": {
     "base_uri": "https://localhost:8080/",
     "height": 422
    },
    "id": "92eOP8Sw7zO_",
    "outputId": "a98b4dd5-39d4-43ff-ed39-7d1cdbb9a33f"
   },
   "outputs": [
    {
     "name": "stderr",
     "output_type": "stream",
     "text": [
      "Query complete after 0.00s: 100%|██████████| 14/14 [00:00<00:00, 3386.60query/s]                       \n",
      "Downloading: 100%|██████████| 8031/8031 [00:01<00:00, 5179.93rows/s]\n"
     ]
    },
    {
     "data": {
      "text/html": [
       "<div>\n",
       "<style scoped>\n",
       "    .dataframe tbody tr th:only-of-type {\n",
       "        vertical-align: middle;\n",
       "    }\n",
       "\n",
       "    .dataframe tbody tr th {\n",
       "        vertical-align: top;\n",
       "    }\n",
       "\n",
       "    .dataframe thead th {\n",
       "        text-align: right;\n",
       "    }\n",
       "</style>\n",
       "<table border=\"1\" class=\"dataframe\">\n",
       "  <thead>\n",
       "    <tr style=\"text-align: right;\">\n",
       "      <th></th>\n",
       "      <th>user_pseudo_id</th>\n",
       "      <th>churned</th>\n",
       "      <th>predicted_churned</th>\n",
       "      <th>probability_churned</th>\n",
       "    </tr>\n",
       "  </thead>\n",
       "  <tbody>\n",
       "    <tr>\n",
       "      <th>0</th>\n",
       "      <td>9BFA45225ECA7CD4D2A9F956B875CF85</td>\n",
       "      <td>0</td>\n",
       "      <td>0</td>\n",
       "      <td>0.445</td>\n",
       "    </tr>\n",
       "    <tr>\n",
       "      <th>1</th>\n",
       "      <td>49D9F34F22480512FE5B725D46D2B216</td>\n",
       "      <td>0</td>\n",
       "      <td>0</td>\n",
       "      <td>0.449</td>\n",
       "    </tr>\n",
       "    <tr>\n",
       "      <th>2</th>\n",
       "      <td>7566596A1D6ACA781692A7A0B89B06EF</td>\n",
       "      <td>0</td>\n",
       "      <td>0</td>\n",
       "      <td>0.117</td>\n",
       "    </tr>\n",
       "    <tr>\n",
       "      <th>3</th>\n",
       "      <td>734ADBB5D0874A5007E58B2F99625EE0</td>\n",
       "      <td>0</td>\n",
       "      <td>0</td>\n",
       "      <td>0.132</td>\n",
       "    </tr>\n",
       "    <tr>\n",
       "      <th>4</th>\n",
       "      <td>DA2F9499380A210F80A6FDECD29EEA35</td>\n",
       "      <td>0</td>\n",
       "      <td>0</td>\n",
       "      <td>0.188</td>\n",
       "    </tr>\n",
       "    <tr>\n",
       "      <th>...</th>\n",
       "      <td>...</td>\n",
       "      <td>...</td>\n",
       "      <td>...</td>\n",
       "      <td>...</td>\n",
       "    </tr>\n",
       "    <tr>\n",
       "      <th>8026</th>\n",
       "      <td>796209E82B1E94B73C7B45E25A86C039</td>\n",
       "      <td>1</td>\n",
       "      <td>0</td>\n",
       "      <td>0.276</td>\n",
       "    </tr>\n",
       "    <tr>\n",
       "      <th>8027</th>\n",
       "      <td>4C06E113DA2E87330590B07BC97D276F</td>\n",
       "      <td>1</td>\n",
       "      <td>0</td>\n",
       "      <td>0.191</td>\n",
       "    </tr>\n",
       "    <tr>\n",
       "      <th>8028</th>\n",
       "      <td>272A09CAD2AB02974841B266F4A7C6C5</td>\n",
       "      <td>1</td>\n",
       "      <td>0</td>\n",
       "      <td>0.308</td>\n",
       "    </tr>\n",
       "    <tr>\n",
       "      <th>8029</th>\n",
       "      <td>CFCA2039A06322FA4844F831ACD4B808</td>\n",
       "      <td>1</td>\n",
       "      <td>0</td>\n",
       "      <td>0.190</td>\n",
       "    </tr>\n",
       "    <tr>\n",
       "      <th>8030</th>\n",
       "      <td>B86EA0BFA87E80E441ABBA4D071A312B</td>\n",
       "      <td>1</td>\n",
       "      <td>0</td>\n",
       "      <td>0.210</td>\n",
       "    </tr>\n",
       "  </tbody>\n",
       "</table>\n",
       "<p>8031 rows × 4 columns</p>\n",
       "</div>"
      ],
      "text/plain": [
       "                        user_pseudo_id  churned  predicted_churned  \\\n",
       "0     9BFA45225ECA7CD4D2A9F956B875CF85        0                  0   \n",
       "1     49D9F34F22480512FE5B725D46D2B216        0                  0   \n",
       "2     7566596A1D6ACA781692A7A0B89B06EF        0                  0   \n",
       "3     734ADBB5D0874A5007E58B2F99625EE0        0                  0   \n",
       "4     DA2F9499380A210F80A6FDECD29EEA35        0                  0   \n",
       "...                                ...      ...                ...   \n",
       "8026  796209E82B1E94B73C7B45E25A86C039        1                  0   \n",
       "8027  4C06E113DA2E87330590B07BC97D276F        1                  0   \n",
       "8028  272A09CAD2AB02974841B266F4A7C6C5        1                  0   \n",
       "8029  CFCA2039A06322FA4844F831ACD4B808        1                  0   \n",
       "8030  B86EA0BFA87E80E441ABBA4D071A312B        1                  0   \n",
       "\n",
       "      probability_churned  \n",
       "0                   0.445  \n",
       "1                   0.449  \n",
       "2                   0.117  \n",
       "3                   0.132  \n",
       "4                   0.188  \n",
       "...                   ...  \n",
       "8026                0.276  \n",
       "8027                0.191  \n",
       "8028                0.308  \n",
       "8029                0.190  \n",
       "8030                0.210  \n",
       "\n",
       "[8031 rows x 4 columns]"
      ]
     },
     "execution_count": 25,
     "metadata": {},
     "output_type": "execute_result"
    }
   ],
   "source": [
    "%%bigquery --project $PROJECT_ID\n",
    "\n",
    "SELECT\n",
    "  user_pseudo_id,\n",
    "  churned,\n",
    "  predicted_churned,\n",
    "  predicted_churned_probs[OFFSET(0)].prob as probability_churned\n",
    "  \n",
    "FROM\n",
    "  ML.PREDICT(MODEL bqmlga4.churn_logreg,\n",
    "  (SELECT * FROM bqmlga4.train)) #can be replaced with a proper test dataset"
   ]
  },
  {
   "cell_type": "markdown",
   "metadata": {
    "id": "TCGAfP9DKLDH"
   },
   "source": [
    "### Exporting the predictions out of Bigquery"
   ]
  },
  {
   "cell_type": "markdown",
   "metadata": {
    "id": "EMETxq7CKtTQ"
   },
   "source": [
    "##### Reading the predictions directly from BigQuery"
   ]
  },
  {
   "cell_type": "markdown",
   "metadata": {
    "id": "6_BUvnJvKQQP"
   },
   "source": [
    "With the predictions from `ML.PREDICT`, you can export the data into a Pandas dataframe using the BigQuery Storage API (see [documentation and code samples](https://cloud.google.com/bigquery/docs/bigquery-storage-python-pandas#download_table_data_using_the_client_library)). You can also use other [BigQuery client libraries](https://cloud.google.com/bigquery/docs/reference/libraries).\n",
    "\n",
    "Alternatively you can also export directly into pandas in a notebook using the %%bigquery <variable name> as in:"
   ]
  },
  {
   "cell_type": "code",
   "execution_count": 26,
   "metadata": {
    "id": "0qB2DsQkKgEH"
   },
   "outputs": [
    {
     "name": "stderr",
     "output_type": "stream",
     "text": [
      "Query complete after 0.00s: 100%|██████████| 14/14 [00:00<00:00, 4234.84query/s]                       \n",
      "Downloading: 100%|██████████| 8031/8031 [00:01<00:00, 4965.88rows/s]\n"
     ]
    }
   ],
   "source": [
    "%%bigquery df --project $PROJECT_ID\n",
    "\n",
    "SELECT\n",
    "  user_pseudo_id,\n",
    "  churned,\n",
    "  predicted_churned,\n",
    "  predicted_churned_probs[OFFSET(0)].prob as probability_churned\n",
    "  \n",
    "FROM\n",
    "  ML.PREDICT(MODEL bqmlga4.churn_logreg,\n",
    "  (SELECT * FROM bqmlga4.train)) #can be replaced with a proper test dataset"
   ]
  },
  {
   "cell_type": "code",
   "execution_count": 27,
   "metadata": {
    "id": "-yJAFuUOKl1i"
   },
   "outputs": [
    {
     "data": {
      "text/html": [
       "<div>\n",
       "<style scoped>\n",
       "    .dataframe tbody tr th:only-of-type {\n",
       "        vertical-align: middle;\n",
       "    }\n",
       "\n",
       "    .dataframe tbody tr th {\n",
       "        vertical-align: top;\n",
       "    }\n",
       "\n",
       "    .dataframe thead th {\n",
       "        text-align: right;\n",
       "    }\n",
       "</style>\n",
       "<table border=\"1\" class=\"dataframe\">\n",
       "  <thead>\n",
       "    <tr style=\"text-align: right;\">\n",
       "      <th></th>\n",
       "      <th>user_pseudo_id</th>\n",
       "      <th>churned</th>\n",
       "      <th>predicted_churned</th>\n",
       "      <th>probability_churned</th>\n",
       "    </tr>\n",
       "  </thead>\n",
       "  <tbody>\n",
       "    <tr>\n",
       "      <th>0</th>\n",
       "      <td>20AD75FFA3C9AF1FCB8E171B18E3B971</td>\n",
       "      <td>0</td>\n",
       "      <td>0</td>\n",
       "      <td>0.125</td>\n",
       "    </tr>\n",
       "    <tr>\n",
       "      <th>1</th>\n",
       "      <td>73980AF5B8954128337EB065CE75C773</td>\n",
       "      <td>0</td>\n",
       "      <td>0</td>\n",
       "      <td>0.236</td>\n",
       "    </tr>\n",
       "    <tr>\n",
       "      <th>2</th>\n",
       "      <td>C4DDB9EF96A9030670808392326D5A8E</td>\n",
       "      <td>0</td>\n",
       "      <td>0</td>\n",
       "      <td>0.201</td>\n",
       "    </tr>\n",
       "    <tr>\n",
       "      <th>3</th>\n",
       "      <td>4A93C01615B33FF5804AF8D19895247F</td>\n",
       "      <td>0</td>\n",
       "      <td>0</td>\n",
       "      <td>0.173</td>\n",
       "    </tr>\n",
       "    <tr>\n",
       "      <th>4</th>\n",
       "      <td>08B7AEC83DA53E917D595FE60C2CB600</td>\n",
       "      <td>0</td>\n",
       "      <td>0</td>\n",
       "      <td>0.276</td>\n",
       "    </tr>\n",
       "  </tbody>\n",
       "</table>\n",
       "</div>"
      ],
      "text/plain": [
       "                     user_pseudo_id  churned  predicted_churned  \\\n",
       "0  20AD75FFA3C9AF1FCB8E171B18E3B971        0                  0   \n",
       "1  73980AF5B8954128337EB065CE75C773        0                  0   \n",
       "2  C4DDB9EF96A9030670808392326D5A8E        0                  0   \n",
       "3  4A93C01615B33FF5804AF8D19895247F        0                  0   \n",
       "4  08B7AEC83DA53E917D595FE60C2CB600        0                  0   \n",
       "\n",
       "   probability_churned  \n",
       "0                0.125  \n",
       "1                0.236  \n",
       "2                0.201  \n",
       "3                0.173  \n",
       "4                0.276  "
      ]
     },
     "execution_count": 27,
     "metadata": {},
     "output_type": "execute_result"
    }
   ],
   "source": [
    "df.head()"
   ]
  },
  {
   "cell_type": "markdown",
   "metadata": {
    "id": "wzEsO_oPK2vv"
   },
   "source": [
    "##### Export predictions table to Google Cloud Storage"
   ]
  },
  {
   "cell_type": "markdown",
   "metadata": {
    "id": "xxgKXizcK5Cy"
   },
   "source": [
    "There are several ways to export the predictions table to Google Cloud Storage (GCS), so that you can use them in a separate service. Perhaps the easiest way is to export directly to GCS using SQL ([documentation](https://cloud.google.com/bigquery/docs/reference/standard-sql/other-statements#export_data_statement))."
   ]
  },
  {
   "cell_type": "code",
   "execution_count": null,
   "metadata": {
    "id": "5iah7a0KK9lv"
   },
   "outputs": [],
   "source": [
    "%%bigquery --project $PROJECT_ID\n",
    "\n",
    "EXPORT DATA OPTIONS (\n",
    "uri=\"gs://mybucket/myfile/churnpredictions.csv\", \n",
    "  format=CSV\n",
    ") AS \n",
    "SELECT\n",
    "  user_pseudo_id,\n",
    "  churned,\n",
    "  predicted_churned,\n",
    "  predicted_churned_probs[OFFSET(0)].prob as probability_churned\n",
    "FROM\n",
    "  ML.PREDICT(MODEL bqmlga4.churn_logreg,\n",
    "  (SELECT * FROM bqmlga4.train)) #can be replaced with a proper test dataset"
   ]
  },
  {
   "cell_type": "markdown",
   "metadata": {
    "id": "kDdj9jDZFl5z"
   },
   "source": [
    "## Activate on model predictions"
   ]
  },
  {
   "cell_type": "markdown",
   "metadata": {
    "id": "WfWm7WFdmMN7"
   },
   "source": [
    "Once you have the model predictions, there are different steps you can take based on your business objective.\n",
    "\n",
    "In our analysis, we used `user_pseudo_id` as the user identifier. However, ideally, your app should send back the `user_id` from your app to Google Analytics. This will help you to:\n",
    "\n",
    "* join any first-party data you have for model predictions\n",
    "* joins the model predictions with your first-party data\n",
    "\n",
    "Once you have this join capability, you can:\n",
    "\n",
    "* Export the model predictions back into Google Analytics as user attribute. This can be done using [Data Import feature](https://support.google.com/analytics/answer/10071301) in Google Analytics 4.\n",
    "    * Based on the prediction values you can [Create and edit audiences](https://support.google.com/analytics/answer/2611404) and also do [Audience targeting](https://support.google.com/optimize/answer/6283435). For example, an audience can be users with prediction probability between 0.4 and 0.7, to represent users who are predicted to be \"on the fence\" between churning and returning.\n",
    "* Adjust the user experience for targeted users within your app. For Firebase Apps, you can use the [Import segmentments](https://firebase.google.com/docs/projects/import-segments) feature. You can tailor user experience by targeting your identified users through Firebase services such as Remote Config, Cloud Messaging, and In-App Messaging. This will involve importing the segment data from BigQuery into Firebase. After that you can send notifications to the users, configure the app for them, or follow the user journeys across devices.\n",
    "* Run targeted marketing campaigns via CRMs like Salesforce, e.g. send out reminder emails.\n"
   ]
  },
  {
   "cell_type": "markdown",
   "metadata": {
    "id": "ODjAEK2cmf9S"
   },
   "source": [
    "## Further resources: \n"
   ]
  },
  {
   "cell_type": "markdown",
   "metadata": {
    "id": "u-K-dCfJKSpi"
   },
   "source": [
    "As you collect more data from your users, you may want to regularly evaluate your model on fresh data and re-train the model if you notice that the model quality is decaying.\n",
    "\n",
    "Continuous evaluation—the process of ensuring a production machine learning model is still performing well on new data—is an essential part in any ML workflow. Performing continuous evaluation can help you catch model drift, a phenomenon that occurs when the data used to train your model no longer reflects the current environment. \n",
    "\n",
    "To learn more about how to do continous model evaluation and re-train models, you can read the blogpost: [Continuous model evaluation with BigQuery ML, Stored Procedures, and Cloud Scheduler](https://cloud.google.com/blog/topics/developers-practitioners/continuous-model-evaluation-bigquery-ml-stored-procedures-and-cloud-scheduler)"
   ]
  }
 ],
 "metadata": {
  "colab": {
   "collapsed_sections": [],
   "name": "Pattern - Propensity modeling (churn) BigQuery ML using GA4 data.ipynb",
   "provenance": []
  },
  "environment": {
   "name": "r-cpu.3-6.m58",
   "type": "gcloud",
   "uri": "gcr.io/deeplearning-platform-release/r-cpu.3-6:m58"
  },
  "kernelspec": {
   "display_name": "Python 3",
   "language": "python",
   "name": "python3"
  },
  "language_info": {
   "codemirror_mode": {
    "name": "ipython",
    "version": 3
   },
   "file_extension": ".py",
   "mimetype": "text/x-python",
   "name": "python",
   "nbconvert_exporter": "python",
   "pygments_lexer": "ipython3",
   "version": "3.7.8"
  }
 },
 "nbformat": 4,
 "nbformat_minor": 4
}

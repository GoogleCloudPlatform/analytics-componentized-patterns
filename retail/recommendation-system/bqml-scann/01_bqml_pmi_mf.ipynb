{
 "cells": [
  {
   "cell_type": "markdown",
   "metadata": {
    "id": "wlOPkKEQsVhe"
   },
   "source": [
    "# Item-to-item Recommendation using Cooccurrence and Matrix Factorization (Part 1)\n",
    "\n",
    "This tutorial shows how to use Matrix Factorization algorithm in BigQuery ML to generate embeddings for items based on their cooccurrence statistics. The generated item embeddings can be then used to find similar items.\n",
    "\n",
    "Part 1 covers the following steps:\n",
    "\n",
    "1. Explore the BigQuery data based on the `bigquery-samples dataset.playlists` dataset.\n",
    "2. Compute pairwise item cooccurrences. \n",
    "3. Train a Matrix Factorization model using BigQuery ML.\n",
    "4. Explore trained embeddings."
   ]
  },
  {
   "cell_type": "markdown",
   "metadata": {
    "id": "yLOYZMkfsW58"
   },
   "source": [
    "## Setup"
   ]
  },
  {
   "cell_type": "markdown",
   "metadata": {
    "id": "7zFymQUxs_kC"
   },
   "source": [
    "### Import libraries"
   ]
  },
  {
   "cell_type": "code",
   "execution_count": null,
   "metadata": {
    "id": "LGGgQSQQs_sp"
   },
   "outputs": [],
   "source": [
    "from google.cloud import bigquery\n",
    "from datetime import datetime\n",
    "import matplotlib.pyplot as plt, seaborn as sns"
   ]
  },
  {
   "cell_type": "markdown",
   "metadata": {
    "id": "aVulMWXysc8m"
   },
   "source": [
    "### Configure GCP environment settings"
   ]
  },
  {
   "cell_type": "code",
   "execution_count": null,
   "metadata": {
    "id": "1_3BTCjAsdHm"
   },
   "outputs": [],
   "source": [
    "PROJECT_ID = 'ksalama-cloudml'\n",
    "\n",
    "!gcloud config set project $PROJECT_ID"
   ]
  },
  {
   "cell_type": "markdown",
   "metadata": {
    "id": "FoVPZUFxsdOm"
   },
   "source": [
    "### Authenticate your GCP account\n",
    "This is required if you run the notebook in Colab"
   ]
  },
  {
   "cell_type": "code",
   "execution_count": null,
   "metadata": {
    "id": "drQzoF07sdiN"
   },
   "outputs": [],
   "source": [
    "try:\n",
    "  from google.colab import auth\n",
    "  auth.authenticate_user()\n",
    "  print(\"Colab user is authenticated.\")\n",
    "except: pass"
   ]
  },
  {
   "cell_type": "markdown",
   "metadata": {
    "id": "AeehVjyYbMak"
   },
   "source": [
    "## Exploratory Data Analysis"
   ]
  },
  {
   "cell_type": "code",
   "execution_count": null,
   "metadata": {
    "id": "yBdEEFf0-Qy7"
   },
   "outputs": [],
   "source": [
    "%%bigquery  --project $PROJECT_ID\n",
    "\n",
    "CREATE OR REPLACE TABLE recommendations.valid_items\n",
    "AS\n",
    "SELECT \n",
    "  item_Id, \n",
    "  COUNT(group_Id) AS item_frequency\n",
    "FROM recommendations.vw_item_groups\n",
    "GROUP BY item_Id\n",
    "HAVING item_frequency >= 50;\n",
    "\n",
    "SELECT COUNT(*) item_count FROM recommendations.valid_items;"
   ]
  },
  {
   "cell_type": "code",
   "execution_count": null,
   "metadata": {
    "id": "NePi9cOjEAaA"
   },
   "outputs": [],
   "source": [
    "%%bigquery  --project $PROJECT_ID\n",
    "\n",
    "CREATE OR REPLACE TABLE recommendations.valid_groups\n",
    "AS\n",
    "SELECT \n",
    "  group_Id, \n",
    "  COUNT(item_Id) AS group_size\n",
    "FROM recommendations.vw_item_groups\n",
    "WHERE item_Id IN (SELECT item_Id FROM recommendations.valid_items)\n",
    "GROUP BY group_Id\n",
    "HAVING group_size BETWEEN 2 AND 100;\n",
    "\n",
    "SELECT COUNT(*) item_count FROM recommendations.valid_groups;"
   ]
  },
  {
   "cell_type": "code",
   "execution_count": null,
   "metadata": {
    "id": "xyuWCHvnYnqI"
   },
   "outputs": [],
   "source": [
    "%%bigquery  --project $PROJECT_ID\n",
    "\n",
    "SELECT COUNT(*) record_count\n",
    "FROM `recommendations.vw_item_groups`\n",
    "WHERE item_Id IN (SELECT item_Id FROM recommendations.valid_items)\n",
    "AND group_Id IN (SELECT group_Id FROM recommendations.valid_groups);"
   ]
  },
  {
   "cell_type": "code",
   "execution_count": null,
   "metadata": {
    "id": "bRHCutyHMJeK"
   },
   "outputs": [],
   "source": [
    "%%bigquery  --project $PROJECT_ID\n",
    "\n",
    "SELECT \n",
    "  MIN(group_size) AS min_group_size, \n",
    "  MAX(group_size) AS max_group_size \n",
    "FROM \n",
    "(\n",
    "  SELECT COUNT(item_Id) AS group_size\n",
    "  FROM `recommendations.vw_item_groups`\n",
    "  WHERE item_Id IN (SELECT item_Id FROM recommendations.valid_items)\n",
    "  AND group_Id IN (SELECT group_Id FROM recommendations.valid_groups)\n",
    "  GROUP BY group_Id\n",
    ")\n"
   ]
  },
  {
   "cell_type": "code",
   "execution_count": null,
   "metadata": {
    "id": "T3Vzdt0gctkq"
   },
   "outputs": [],
   "source": [
    "%%bigquery size_distribution --project $PROJECT_ID\n",
    "\n",
    "WITH group_sizes\n",
    "AS\n",
    "(\n",
    "  SELECT \n",
    "    group_Id, \n",
    "    ML.BUCKETIZE(\n",
    "      COUNT(item_Id), [10, 20, 30, 40, 50, 100, 200])\n",
    "     AS group_size\n",
    "  FROM `recommendations.vw_item_groups`\n",
    "  WHERE item_Id IN (SELECT item_Id FROM recommendations.valid_items)\n",
    "  AND group_Id IN (SELECT group_Id FROM recommendations.valid_groups)\n",
    "  GROUP BY group_Id\n",
    ")\n",
    "\n",
    "SELECT \n",
    "  CASE \n",
    "    WHEN group_size = 'bin_1' THEN '[1 - 10]'\n",
    "    WHEN group_size = 'bin_2' THEN '[10 - 20]'\n",
    "    WHEN group_size = 'bin_3' THEN '[20 - 30]'\n",
    "    WHEN group_size = 'bin_4' THEN '[30 - 40]'\n",
    "    WHEN group_size = 'bin_5' THEN '[40 - 50]'\n",
    "    WHEN group_size = 'bin_6' THEN '[50 - 100]'\n",
    "    ELSE'[100 - 200]'\n",
    "  END AS group_size,\n",
    "  CASE \n",
    "    WHEN group_size = 'bin_1' THEN 1\n",
    "    WHEN group_size = 'bin_2' THEN 2\n",
    "    WHEN group_size = 'bin_3' THEN 3\n",
    "    WHEN group_size = 'bin_4' THEN 4\n",
    "    WHEN group_size = 'bin_5' THEN 5\n",
    "    WHEN group_size = 'bin_6' THEN 6\n",
    "    ELSE 7\n",
    "  END AS bucket_Id,\n",
    "  COUNT(group_Id) group_count\n",
    "FROM group_sizes\n",
    "GROUP BY group_size, bucket_Id\n",
    "ORDER BY bucket_Id "
   ]
  },
  {
   "cell_type": "code",
   "execution_count": null,
   "metadata": {
    "id": "diSmT8oMduma"
   },
   "outputs": [],
   "source": [
    "plt.figure(figsize=(20,5))\n",
    "q = sns.barplot(x='group_size', y='group_count', data=size_distribution)"
   ]
  },
  {
   "cell_type": "code",
   "execution_count": null,
   "metadata": {
    "id": "u05A-YiZOrga"
   },
   "outputs": [],
   "source": [
    "%%bigquery  --project $PROJECT_ID\n",
    "\n",
    "SELECT \n",
    "  MIN(group_count) AS min_group_count, \n",
    "  MAX(group_count) AS max_group_count\n",
    "FROM \n",
    "(\n",
    "  SELECT COUNT(group_Id) AS group_count\n",
    "  FROM `recommendations.vw_item_groups`\n",
    "  WHERE item_Id IN (SELECT item_Id FROM recommendations.valid_items)\n",
    "  AND group_Id IN (SELECT group_Id FROM recommendations.valid_groups)\n",
    "  GROUP BY item_Id\n",
    ")"
   ]
  },
  {
   "cell_type": "code",
   "execution_count": null,
   "metadata": {
    "id": "KEyeUhGNeyfU"
   },
   "outputs": [],
   "source": [
    "%%bigquery occurrence_distribution --project $PROJECT_ID\n",
    "\n",
    "WITH item_frequency\n",
    "AS\n",
    "(\n",
    "  SELECT \n",
    "    Item_Id, \n",
    "    ML.BUCKETIZE(\n",
    "      COUNT(group_Id)\n",
    "      , [100, 200, 300, 400]) AS group_count\n",
    "  FROM `recommendations.vw_item_groups`\n",
    "  WHERE item_Id IN (SELECT item_Id FROM recommendations.valid_items)\n",
    "  AND group_Id IN (SELECT group_Id FROM recommendations.valid_groups)\n",
    "  GROUP BY Item_Id\n",
    ")\n",
    "\n",
    "\n",
    "SELECT \n",
    "  CASE \n",
    "    WHEN group_count = 'bin_1' THEN '[1 - 100]'\n",
    "    WHEN group_count = 'bin_2' THEN '[100 - 200]'\n",
    "    WHEN group_count = 'bin_3' THEN '[200 - 300]'\n",
    "    WHEN group_count = 'bin_4' THEN '[300 - 400]'\n",
    "    ELSE '[400+]'\n",
    "  END AS group_count,\n",
    "  CASE \n",
    "    WHEN group_count = 'bin_1' THEN 1\n",
    "    WHEN group_count = 'bin_2' THEN 2\n",
    "    WHEN group_count = 'bin_3' THEN 3\n",
    "    WHEN group_count = 'bin_4' THEN 4\n",
    "    ELSE 5\n",
    "  END AS bucket_Id,\n",
    "  COUNT(Item_Id) item_count\n",
    "FROM item_frequency\n",
    "GROUP BY group_count, bucket_Id\n",
    "ORDER BY bucket_Id "
   ]
  },
  {
   "cell_type": "code",
   "execution_count": null,
   "metadata": {
    "id": "Z-T1fZIDh_Nt"
   },
   "outputs": [],
   "source": [
    "plt.figure(figsize=(20, 5))\n",
    "q = sns.barplot(x='group_count', y='item_count', data=occurrence_distribution)"
   ]
  },
  {
   "cell_type": "code",
   "execution_count": null,
   "metadata": {
    "id": "xU48zbXN1Mvq"
   },
   "outputs": [],
   "source": [
    "%%bigquery --project $PROJECT_ID\n",
    "\n",
    "DROP TABLE IF EXISTS recommendations.valid_items;"
   ]
  },
  {
   "cell_type": "code",
   "execution_count": null,
   "metadata": {
    "id": "3jtzZV_L1yqv"
   },
   "outputs": [],
   "source": [
    "%%bigquery --project $PROJECT_ID\n",
    "\n",
    "DROP TABLE IF EXISTS recommendations.valid_groups;"
   ]
  },
  {
   "cell_type": "markdown",
   "metadata": {
    "id": "1tTZYlTKtuhu"
   },
   "source": [
    "## Compute Item Cooccurrence"
   ]
  },
  {
   "cell_type": "markdown",
   "metadata": {
    "id": "Id6-wKlpdD09"
   },
   "source": [
    "### Create compute PMI stored Procedure"
   ]
  },
  {
   "cell_type": "code",
   "execution_count": null,
   "metadata": {
    "colab": {
     "base_uri": "https://localhost:8080/",
     "height": 32
    },
    "id": "I_jACjjYiHOp",
    "outputId": "9eeddd71-6979-4951-dcd5-3e8eb4e8dca7"
   },
   "outputs": [],
   "source": [
    "%%bigquery --project $PROJECT_ID\n",
    "\n",
    "CREATE OR REPLACE PROCEDURE recommendations.sp_ComputePMI(\n",
    "  IN min_item_frequency INT64,\n",
    "  IN max_group_size INT64,\n",
    "  IN negative_sample_size INT64\n",
    ")\n",
    "\n",
    "BEGIN\n",
    "\n",
    "  DECLARE total INT64;\n",
    "\n",
    "  # Get items with minimum frequency\n",
    "  CREATE OR REPLACE TABLE recommendations.valid_item_groups\n",
    "  AS\n",
    "\n",
    "  # Create valid item set\n",
    "  WITH \n",
    "  valid_items AS (\n",
    "    SELECT item_Id, COUNT(group_Id) AS item_frequency\n",
    "    FROM recommendations.vw_item_groups\n",
    "    GROUP BY item_Id\n",
    "    HAVING item_frequency >= min_item_frequency\n",
    "  ),\n",
    "\n",
    "  # Create valid group set\n",
    "  valid_groups AS (\n",
    "    SELECT group_Id, COUNT(item_Id) AS group_size\n",
    "    FROM recommendations.vw_item_groups\n",
    "    WHERE item_Id IN (SELECT item_Id FROM valid_items)\n",
    "    GROUP BY group_Id\n",
    "    HAVING group_size BETWEEN 2 AND max_group_size\n",
    "  )\n",
    "\n",
    "  SELECT item_Id, group_Id\n",
    "  FROM recommendations.vw_item_groups\n",
    "  WHERE item_Id IN (SELECT item_Id FROM valid_items)\n",
    "  AND group_Id IN (SELECT group_Id FROM valid_groups);\n",
    "\n",
    "  # Compute pairwise cooc\n",
    "  CREATE OR REPLACE TABLE recommendations.item_cooc\n",
    "  AS\n",
    "  SELECT item1_Id, item2_Id, SUM(cooc) AS cooc\n",
    "  FROM\n",
    "  (\n",
    "    SELECT\n",
    "      a.item_Id item1_Id,\n",
    "      b.item_Id item2_Id,\n",
    "      1 as cooc\n",
    "    FROM recommendations.valid_item_groups a\n",
    "    JOIN recommendations.valid_item_groups b\n",
    "    ON a.group_Id = b.group_Id\n",
    "    AND a.item_Id < b.item_Id\n",
    "  )\n",
    "  GROUP BY  item1_Id, item2_Id;\n",
    "\n",
    "  ###################################\n",
    "  \n",
    "  # Compute item frequencies\n",
    "  CREATE OR REPLACE TABLE recommendations.item_frequency\n",
    "  AS\n",
    "  SELECT item_Id, COUNT(group_Id) AS frequency\n",
    "  FROM recommendations.valid_item_groups\n",
    "  GROUP BY item_Id;\n",
    "\n",
    "  ###################################\n",
    "  \n",
    "  # Compute total frequency |D|\n",
    "  SET total = (\n",
    "    SELECT SUM(frequency)  AS total\n",
    "    FROM recommendations.item_frequency\n",
    "  );\n",
    "  \n",
    "  ###################################\n",
    "  \n",
    "  # Add same item frequency as cooc\n",
    "  CREATE OR REPLACE TABLE recommendations.item_cooc\n",
    "  AS\n",
    "  SELECT item1_Id, item2_Id, cooc \n",
    "  FROM recommendations.item_cooc\n",
    "  UNION ALL\n",
    "  SELECT item_Id as item1_Id, item_Id AS item2_Id, frequency as item_cooc\n",
    "  FROM recommendations.item_frequency;\n",
    "\n",
    "  ###################################\n",
    "\n",
    "  # Create negative samples\n",
    "  IF negative_sample_size > 0 THEN\n",
    "    CREATE OR REPLACE TABLE recommendations.item_cooc\n",
    "    AS\n",
    "\n",
    "    WITH \n",
    "    ordered_items AS (\n",
    "      SELECT  ROW_NUMBER() OVER (ORDER BY frequency DESC) number, item_Id\n",
    "      FROM recommendations.item_frequency\n",
    "    ),\n",
    "\n",
    "    top_items AS (\n",
    "      SELECT item_Id\n",
    "      FROM ordered_items\n",
    "      WHERE number <= negative_sample_size\n",
    "    ),\n",
    "\n",
    "    negative_samples AS (\n",
    "      SELECT\n",
    "        a.item as item1_Id,\n",
    "        b.item as item2_Id,\n",
    "        1 as cooc\n",
    "      FROM top_items a\n",
    "      JOIN top_items b\n",
    "      ON a.item_Id < b.item_Id\n",
    "    ),\n",
    "\n",
    "    merged AS (\n",
    "      SELECT item1_Id, item2_Id, cooc\n",
    "      FROM recommendations.item_cooc\n",
    "      UNION ALL\n",
    "      SELECT item1_Id, item2_Id, cooc\n",
    "      FROM negative_samples\n",
    "    )\n",
    "\n",
    "    SELECT item1_Id, item2_Id, MAX(cooc) AS cooc\n",
    "    FROM merged\n",
    "    GROUP BY item1_Id, item2_Id;\n",
    "  END IF;\n",
    "  ###################################\n",
    "  \n",
    "  # Compute PMI\n",
    "  CREATE OR REPLACE TABLE recommendations.item_cooc\n",
    "  AS\n",
    "  SELECT\n",
    "    a.item1_Id,\n",
    "    a.item2_Id,\n",
    "    a.cooc,\n",
    "    LOG(a.cooc, 2) - LOG(b.frequency, 2) - LOG(c.frequency, 2) + LOG(total, 2) AS pmi\n",
    "  FROM recommendations.item_cooc a\n",
    "  JOIN recommendations.item_frequency b\n",
    "  ON a.item1_Id = b.item_Id\n",
    "  JOIN recommendations.item_frequency c\n",
    "  ON a.item2_Id = c.item_Id; \n",
    "END"
   ]
  },
  {
   "cell_type": "markdown",
   "metadata": {
    "id": "cR9vUTtjdJb7"
   },
   "source": [
    "### Execute the stored procedure"
   ]
  },
  {
   "cell_type": "code",
   "execution_count": null,
   "metadata": {
    "colab": {
     "base_uri": "https://localhost:8080/",
     "height": 32
    },
    "id": "Gw8QwUhaF15_",
    "outputId": "63e20859-4551-4338-f89b-bcda2e3aa66e"
   },
   "outputs": [],
   "source": [
    "%%bigquery --project $PROJECT_ID\n",
    "\n",
    "DECLARE min_item_frequency INT64;\n",
    "DECLARE max_group_size INT64;\n",
    "DECLARE negative_samples INT64;\n",
    "\n",
    "SET min_item_frequency = 50;\n",
    "SET max_group_size = 100;\n",
    "SET negative_samples = 0;\n",
    "\n",
    "CALL recommendations.sp_ComputePMI(min_item_frequency, max_group_size, negative_samples);"
   ]
  },
  {
   "cell_type": "markdown",
   "metadata": {
    "id": "ve4DjWj4dRqU"
   },
   "source": [
    "### View the cooccurrence data"
   ]
  },
  {
   "cell_type": "code",
   "execution_count": null,
   "metadata": {
    "colab": {
     "base_uri": "https://localhost:8080/",
     "height": 348
    },
    "id": "2hwRjMOqGCl9",
    "outputId": "966413cf-f8d1-4c4d-e4ff-899daad82b25"
   },
   "outputs": [],
   "source": [
    "%%bigquery --project $PROJECT_ID\n",
    "\n",
    "SELECT \n",
    "  a.item1_Id, \n",
    "  a.item2_Id, \n",
    "  b.frequency AS freq1,\n",
    "  c.frequency AS freq2,\n",
    "  a.cooc,\n",
    "  a.pmi,\n",
    "  a.cooc * a.pmi AS score\n",
    "FROM recommendations.item_cooc a\n",
    "JOIN recommendations.item_frequency b\n",
    "ON a.item1_Id = b.item_Id\n",
    "JOIN recommendations.item_frequency c \n",
    "ON a.item2_Id = c.item_Id\n",
    "WHERE a.item1_Id != a.item2_Id\n",
    "ORDER BY score DESC\n",
    "LIMIT 10;"
   ]
  },
  {
   "cell_type": "code",
   "execution_count": null,
   "metadata": {
    "colab": {
     "base_uri": "https://localhost:8080/",
     "height": 78
    },
    "id": "DbPg-dllGjth",
    "outputId": "87d6b729-25f9-4db7-857a-434b0e09d4d1"
   },
   "outputs": [],
   "source": [
    "%%bigquery --project $PROJECT_ID\n",
    "\n",
    "SELECT COUNT(*) records_count \n",
    "FROM recommendations.item_cooc"
   ]
  },
  {
   "cell_type": "markdown",
   "metadata": {
    "id": "o2VcN4iwc8e6"
   },
   "source": [
    "## Train the BigQuery ML Matrix Factorization Model"
   ]
  },
  {
   "cell_type": "code",
   "execution_count": null,
   "metadata": {
    "colab": {
     "base_uri": "https://localhost:8080/",
     "height": 32
    },
    "id": "D7R6SehceaPp",
    "outputId": "26e81aaa-b330-4fd4-b022-88cf5ca0da05"
   },
   "outputs": [],
   "source": [
    "%%bigquery --project $PROJECT_ID\n",
    "\n",
    "CREATE OR REPLACE PROCEDURE recommendations.sp_TrainEmbeddingModel(\n",
    "  IN dimensions INT64\n",
    ")\n",
    "\n",
    "BEGIN\n",
    "\n",
    "  CREATE OR REPLACE MODEL recommendations.item_embedding_model\n",
    "  OPTIONS(\n",
    "    MODEL_TYPE='matrix_factorization', \n",
    "    FEEDBACK_TYPE='implicit',\n",
    "    WALS_ALPHA=1,\n",
    "    NUM_FACTORS=(dimensions),\n",
    "    USER_COL='item1_Id', \n",
    "    ITEM_COL='item2_Id',\n",
    "    RATING_COL='target',\n",
    "    DATA_SPLIT_METHOD='no_split'\n",
    "  )\n",
    "  AS\n",
    "  SELECT \n",
    "    item1_Id, \n",
    "    item2_Id, \n",
    "    cooc AS target\n",
    "  FROM recommendations.item_cooc;\n",
    "\n",
    "END"
   ]
  },
  {
   "cell_type": "code",
   "execution_count": null,
   "metadata": {
    "colab": {
     "base_uri": "https://localhost:8080/"
    },
    "id": "W8SDQi3SiBhW",
    "outputId": "fe63f484-017a-4288-a444-870f3659388c"
   },
   "outputs": [],
   "source": [
    "%%bigquery --project $PROJECT_ID\n",
    "\n",
    "DECLARE dimensions INT64 DEFAULT 50;\n",
    "CALL recommendations.sp_TrainEmbeddingModel(dimensions)"
   ]
  },
  {
   "cell_type": "markdown",
   "metadata": {
    "id": "OR9mOYivM9Qg"
   },
   "source": [
    "## Explore the trained embeddings"
   ]
  },
  {
   "cell_type": "code",
   "execution_count": null,
   "metadata": {
    "id": "Ug9us_TbGjYy"
   },
   "outputs": [],
   "source": [
    "songs = {\n",
    "    '2114406': 'Metallica: Nothing Else Matters',\n",
    "    '2114402': 'Metallica: The Unforgiven',\n",
    "    '2120788': 'Limp Bizkit: My Way',\n",
    "    '2120786': 'Limp Bizkit: My Generation',\n",
    "    '1086322': 'Jacques Brel: Ne Me Quitte Pas',\n",
    "    '3129954': 'Édith Piaf: Non, Je Ne Regrette Rien',\n",
    "    '53448': 'France Gall: Ella, Elle l\\'a',\n",
    "    '887688': 'Enrique Iglesias: Tired Of Being Sorry',\n",
    "    '562487': 'Shakira: Hips Don\\'t Lie',\n",
    "    '833391': 'Ricky Martin: Livin\\' la Vida Loca',\n",
    "    '1098069': 'Snoop Dogg: Drop It Like It\\'s Hot',\n",
    "    '910683': '2Pac: California Love',\n",
    "    '1579481': 'Dr. Dre: The Next Episode',\n",
    "    '2675403': 'Eminem: Lose Yourself',\n",
    "    '2954929': 'Black Sabbath: Iron Man',\n",
    "    '625169': 'Black Sabbath: Paranoid',\n",
    "}\n",
    "\n",
    "#tuple(songs.keys())\n"
   ]
  },
  {
   "cell_type": "code",
   "execution_count": null,
   "metadata": {
    "id": "0a_hI3-sNA_Q"
   },
   "outputs": [],
   "source": [
    "%%bigquery song_embeddings --project $PROJECT_ID\n",
    "\n",
    "SELECT \n",
    "  feature,\n",
    "  processed_input,\n",
    "  factor_weights,\n",
    "  intercept\n",
    "FROM\n",
    "  ML.WEIGHTS(MODEL recommendations.item_embedding_model)\n",
    "WHERE \n",
    "  feature IN ('2114406',\n",
    "              '2114402',\n",
    "              '2120788',\n",
    "              '2120786',\n",
    "              '1086322',\n",
    "              '3129954',\n",
    "              '53448',\n",
    "              '887688',\n",
    "              '562487',\n",
    "              '833391',\n",
    "              '1098069',\n",
    "              '910683',\n",
    "              '1579481',\n",
    "              '2675403',\n",
    "              '2954929',\n",
    "              '625169')"
   ]
  },
  {
   "cell_type": "code",
   "execution_count": null,
   "metadata": {
    "id": "Zfv3Rk1DQuwh"
   },
   "outputs": [],
   "source": [
    "import numpy as np\n",
    "from sklearn.metrics.pairwise import cosine_similarity\n",
    "\n",
    "def process_results(results):\n",
    "  items = list(results['feature'].unique())\n",
    "  item_embeddings = dict()\n",
    "  for item in items:\n",
    "    emebedding = [0.0]* 100\n",
    "    embedding_pair = results[results['feature'] == item]\n",
    "\n",
    "    for _, row in embedding_pair.iterrows():\n",
    "      factor_weights = list(row['factor_weights'])\n",
    "      for _, element in enumerate(factor_weights):\n",
    "        emebedding[element['factor'] - 1] += element['weight']\n",
    "\n",
    "    for idx in range(len(emebedding)):\n",
    "      emebedding[idx] /= len(embedding_pair)\n",
    "\n",
    "    item_embeddings[item] = emebedding\n",
    "    \n",
    "  return item_embeddings"
   ]
  },
  {
   "cell_type": "code",
   "execution_count": null,
   "metadata": {
    "id": "a6Hm-5mjLzlQ"
   },
   "outputs": [],
   "source": [
    "item_embeddings = process_results(song_embeddings)"
   ]
  },
  {
   "cell_type": "code",
   "execution_count": null,
   "metadata": {
    "colab": {
     "base_uri": "https://localhost:8080/"
    },
    "id": "WdkYwCnRSTVe",
    "outputId": "253dda9f-f907-43bb-bba2-26eb78c68738"
   },
   "outputs": [],
   "source": [
    "item_ids = list(item_embeddings.keys())\n",
    "for idx1 in range(0, len(item_ids) - 1):\n",
    "  item1_Id = item_ids[idx1]\n",
    "  title1 = songs[item1_Id]\n",
    "  print(title1)\n",
    "  print(\"==================\")\n",
    "  embedding1 = np.array(item_embeddings[item1_Id])\n",
    "  similar_items = []\n",
    "  for idx2 in range(len(item_ids)):\n",
    "    item2_Id = item_ids[idx2]\n",
    "    title2 = songs[item2_Id]\n",
    "    embedding2 = np.array(item_embeddings[item2_Id])\n",
    "    similarity = round(cosine_similarity([embedding1], [embedding2])[0][0], 5)\n",
    "    similar_items.append((title2, similarity))\n",
    "  \n",
    "  similar_items = sorted(similar_items, key=lambda item: item[1], reverse=True)\n",
    "  for element in similar_items[1:]:\n",
    "    print(f\"- {element[0]}' = {element[1]}\")\n",
    "  print()"
   ]
  },
  {
   "cell_type": "markdown",
   "metadata": {
    "id": "GEpzwhG8f_cG"
   },
   "source": [
    "## License\n",
    "\n",
    "Copyright 2020 Google LLC\n",
    "\n",
    "Licensed under the Apache License, Version 2.0 (the \"License\");\n",
    "you may not use this file except in compliance with the License. You may obtain a copy of the License at: http://www.apache.org/licenses/LICENSE-2.0\n",
    "\n",
    "Unless required by applicable law or agreed to in writing, software distributed under the License is distributed on an \"AS IS\" BASIS, WITHOUT WARRANTIES OR CONDITIONS OF ANY KIND, either express or implied. \n",
    "\n",
    "See the License for the specific language governing permissions and limitations under the License.\n",
    "\n",
    "**This is not an official Google product but sample code provided for an educational purpose**"
   ]
  }
 ],
 "metadata": {
  "colab": {
   "collapsed_sections": [],
   "name": "01-bqml-pmi-mf.ipynb",
   "provenance": [],
   "toc_visible": true
  },
  "environment": {
   "name": "tf2-2-3-gpu.2-3.m58",
   "type": "gcloud",
   "uri": "gcr.io/deeplearning-platform-release/tf2-2-3-gpu.2-3:m58"
  },
  "kernelspec": {
   "display_name": "Python 3",
   "language": "python",
   "name": "python3"
  },
  "language_info": {
   "codemirror_mode": {
    "name": "ipython",
    "version": 3
   },
   "file_extension": ".py",
   "mimetype": "text/x-python",
   "name": "python",
   "nbconvert_exporter": "python",
   "pygments_lexer": "ipython3",
   "version": "3.7.8"
  }
 },
 "nbformat": 4,
 "nbformat_minor": 4
}

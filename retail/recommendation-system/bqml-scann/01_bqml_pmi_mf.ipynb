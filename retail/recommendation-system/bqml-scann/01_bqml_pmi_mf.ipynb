{
  "nbformat": 4,
  "nbformat_minor": 0,
  "metadata": {
    "colab": {
      "name": "01-bqml-pmi-mf.ipynb",
      "provenance": [],
      "collapsed_sections": [],
      "toc_visible": true
    },
    "kernelspec": {
      "name": "python3",
      "display_name": "Python 3"
    }
  },
  "cells": [
    {
      "cell_type": "markdown",
      "metadata": {
        "id": "wlOPkKEQsVhe"
      },
      "source": [
        "# Item-to-item Recommendation using Cooccurrence and Matrix Factorization (Part 1)\n",
        "\n",
        "This tutorial shows how to use Matrix Factorization algorithm in BigQuery ML to generate embeddings for items based on their cooccurrence statistics. The generated item embeddings can be then used to find similar items.\n",
        "\n",
        "Part 1 covers the following steps:\n",
        "\n",
        "1. Explore the BigQuery data based on the `bigquery-samples dataset.playlists` dataset.\n",
        "2. Compute pairwise item cooccurrences. \n",
        "3. Train a Matrix Factorization model using BigQuery ML.\n",
        "4. Explore trained embeddings."
      ]
    },
    {
      "cell_type": "markdown",
      "metadata": {
        "id": "yLOYZMkfsW58"
      },
      "source": [
        "## Setup"
      ]
    },
    {
      "cell_type": "markdown",
      "metadata": {
        "id": "7zFymQUxs_kC"
      },
      "source": [
        "### Import libraries"
      ]
    },
    {
      "cell_type": "code",
      "metadata": {
        "id": "LGGgQSQQs_sp"
      },
      "source": [
        "from google.cloud import bigquery\n",
        "from datetime import datetime\n",
        "import matplotlib.pyplot as plt, seaborn as sns"
      ],
      "execution_count": null,
      "outputs": []
    },
    {
      "cell_type": "markdown",
      "metadata": {
        "id": "aVulMWXysc8m"
      },
      "source": [
        "### Configure GCP environment settings"
      ]
    },
    {
      "cell_type": "code",
      "metadata": {
        "id": "1_3BTCjAsdHm"
      },
      "source": [
        "PROJECT_ID = 'ksalama-cloudml'\n",
        "\n",
        "!gcloud config set project $PROJECT_ID"
      ],
      "execution_count": null,
      "outputs": []
    },
    {
      "cell_type": "markdown",
      "metadata": {
        "id": "FoVPZUFxsdOm"
      },
      "source": [
        "### Authenticate your GCP account\n",
        "This is required if you run the notebook in Colab"
      ]
    },
    {
      "cell_type": "code",
      "metadata": {
        "id": "drQzoF07sdiN"
      },
      "source": [
        "try:\n",
        "  from google.colab import auth\n",
        "  auth.authenticate_user()\n",
        "  print(\"Colab user is authenticated.\")\n",
        "except: pass"
      ],
      "execution_count": null,
      "outputs": []
    },
    {
      "cell_type": "markdown",
      "metadata": {
        "id": "AeehVjyYbMak"
      },
      "source": [
        "## Exploratory Data Analysis"
      ]
    },
    {
      "cell_type": "code",
      "metadata": {
        "id": "yBdEEFf0-Qy7"
      },
      "source": [
        "%%bigquery  --project $PROJECT_ID\n",
        "\n",
        "CREATE OR REPLACE TABLE recommendations.valid_items\n",
        "AS\n",
        "SELECT \n",
        "  item_Id, \n",
        "  COUNT(group_Id) AS item_frequency\n",
        "FROM recommendations.vw_item_groups\n",
        "GROUP BY item_Id\n",
        "HAVING item_frequency >= 50;\n",
        "\n",
        "SELECT COUNT(*) item_count FROM recommendations.valid_items;"
      ],
      "execution_count": null,
      "outputs": []
    },
    {
      "cell_type": "code",
      "metadata": {
        "id": "NePi9cOjEAaA"
      },
      "source": [
        "%%bigquery  --project $PROJECT_ID\n",
        "\n",
        "CREATE OR REPLACE TABLE recommendations.valid_groups\n",
        "AS\n",
        "SELECT \n",
        "  group_Id, \n",
        "  COUNT(item_Id) AS group_size\n",
        "FROM recommendations.vw_item_groups\n",
        "WHERE item_Id IN (SELECT item_Id FROM recommendations.valid_items)\n",
        "GROUP BY group_Id\n",
        "HAVING group_size BETWEEN 2 AND 100;\n",
        "\n",
        "SELECT COUNT(*) item_count FROM recommendations.valid_groups;"
      ],
      "execution_count": null,
      "outputs": []
    },
    {
      "cell_type": "code",
      "metadata": {
        "id": "xyuWCHvnYnqI"
      },
      "source": [
        "%%bigquery  --project $PROJECT_ID\n",
        "\n",
        "SELECT COUNT(*) record_count\n",
        "FROM `recommendations.vw_item_groups`\n",
        "WHERE item_Id IN (SELECT item_Id FROM recommendations.valid_items)\n",
        "AND group_Id IN (SELECT group_Id FROM recommendations.valid_groups);"
      ],
      "execution_count": null,
      "outputs": []
    },
    {
      "cell_type": "code",
      "metadata": {
        "id": "bRHCutyHMJeK"
      },
      "source": [
        "%%bigquery  --project $PROJECT_ID\n",
        "\n",
        "SELECT \n",
        "  MIN(group_size) AS min_group_size, \n",
        "  MAX(group_size) AS max_group_size \n",
        "FROM \n",
        "(\n",
        "  SELECT COUNT(item_Id) AS group_size\n",
        "  FROM `recommendations.vw_item_groups`\n",
        "  WHERE item_Id IN (SELECT item_Id FROM recommendations.valid_items)\n",
        "  AND group_Id IN (SELECT group_Id FROM recommendations.valid_groups)\n",
        "  GROUP BY group_Id\n",
        ")\n"
      ],
      "execution_count": null,
      "outputs": []
    },
    {
      "cell_type": "code",
      "metadata": {
        "id": "T3Vzdt0gctkq"
      },
      "source": [
        "%%bigquery size_distribution --project $PROJECT_ID\n",
        "\n",
        "WITH group_sizes\n",
        "AS\n",
        "(\n",
        "  SELECT \n",
        "    group_Id, \n",
        "    ML.BUCKETIZE(\n",
        "      COUNT(item_Id), [10, 20, 30, 40, 50, 100, 200])\n",
        "     AS group_size\n",
        "  FROM `recommendations.vw_item_groups`\n",
        "  WHERE item_Id IN (SELECT item_Id FROM recommendations.valid_items)\n",
        "  AND group_Id IN (SELECT group_Id FROM recommendations.valid_groups)\n",
        "  GROUP BY group_Id\n",
        ")\n",
        "\n",
        "SELECT \n",
        "  CASE \n",
        "    WHEN group_size = 'bin_1' THEN '[1 - 10]'\n",
        "    WHEN group_size = 'bin_2' THEN '[10 - 20]'\n",
        "    WHEN group_size = 'bin_3' THEN '[20 - 30]'\n",
        "    WHEN group_size = 'bin_4' THEN '[30 - 40]'\n",
        "    WHEN group_size = 'bin_5' THEN '[40 - 50]'\n",
        "    WHEN group_size = 'bin_6' THEN '[50 - 100]'\n",
        "    ELSE'[100 - 200]'\n",
        "  END AS group_size,\n",
        "  CASE \n",
        "    WHEN group_size = 'bin_1' THEN 1\n",
        "    WHEN group_size = 'bin_2' THEN 2\n",
        "    WHEN group_size = 'bin_3' THEN 3\n",
        "    WHEN group_size = 'bin_4' THEN 4\n",
        "    WHEN group_size = 'bin_5' THEN 5\n",
        "    WHEN group_size = 'bin_6' THEN 6\n",
        "    ELSE 7\n",
        "  END AS bucket_Id,\n",
        "  COUNT(group_Id) group_count\n",
        "FROM group_sizes\n",
        "GROUP BY group_size, bucket_Id\n",
        "ORDER BY bucket_Id "
      ],
      "execution_count": null,
      "outputs": []
    },
    {
      "cell_type": "code",
      "metadata": {
        "id": "diSmT8oMduma"
      },
      "source": [
        "plt.figure(figsize=(20,5))\n",
        "q = sns.barplot(x='group_size', y='group_count', data=size_distribution)"
      ],
      "execution_count": null,
      "outputs": []
    },
    {
      "cell_type": "code",
      "metadata": {
        "id": "u05A-YiZOrga"
      },
      "source": [
        "%%bigquery  --project $PROJECT_ID\n",
        "\n",
        "SELECT \n",
        "  MIN(group_count) AS min_group_count, \n",
        "  MAX(group_count) AS max_group_count\n",
        "FROM \n",
        "(\n",
        "  SELECT COUNT(group_Id) AS group_count\n",
        "  FROM `recommendations.vw_item_groups`\n",
        "  WHERE item_Id IN (SELECT item_Id FROM recommendations.valid_items)\n",
        "  AND group_Id IN (SELECT group_Id FROM recommendations.valid_groups)\n",
        "  GROUP BY item_Id\n",
        ")"
      ],
      "execution_count": null,
      "outputs": []
    },
    {
      "cell_type": "code",
      "metadata": {
        "id": "KEyeUhGNeyfU"
      },
      "source": [
        "%%bigquery occurrence_distribution --project $PROJECT_ID\n",
        "\n",
        "WITH item_frequency\n",
        "AS\n",
        "(\n",
        "  SELECT \n",
        "    Item_Id, \n",
        "    ML.BUCKETIZE(\n",
        "      COUNT(group_Id)\n",
        "      , [100, 200, 300, 400]) AS group_count\n",
        "  FROM `recommendations.vw_item_groups`\n",
        "  WHERE item_Id IN (SELECT item_Id FROM recommendations.valid_items)\n",
        "  AND group_Id IN (SELECT group_Id FROM recommendations.valid_groups)\n",
        "  GROUP BY Item_Id\n",
        ")\n",
        "\n",
        "\n",
        "SELECT \n",
        "  CASE \n",
        "    WHEN group_count = 'bin_1' THEN '[1 - 100]'\n",
        "    WHEN group_count = 'bin_2' THEN '[100 - 200]'\n",
        "    WHEN group_count = 'bin_3' THEN '[200 - 300]'\n",
        "    WHEN group_count = 'bin_4' THEN '[300 - 400]'\n",
        "    ELSE '[400+]'\n",
        "  END AS group_count,\n",
        "  CASE \n",
        "    WHEN group_count = 'bin_1' THEN 1\n",
        "    WHEN group_count = 'bin_2' THEN 2\n",
        "    WHEN group_count = 'bin_3' THEN 3\n",
        "    WHEN group_count = 'bin_4' THEN 4\n",
        "    ELSE 5\n",
        "  END AS bucket_Id,\n",
        "  COUNT(Item_Id) item_count\n",
        "FROM item_frequency\n",
        "GROUP BY group_count, bucket_Id\n",
        "ORDER BY bucket_Id "
      ],
      "execution_count": null,
      "outputs": []
    },
    {
      "cell_type": "code",
      "metadata": {
        "id": "Z-T1fZIDh_Nt"
      },
      "source": [
        "plt.figure(figsize=(20, 5))\n",
        "q = sns.barplot(x='group_count', y='item_count', data=occurrence_distribution)"
      ],
      "execution_count": null,
      "outputs": []
    },
    {
      "cell_type": "code",
      "metadata": {
        "id": "xU48zbXN1Mvq"
      },
      "source": [
        "%%bigquery --project $PROJECT_ID\n",
        "\n",
        "DROP TABLE IF EXISTS recommendations.valid_items;"
      ],
      "execution_count": null,
      "outputs": []
    },
    {
      "cell_type": "code",
      "metadata": {
        "id": "3jtzZV_L1yqv"
      },
      "source": [
        "%%bigquery --project $PROJECT_ID\n",
        "\n",
        "DROP TABLE IF EXISTS recommendations.valid_groups;"
      ],
      "execution_count": null,
      "outputs": []
    },
    {
      "cell_type": "markdown",
      "metadata": {
        "id": "1tTZYlTKtuhu"
      },
      "source": [
        "## Compute Item Cooccurrence"
      ]
    },
    {
      "cell_type": "markdown",
      "metadata": {
        "id": "Id6-wKlpdD09"
      },
      "source": [
        "### Create compute PMI stored Procedure"
      ]
    },
    {
      "cell_type": "code",
      "metadata": {
        "id": "I_jACjjYiHOp",
        "outputId": "9eeddd71-6979-4951-dcd5-3e8eb4e8dca7",
        "colab": {
          "base_uri": "https://localhost:8080/",
          "height": 32
        }
      },
      "source": [
        "%%bigquery --project $PROJECT_ID\n",
        "\n",
        "CREATE OR REPLACE PROCEDURE recommendations.sp_ComputePMI(\n",
        "  IN min_item_frequency INT64,\n",
        "  IN max_group_size INT64,\n",
        "  IN negative_sample_size INT64\n",
        ")\n",
        "\n",
        "BEGIN\n",
        "\n",
        "  DECLARE total INT64;\n",
        "\n",
        "  # Get items with minimum frequency\n",
        "  CREATE OR REPLACE TABLE recommendations.valid_item_groups\n",
        "  AS\n",
        "\n",
        "  # Create valid item set\n",
        "  WITH \n",
        "  valid_items AS (\n",
        "    SELECT item_Id, COUNT(group_Id) AS item_frequency\n",
        "    FROM recommendations.vw_item_groups\n",
        "    GROUP BY item_Id\n",
        "    HAVING item_frequency >= min_item_frequency\n",
        "  ),\n",
        "\n",
        "  # Create valid group set\n",
        "  valid_groups AS (\n",
        "    SELECT group_Id, COUNT(item_Id) AS group_size\n",
        "    FROM recommendations.vw_item_groups\n",
        "    WHERE item_Id IN (SELECT item_Id FROM valid_items)\n",
        "    GROUP BY group_Id\n",
        "    HAVING group_size BETWEEN 2 AND max_group_size\n",
        "  )\n",
        "\n",
        "  SELECT item_Id, group_Id\n",
        "  FROM recommendations.vw_item_groups\n",
        "  WHERE item_Id IN (SELECT item_Id FROM valid_items)\n",
        "  AND group_Id IN (SELECT group_Id FROM valid_groups);\n",
        "\n",
        "  # Compute pairwise cooc\n",
        "  CREATE OR REPLACE TABLE recommendations.item_cooc\n",
        "  AS\n",
        "  SELECT item1_Id, item2_Id, SUM(cooc) AS cooc\n",
        "  FROM\n",
        "  (\n",
        "    SELECT\n",
        "      a.item_Id item1_Id,\n",
        "      b.item_Id item2_Id,\n",
        "      1 as cooc\n",
        "    FROM recommendations.valid_item_groups a\n",
        "    JOIN recommendations.valid_item_groups b\n",
        "    ON a.group_Id = b.group_Id\n",
        "    AND a.item_Id < b.item_Id\n",
        "  )\n",
        "  GROUP BY  item1_Id, item2_Id;\n",
        "\n",
        "  ###################################\n",
        "  \n",
        "  # Compute item frequencies\n",
        "  CREATE OR REPLACE TABLE recommendations.item_frequency\n",
        "  AS\n",
        "  SELECT item_Id, COUNT(group_Id) AS frequency\n",
        "  FROM recommendations.valid_item_groups\n",
        "  GROUP BY item_Id;\n",
        "\n",
        "  ###################################\n",
        "  \n",
        "  # Compute total frequency |D|\n",
        "  SET total = (\n",
        "    SELECT SUM(frequency)  AS total\n",
        "    FROM recommendations.item_frequency\n",
        "  );\n",
        "  \n",
        "  ###################################\n",
        "  \n",
        "  # Add same item frequency as cooc\n",
        "  CREATE OR REPLACE TABLE recommendations.item_cooc\n",
        "  AS\n",
        "  SELECT item1_Id, item2_Id, cooc \n",
        "  FROM recommendations.item_cooc\n",
        "  UNION ALL\n",
        "  SELECT item_Id as item1_Id, item_Id AS item2_Id, frequency as item_cooc\n",
        "  FROM recommendations.item_frequency;\n",
        "\n",
        "  ###################################\n",
        "\n",
        "  # # Create negative samples\n",
        "  # IF negative_sample_size > 0 THEN\n",
        "  #   CREATE OR REPLACE TABLE recommendations.item_cooc\n",
        "  #   AS\n",
        "\n",
        "  #   WITH \n",
        "  #   top_items AS (\n",
        "  #     SELECT item_Id\n",
        "  #     FROM recommendations.item_frequency\n",
        "  #     ORDER BY frequency DESC\n",
        "  #     LIMIT negative_sample_size\n",
        "  #   ),\n",
        "\n",
        "  #   negative_samples AS (\n",
        "  #     SELECT\n",
        "  #       a.item as item1_Id,\n",
        "  #       b.item as item2_Id,\n",
        "  #       -1 as cooc\n",
        "  #     FROM top_items a\n",
        "  #     JOIN top_items b\n",
        "  #     ON a.item_Id < b.item_Id\n",
        "  #   ),\n",
        "\n",
        "  #   merged AS (\n",
        "  #     SELECT item1_Id, item2_Id, cooc\n",
        "  #     FROM recommendations.item_cooc\n",
        "  #     UNION ALL\n",
        "  #     SELECT item1_Id, item2_Id, cooc\n",
        "  #     FROM negative_samples\n",
        "  #   )\n",
        "\n",
        "  #   SELECT item1_Id, item2_Id, MAX(cooc) AS cooc\n",
        "  #   FROM merged\n",
        "  #   GROUP BY item1_Id, item2_Id;\n",
        "  # END IF;\n",
        "  ###################################\n",
        "  \n",
        "  # Compute PMI\n",
        "  CREATE OR REPLACE TABLE recommendations.item_cooc\n",
        "  AS\n",
        "  SELECT\n",
        "    a.item1_Id,\n",
        "    a.item2_Id,\n",
        "    a.cooc,\n",
        "    LOG(ABS(a.cooc), 2) - LOG(b.frequency, 2) - LOG(c.frequency, 2) + LOG(total, 2) AS pmi\n",
        "  FROM recommendations.item_cooc a\n",
        "  JOIN recommendations.item_frequency b\n",
        "  ON a.item1_Id = b.item_Id\n",
        "  JOIN recommendations.item_frequency c\n",
        "  ON a.item2_Id = c.item_Id; \n",
        "END"
      ],
      "execution_count": 69,
      "outputs": [
        {
          "output_type": "execute_result",
          "data": {
            "text/html": [
              "<div>\n",
              "<style scoped>\n",
              "    .dataframe tbody tr th:only-of-type {\n",
              "        vertical-align: middle;\n",
              "    }\n",
              "\n",
              "    .dataframe tbody tr th {\n",
              "        vertical-align: top;\n",
              "    }\n",
              "\n",
              "    .dataframe thead th {\n",
              "        text-align: right;\n",
              "    }\n",
              "</style>\n",
              "<table border=\"1\" class=\"dataframe\">\n",
              "  <thead>\n",
              "    <tr style=\"text-align: right;\">\n",
              "      <th></th>\n",
              "    </tr>\n",
              "  </thead>\n",
              "  <tbody>\n",
              "  </tbody>\n",
              "</table>\n",
              "</div>"
            ],
            "text/plain": [
              "Empty DataFrame\n",
              "Columns: []\n",
              "Index: []"
            ]
          },
          "metadata": {
            "tags": []
          },
          "execution_count": 69
        }
      ]
    },
    {
      "cell_type": "markdown",
      "metadata": {
        "id": "cR9vUTtjdJb7"
      },
      "source": [
        "### Execute the stored procedure"
      ]
    },
    {
      "cell_type": "code",
      "metadata": {
        "id": "Gw8QwUhaF15_",
        "outputId": "63e20859-4551-4338-f89b-bcda2e3aa66e",
        "colab": {
          "base_uri": "https://localhost:8080/",
          "height": 32
        }
      },
      "source": [
        "%%bigquery --project $PROJECT_ID\n",
        "\n",
        "DECLARE min_item_frequency INT64;\n",
        "DECLARE max_group_size INT64;\n",
        "DECLARE negative_samples INT64;\n",
        "\n",
        "SET min_item_frequency = 50;\n",
        "SET max_group_size = 100;\n",
        "SET negative_samples = 0;\n",
        "\n",
        "CALL recommendations.sp_ComputePMI(min_item_frequency, max_group_size, negative_samples);"
      ],
      "execution_count": 70,
      "outputs": [
        {
          "output_type": "execute_result",
          "data": {
            "text/html": [
              "<div>\n",
              "<style scoped>\n",
              "    .dataframe tbody tr th:only-of-type {\n",
              "        vertical-align: middle;\n",
              "    }\n",
              "\n",
              "    .dataframe tbody tr th {\n",
              "        vertical-align: top;\n",
              "    }\n",
              "\n",
              "    .dataframe thead th {\n",
              "        text-align: right;\n",
              "    }\n",
              "</style>\n",
              "<table border=\"1\" class=\"dataframe\">\n",
              "  <thead>\n",
              "    <tr style=\"text-align: right;\">\n",
              "      <th></th>\n",
              "    </tr>\n",
              "  </thead>\n",
              "  <tbody>\n",
              "  </tbody>\n",
              "</table>\n",
              "</div>"
            ],
            "text/plain": [
              "Empty DataFrame\n",
              "Columns: []\n",
              "Index: []"
            ]
          },
          "metadata": {
            "tags": []
          },
          "execution_count": 70
        }
      ]
    },
    {
      "cell_type": "markdown",
      "metadata": {
        "id": "ve4DjWj4dRqU"
      },
      "source": [
        "### View the cooccurrence data"
      ]
    },
    {
      "cell_type": "code",
      "metadata": {
        "id": "2hwRjMOqGCl9",
        "outputId": "966413cf-f8d1-4c4d-e4ff-899daad82b25",
        "colab": {
          "base_uri": "https://localhost:8080/",
          "height": 348
        }
      },
      "source": [
        "%%bigquery --project $PROJECT_ID\n",
        "\n",
        "SELECT \n",
        "  a.item1_Id, \n",
        "  a.item2_Id, \n",
        "  b.frequency AS freq1,\n",
        "  c.frequency AS freq2,\n",
        "  a.cooc,\n",
        "  a.pmi,\n",
        "  a.cooc * a.pmi AS score\n",
        "FROM recommendations.item_cooc a\n",
        "JOIN recommendations.item_frequency b\n",
        "ON a.item1_Id = b.item_Id\n",
        "JOIN recommendations.item_frequency c \n",
        "ON a.item2_Id = c.item_Id\n",
        "# WHERE a.item1_Id != a.item2_Id\n",
        "ORDER BY score DESC\n",
        "LIMIT 10;"
      ],
      "execution_count": 73,
      "outputs": [
        {
          "output_type": "execute_result",
          "data": {
            "text/html": [
              "<div>\n",
              "<style scoped>\n",
              "    .dataframe tbody tr th:only-of-type {\n",
              "        vertical-align: middle;\n",
              "    }\n",
              "\n",
              "    .dataframe tbody tr th {\n",
              "        vertical-align: top;\n",
              "    }\n",
              "\n",
              "    .dataframe thead th {\n",
              "        text-align: right;\n",
              "    }\n",
              "</style>\n",
              "<table border=\"1\" class=\"dataframe\">\n",
              "  <thead>\n",
              "    <tr style=\"text-align: right;\">\n",
              "      <th></th>\n",
              "      <th>item1_Id</th>\n",
              "      <th>item2_Id</th>\n",
              "      <th>freq1</th>\n",
              "      <th>freq2</th>\n",
              "      <th>cooc</th>\n",
              "      <th>pmi</th>\n",
              "    </tr>\n",
              "  </thead>\n",
              "  <tbody>\n",
              "    <tr>\n",
              "      <th>0</th>\n",
              "      <td>3146149</td>\n",
              "      <td>3146149</td>\n",
              "      <td>7129</td>\n",
              "      <td>7129</td>\n",
              "      <td>7129</td>\n",
              "      <td>9.782709</td>\n",
              "    </tr>\n",
              "    <tr>\n",
              "      <th>1</th>\n",
              "      <td>912738</td>\n",
              "      <td>912738</td>\n",
              "      <td>6534</td>\n",
              "      <td>6534</td>\n",
              "      <td>6534</td>\n",
              "      <td>9.908443</td>\n",
              "    </tr>\n",
              "    <tr>\n",
              "      <th>2</th>\n",
              "      <td>925108</td>\n",
              "      <td>925108</td>\n",
              "      <td>6351</td>\n",
              "      <td>6351</td>\n",
              "      <td>6351</td>\n",
              "      <td>9.949425</td>\n",
              "    </tr>\n",
              "    <tr>\n",
              "      <th>3</th>\n",
              "      <td>907020</td>\n",
              "      <td>907020</td>\n",
              "      <td>5608</td>\n",
              "      <td>5608</td>\n",
              "      <td>5608</td>\n",
              "      <td>10.128923</td>\n",
              "    </tr>\n",
              "    <tr>\n",
              "      <th>4</th>\n",
              "      <td>953606</td>\n",
              "      <td>953606</td>\n",
              "      <td>5502</td>\n",
              "      <td>5502</td>\n",
              "      <td>5502</td>\n",
              "      <td>10.156453</td>\n",
              "    </tr>\n",
              "    <tr>\n",
              "      <th>5</th>\n",
              "      <td>786778</td>\n",
              "      <td>786778</td>\n",
              "      <td>5048</td>\n",
              "      <td>5048</td>\n",
              "      <td>5048</td>\n",
              "      <td>10.280697</td>\n",
              "    </tr>\n",
              "    <tr>\n",
              "      <th>6</th>\n",
              "      <td>3107314</td>\n",
              "      <td>3107314</td>\n",
              "      <td>4680</td>\n",
              "      <td>4680</td>\n",
              "      <td>4680</td>\n",
              "      <td>10.389901</td>\n",
              "    </tr>\n",
              "    <tr>\n",
              "      <th>7</th>\n",
              "      <td>3147243</td>\n",
              "      <td>3147243</td>\n",
              "      <td>4678</td>\n",
              "      <td>4678</td>\n",
              "      <td>4678</td>\n",
              "      <td>10.390517</td>\n",
              "    </tr>\n",
              "    <tr>\n",
              "      <th>8</th>\n",
              "      <td>365418</td>\n",
              "      <td>365418</td>\n",
              "      <td>4643</td>\n",
              "      <td>4643</td>\n",
              "      <td>4643</td>\n",
              "      <td>10.401352</td>\n",
              "    </tr>\n",
              "    <tr>\n",
              "      <th>9</th>\n",
              "      <td>955246</td>\n",
              "      <td>955246</td>\n",
              "      <td>4578</td>\n",
              "      <td>4578</td>\n",
              "      <td>4578</td>\n",
              "      <td>10.421692</td>\n",
              "    </tr>\n",
              "  </tbody>\n",
              "</table>\n",
              "</div>"
            ],
            "text/plain": [
              "   item1_Id  item2_Id  freq1  freq2  cooc        pmi\n",
              "0   3146149   3146149   7129   7129  7129   9.782709\n",
              "1    912738    912738   6534   6534  6534   9.908443\n",
              "2    925108    925108   6351   6351  6351   9.949425\n",
              "3    907020    907020   5608   5608  5608  10.128923\n",
              "4    953606    953606   5502   5502  5502  10.156453\n",
              "5    786778    786778   5048   5048  5048  10.280697\n",
              "6   3107314   3107314   4680   4680  4680  10.389901\n",
              "7   3147243   3147243   4678   4678  4678  10.390517\n",
              "8    365418    365418   4643   4643  4643  10.401352\n",
              "9    955246    955246   4578   4578  4578  10.421692"
            ]
          },
          "metadata": {
            "tags": []
          },
          "execution_count": 73
        }
      ]
    },
    {
      "cell_type": "code",
      "metadata": {
        "id": "DbPg-dllGjth",
        "outputId": "87d6b729-25f9-4db7-857a-434b0e09d4d1",
        "colab": {
          "base_uri": "https://localhost:8080/",
          "height": 78
        }
      },
      "source": [
        "%%bigquery --project $PROJECT_ID\n",
        "\n",
        "SELECT COUNT(*) records_count \n",
        "FROM recommendations.item_cooc"
      ],
      "execution_count": 74,
      "outputs": [
        {
          "output_type": "execute_result",
          "data": {
            "text/html": [
              "<div>\n",
              "<style scoped>\n",
              "    .dataframe tbody tr th:only-of-type {\n",
              "        vertical-align: middle;\n",
              "    }\n",
              "\n",
              "    .dataframe tbody tr th {\n",
              "        vertical-align: top;\n",
              "    }\n",
              "\n",
              "    .dataframe thead th {\n",
              "        text-align: right;\n",
              "    }\n",
              "</style>\n",
              "<table border=\"1\" class=\"dataframe\">\n",
              "  <thead>\n",
              "    <tr style=\"text-align: right;\">\n",
              "      <th></th>\n",
              "      <th>records_count</th>\n",
              "    </tr>\n",
              "  </thead>\n",
              "  <tbody>\n",
              "    <tr>\n",
              "      <th>0</th>\n",
              "      <td>53235093</td>\n",
              "    </tr>\n",
              "  </tbody>\n",
              "</table>\n",
              "</div>"
            ],
            "text/plain": [
              "   records_count\n",
              "0       53235093"
            ]
          },
          "metadata": {
            "tags": []
          },
          "execution_count": 74
        }
      ]
    },
    {
      "cell_type": "markdown",
      "metadata": {
        "id": "o2VcN4iwc8e6"
      },
      "source": [
        "## Train the BigQuery ML Matrix Factorization Model"
      ]
    },
    {
      "cell_type": "code",
      "metadata": {
        "id": "D7R6SehceaPp",
        "outputId": "26e81aaa-b330-4fd4-b022-88cf5ca0da05",
        "colab": {
          "base_uri": "https://localhost:8080/",
          "height": 32
        }
      },
      "source": [
        "%%bigquery --project $PROJECT_ID\n",
        "\n",
        "CREATE OR REPLACE PROCEDURE recommendations.sp_TrainEmbeddingModel(\n",
        "  IN dimensions INT64\n",
        ")\n",
        "\n",
        "BEGIN\n",
        "\n",
        "  CREATE OR REPLACE MODEL recommendations.item_embedding_model\n",
        "  OPTIONS(\n",
        "    MODEL_TYPE='matrix_factorization', \n",
        "    FEEDBACK_TYPE='implicit',\n",
        "    WALS_ALPHA=1,\n",
        "    NUM_FACTORS=(dimensions),\n",
        "    USER_COL='item1', \n",
        "    ITEM_COL='item2',\n",
        "    RATING_COL='target',\n",
        "    DATA_SPLIT_METHOD='no_split'\n",
        "  )\n",
        "  AS\n",
        "  SELECT \n",
        "    item1, \n",
        "    item2, \n",
        "    pmi * cooc AS target\n",
        "  FROM item_recommendations.item_cooc;\n",
        "\n",
        "END"
      ],
      "execution_count": 83,
      "outputs": [
        {
          "output_type": "execute_result",
          "data": {
            "text/html": [
              "<div>\n",
              "<style scoped>\n",
              "    .dataframe tbody tr th:only-of-type {\n",
              "        vertical-align: middle;\n",
              "    }\n",
              "\n",
              "    .dataframe tbody tr th {\n",
              "        vertical-align: top;\n",
              "    }\n",
              "\n",
              "    .dataframe thead th {\n",
              "        text-align: right;\n",
              "    }\n",
              "</style>\n",
              "<table border=\"1\" class=\"dataframe\">\n",
              "  <thead>\n",
              "    <tr style=\"text-align: right;\">\n",
              "      <th></th>\n",
              "    </tr>\n",
              "  </thead>\n",
              "  <tbody>\n",
              "  </tbody>\n",
              "</table>\n",
              "</div>"
            ],
            "text/plain": [
              "Empty DataFrame\n",
              "Columns: []\n",
              "Index: []"
            ]
          },
          "metadata": {
            "tags": []
          },
          "execution_count": 83
        }
      ]
    },
    {
      "cell_type": "code",
      "metadata": {
        "id": "W8SDQi3SiBhW",
        "outputId": "fe63f484-017a-4288-a444-870f3659388c",
        "colab": {
          "base_uri": "https://localhost:8080/"
        }
      },
      "source": [
        "%%bigquery --project $PROJECT_ID\n",
        "\n",
        "DECLARE dimensions INT64 DEFAULT 50;\n",
        "CALL recommendations.sp_TrainEmbeddingModel(dimensions)"
      ],
      "execution_count": null,
      "outputs": [
        {
          "output_type": "stream",
          "text": [
            "Executing query with job ID: a729a3dd-0088-46a3-be77-e895fc6f4086\n",
            "Query executing: 6252.16s"
          ],
          "name": "stdout"
        }
      ]
    },
    {
      "cell_type": "markdown",
      "metadata": {
        "id": "OR9mOYivM9Qg"
      },
      "source": [
        "## Explore the trained embeddings"
      ]
    },
    {
      "cell_type": "code",
      "metadata": {
        "id": "Ug9us_TbGjYy"
      },
      "source": [
        "songs = {\n",
        "    '2114406': 'Metallica: Nothing Else Matters',\n",
        "    '2114402': 'Metallica: The Unforgiven',\n",
        "    '2120788': 'Limp Bizkit: My Way',\n",
        "    '2120786': 'Limp Bizkit: My Generation',\n",
        "    '1086322': 'Jacques Brel: Ne Me Quitte Pas',\n",
        "    '3129954': 'Édith Piaf: Non, Je Ne Regrette Rien',\n",
        "    '53448': 'France Gall: Ella, Elle l\\'a',\n",
        "    '887688': 'Enrique Iglesias: Tired Of Being Sorry',\n",
        "    '562487': 'Shakira: Hips Don\\'t Lie',\n",
        "    '833391': 'Ricky Martin: Livin\\' la Vida Loca',\n",
        "    '1098069': 'Snoop Dogg: Drop It Like It\\'s Hot',\n",
        "    '910683': '2Pac: California Love',\n",
        "    '1579481': 'Dr. Dre: The Next Episode',\n",
        "    '2675403': 'Eminem: Lose Yourself',\n",
        "    '2954929': 'Black Sabbath: Iron Man',\n",
        "    '625169': 'Black Sabbath: Paranoid',\n",
        "}\n",
        "\n",
        "#tuple(songs.keys())\n"
      ],
      "execution_count": 78,
      "outputs": []
    },
    {
      "cell_type": "code",
      "metadata": {
        "id": "0a_hI3-sNA_Q"
      },
      "source": [
        "%%bigquery song_embeddings --project $PROJECT_ID\n",
        "\n",
        "SELECT \n",
        "  feature,\n",
        "  processed_input,\n",
        "  factor_weights,\n",
        "  intercept\n",
        "FROM\n",
        "  ML.WEIGHTS(MODEL recommendations.item_embedding_model)\n",
        "WHERE \n",
        "  feature IN ('2114406',\n",
        "              '2114402',\n",
        "              '2120788',\n",
        "              '2120786',\n",
        "              '1086322',\n",
        "              '3129954',\n",
        "              '53448',\n",
        "              '887688',\n",
        "              '562487',\n",
        "              '833391',\n",
        "              '1098069',\n",
        "              '910683',\n",
        "              '1579481',\n",
        "              '2675403',\n",
        "              '2954929',\n",
        "              '625169')"
      ],
      "execution_count": 79,
      "outputs": []
    },
    {
      "cell_type": "code",
      "metadata": {
        "id": "Zfv3Rk1DQuwh"
      },
      "source": [
        "def process_results(results):\n",
        "  items = list(results['feature'].unique())\n",
        "  item_embeddings = dict()\n",
        "  for item in items:\n",
        "    emebedding = [0.0]* 100\n",
        "    embedding_pair = results[results['feature'] == item]\n",
        "\n",
        "    pair = []\n",
        "    i = 0\n",
        "    for _, row in embedding_pair.iterrows():\n",
        "      embed = [0.0]* 100\n",
        "      factor_weights = list(row['factor_weights'])\n",
        "      for _, element in enumerate(factor_weights):\n",
        "        emebedding[element['factor'] - 1] += element['weight']\n",
        "        embed[element['factor'] - 1] = element['weight']\n",
        "      \n",
        "      pair.append(embed)\n",
        "      i+=1\n",
        "\n",
        "    print(round(cosine_similarity([pair[0]], [pair[1]])[0][0], 5))\n",
        "    for idx in range(len(emebedding)):\n",
        "      emebedding[idx] /= len(embedding_pair)\n",
        "\n",
        "    item_embeddings[item] = emebedding\n",
        "    \n",
        "  return item_embeddings"
      ],
      "execution_count": 80,
      "outputs": []
    },
    {
      "cell_type": "code",
      "metadata": {
        "id": "a6Hm-5mjLzlQ"
      },
      "source": [
        "item_embeddings = process_results(song_embeddings)"
      ],
      "execution_count": null,
      "outputs": []
    },
    {
      "cell_type": "code",
      "metadata": {
        "id": "WdkYwCnRSTVe",
        "outputId": "253dda9f-f907-43bb-bba2-26eb78c68738",
        "colab": {
          "base_uri": "https://localhost:8080/"
        }
      },
      "source": [
        "import numpy as np\n",
        "from sklearn.metrics.pairwise import cosine_similarity\n",
        "\n",
        "item_ids = list(item_embeddings.keys())\n",
        "for idx1 in range(0, len(item_ids) - 1):\n",
        "  item1_Id = item_ids[idx1]\n",
        "  title1 = songs[item1_Id]\n",
        "  print(title1)\n",
        "  print(\"==================\")\n",
        "  embedding1 = np.array(item_embeddings[item1_Id])\n",
        "  similar_items = []\n",
        "  for idx2 in range(len(item_ids)):\n",
        "    item2_Id = item_ids[idx2]\n",
        "    title2 = songs[item2_Id]\n",
        "    embedding2 = np.array(item_embeddings[item2_Id])\n",
        "    similarity = round(cosine_similarity([embedding1], [embedding2])[0][0], 5)\n",
        "    similar_items.append((title2, similarity))\n",
        "    #print(f\" - Similarity to '{title2}' = {similarity}\")\n",
        "  \n",
        "  similar_items = sorted(similar_items, key=lambda item: item[1], reverse=True)\n",
        "  for element in similar_items[1:]:\n",
        "    print(f\"- {element[0]}' = {element[1]}\")\n",
        "  print()"
      ],
      "execution_count": 82,
      "outputs": [
        {
          "output_type": "stream",
          "text": [
            "Black Sabbath: Paranoid\n",
            "==================\n",
            "- Eminem: Lose Yourself' = 0.97393\n",
            "- Dr. Dre: The Next Episode' = 0.91738\n",
            "- Metallica: Nothing Else Matters' = 0.88501\n",
            "- Black Sabbath: Iron Man' = 0.86599\n",
            "- Metallica: The Unforgiven' = 0.84192\n",
            "- Snoop Dogg: Drop It Like It's Hot' = 0.82337\n",
            "- Limp Bizkit: My Way' = 0.79427\n",
            "- Jacques Brel: Ne Me Quitte Pas' = 0.78784\n",
            "- Limp Bizkit: My Generation' = 0.66884\n",
            "- Édith Piaf: Non, Je Ne Regrette Rien' = 0.64592\n",
            "- 2Pac: California Love' = 0.40988\n",
            "- Shakira: Hips Don't Lie' = 0.09668\n",
            "- Ricky Martin: Livin' la Vida Loca' = 0.00174\n",
            "- Enrique Iglesias: Tired Of Being Sorry' = -0.08016\n",
            "- France Gall: Ella, Elle l'a' = -0.77995\n",
            "\n",
            "Shakira: Hips Don't Lie\n",
            "==================\n",
            "- France Gall: Ella, Elle l'a' = 0.52704\n",
            "- Black Sabbath: Paranoid' = 0.09668\n",
            "- Eminem: Lose Yourself' = -0.01292\n",
            "- Dr. Dre: The Next Episode' = -0.21281\n",
            "- Metallica: Nothing Else Matters' = -0.33606\n",
            "- Black Sabbath: Iron Man' = -0.3536\n",
            "- Snoop Dogg: Drop It Like It's Hot' = -0.38767\n",
            "- Édith Piaf: Non, Je Ne Regrette Rien' = -0.4013\n",
            "- Metallica: The Unforgiven' = -0.40747\n",
            "- Limp Bizkit: My Way' = -0.44265\n",
            "- Jacques Brel: Ne Me Quitte Pas' = -0.49436\n",
            "- Limp Bizkit: My Generation' = -0.53538\n",
            "- 2Pac: California Love' = -0.79604\n",
            "- Enrique Iglesias: Tired Of Being Sorry' = -0.89631\n",
            "- Ricky Martin: Livin' la Vida Loca' = -0.92586\n",
            "\n",
            "Limp Bizkit: My Generation\n",
            "==================\n",
            "- Limp Bizkit: My Way' = 0.96854\n",
            "- Snoop Dogg: Drop It Like It's Hot' = 0.90168\n",
            "- Jacques Brel: Ne Me Quitte Pas' = 0.89159\n",
            "- Metallica: The Unforgiven' = 0.89118\n",
            "- Black Sabbath: Iron Man' = 0.882\n",
            "- Metallica: Nothing Else Matters' = 0.86563\n",
            "- Dr. Dre: The Next Episode' = 0.85526\n",
            "- 2Pac: California Love' = 0.82346\n",
            "- Eminem: Lose Yourself' = 0.71959\n",
            "- Édith Piaf: Non, Je Ne Regrette Rien' = 0.67433\n",
            "- Black Sabbath: Paranoid' = 0.66884\n",
            "- Ricky Martin: Livin' la Vida Loca' = 0.62862\n",
            "- Enrique Iglesias: Tired Of Being Sorry' = 0.54324\n",
            "- Shakira: Hips Don't Lie' = -0.53538\n",
            "- France Gall: Ella, Elle l'a' = -0.88728\n",
            "\n",
            "Limp Bizkit: My Way\n",
            "==================\n",
            "- Limp Bizkit: My Generation' = 0.96854\n",
            "- Metallica: The Unforgiven' = 0.96527\n",
            "- Snoop Dogg: Drop It Like It's Hot' = 0.9602\n",
            "- Black Sabbath: Iron Man' = 0.95823\n",
            "- Jacques Brel: Ne Me Quitte Pas' = 0.95493\n",
            "- Metallica: Nothing Else Matters' = 0.9541\n",
            "- Dr. Dre: The Next Episode' = 0.94145\n",
            "- Eminem: Lose Yourself' = 0.84926\n",
            "- Black Sabbath: Paranoid' = 0.79427\n",
            "- 2Pac: California Love' = 0.79029\n",
            "- Édith Piaf: Non, Je Ne Regrette Rien' = 0.75277\n",
            "- Ricky Martin: Livin' la Vida Loca' = 0.53898\n",
            "- Enrique Iglesias: Tired Of Being Sorry' = 0.45328\n",
            "- Shakira: Hips Don't Lie' = -0.44265\n",
            "- France Gall: Ella, Elle l'a' = -0.93754\n",
            "\n",
            "Snoop Dogg: Drop It Like It's Hot\n",
            "==================\n",
            "- Dr. Dre: The Next Episode' = 0.96552\n",
            "- Limp Bizkit: My Way' = 0.9602\n",
            "- Jacques Brel: Ne Me Quitte Pas' = 0.95753\n",
            "- Metallica: Nothing Else Matters' = 0.95616\n",
            "- Metallica: The Unforgiven' = 0.95237\n",
            "- Black Sabbath: Iron Man' = 0.93455\n",
            "- Limp Bizkit: My Generation' = 0.90168\n",
            "- Eminem: Lose Yourself' = 0.87057\n",
            "- Black Sabbath: Paranoid' = 0.82337\n",
            "- 2Pac: California Love' = 0.78224\n",
            "- Édith Piaf: Non, Je Ne Regrette Rien' = 0.70585\n",
            "- Ricky Martin: Livin' la Vida Loca' = 0.46835\n",
            "- Enrique Iglesias: Tired Of Being Sorry' = 0.40082\n",
            "- Shakira: Hips Don't Lie' = -0.38767\n",
            "- France Gall: Ella, Elle l'a' = -0.94789\n",
            "\n",
            "2Pac: California Love\n",
            "==================\n",
            "- Ricky Martin: Livin' la Vida Loca' = 0.84385\n",
            "- Limp Bizkit: My Generation' = 0.82346\n",
            "- Enrique Iglesias: Tired Of Being Sorry' = 0.81363\n",
            "- Jacques Brel: Ne Me Quitte Pas' = 0.80728\n",
            "- Limp Bizkit: My Way' = 0.79029\n",
            "- Snoop Dogg: Drop It Like It's Hot' = 0.78224\n",
            "- Metallica: The Unforgiven' = 0.75819\n",
            "- Black Sabbath: Iron Man' = 0.72801\n",
            "- Metallica: Nothing Else Matters' = 0.7159\n",
            "- Édith Piaf: Non, Je Ne Regrette Rien' = 0.66347\n",
            "- Dr. Dre: The Next Episode' = 0.64994\n",
            "- Eminem: Lose Yourself' = 0.48964\n",
            "- Black Sabbath: Paranoid' = 0.40988\n",
            "- Shakira: Hips Don't Lie' = -0.79604\n",
            "- France Gall: Ella, Elle l'a' = -0.82069\n",
            "\n",
            "Metallica: The Unforgiven\n",
            "==================\n",
            "- Metallica: Nothing Else Matters' = 0.99516\n",
            "- Jacques Brel: Ne Me Quitte Pas' = 0.98866\n",
            "- Black Sabbath: Iron Man' = 0.98748\n",
            "- Limp Bizkit: My Way' = 0.96527\n",
            "- Dr. Dre: The Next Episode' = 0.95802\n",
            "- Snoop Dogg: Drop It Like It's Hot' = 0.95237\n",
            "- Eminem: Lose Yourself' = 0.89349\n",
            "- Limp Bizkit: My Generation' = 0.89118\n",
            "- Édith Piaf: Non, Je Ne Regrette Rien' = 0.85073\n",
            "- Black Sabbath: Paranoid' = 0.84192\n",
            "- 2Pac: California Love' = 0.75819\n",
            "- Ricky Martin: Livin' la Vida Loca' = 0.50948\n",
            "- Enrique Iglesias: Tired Of Being Sorry' = 0.41594\n",
            "- Shakira: Hips Don't Lie' = -0.40747\n",
            "- France Gall: Ella, Elle l'a' = -0.95617\n",
            "\n",
            "Édith Piaf: Non, Je Ne Regrette Rien\n",
            "==================\n",
            "- Black Sabbath: Iron Man' = 0.86142\n",
            "- Metallica: The Unforgiven' = 0.85073\n",
            "- Jacques Brel: Ne Me Quitte Pas' = 0.83712\n",
            "- Metallica: Nothing Else Matters' = 0.83098\n",
            "- Limp Bizkit: My Way' = 0.75277\n",
            "- Dr. Dre: The Next Episode' = 0.73322\n",
            "- Eminem: Lose Yourself' = 0.7091\n",
            "- Snoop Dogg: Drop It Like It's Hot' = 0.70585\n",
            "- Limp Bizkit: My Generation' = 0.67433\n",
            "- 2Pac: California Love' = 0.66347\n",
            "- Black Sabbath: Paranoid' = 0.64592\n",
            "- Ricky Martin: Livin' la Vida Loca' = 0.55233\n",
            "- Enrique Iglesias: Tired Of Being Sorry' = 0.47073\n",
            "- Shakira: Hips Don't Lie' = -0.4013\n",
            "- France Gall: Ella, Elle l'a' = -0.7738\n",
            "\n",
            "Metallica: Nothing Else Matters\n",
            "==================\n",
            "- Metallica: The Unforgiven' = 0.99516\n",
            "- Black Sabbath: Iron Man' = 0.98607\n",
            "- Jacques Brel: Ne Me Quitte Pas' = 0.98063\n",
            "- Dr. Dre: The Next Episode' = 0.97256\n",
            "- Snoop Dogg: Drop It Like It's Hot' = 0.95616\n",
            "- Limp Bizkit: My Way' = 0.9541\n",
            "- Eminem: Lose Yourself' = 0.92616\n",
            "- Black Sabbath: Paranoid' = 0.88501\n",
            "- Limp Bizkit: My Generation' = 0.86563\n",
            "- Édith Piaf: Non, Je Ne Regrette Rien' = 0.83098\n",
            "- 2Pac: California Love' = 0.7159\n",
            "- Ricky Martin: Livin' la Vida Loca' = 0.43502\n",
            "- Enrique Iglesias: Tired Of Being Sorry' = 0.34519\n",
            "- Shakira: Hips Don't Lie' = -0.33606\n",
            "- France Gall: Ella, Elle l'a' = -0.95277\n",
            "\n",
            "Ricky Martin: Livin' la Vida Loca\n",
            "==================\n",
            "- Enrique Iglesias: Tired Of Being Sorry' = 0.96425\n",
            "- 2Pac: California Love' = 0.84385\n",
            "- Limp Bizkit: My Generation' = 0.62862\n",
            "- Jacques Brel: Ne Me Quitte Pas' = 0.58573\n",
            "- Édith Piaf: Non, Je Ne Regrette Rien' = 0.55233\n",
            "- Limp Bizkit: My Way' = 0.53898\n",
            "- Metallica: The Unforgiven' = 0.50948\n",
            "- Snoop Dogg: Drop It Like It's Hot' = 0.46835\n",
            "- Black Sabbath: Iron Man' = 0.45826\n",
            "- Metallica: Nothing Else Matters' = 0.43502\n",
            "- Dr. Dre: The Next Episode' = 0.30723\n",
            "- Eminem: Lose Yourself' = 0.09121\n",
            "- Black Sabbath: Paranoid' = 0.00174\n",
            "- France Gall: Ella, Elle l'a' = -0.56161\n",
            "- Shakira: Hips Don't Lie' = -0.92586\n",
            "\n",
            "Jacques Brel: Ne Me Quitte Pas\n",
            "==================\n",
            "- Metallica: The Unforgiven' = 0.98866\n",
            "- Metallica: Nothing Else Matters' = 0.98063\n",
            "- Black Sabbath: Iron Man' = 0.9672\n",
            "- Snoop Dogg: Drop It Like It's Hot' = 0.95753\n",
            "- Limp Bizkit: My Way' = 0.95493\n",
            "- Dr. Dre: The Next Episode' = 0.93325\n",
            "- Limp Bizkit: My Generation' = 0.89159\n",
            "- Eminem: Lose Yourself' = 0.84086\n",
            "- Édith Piaf: Non, Je Ne Regrette Rien' = 0.83712\n",
            "- 2Pac: California Love' = 0.80728\n",
            "- Black Sabbath: Paranoid' = 0.78784\n",
            "- Ricky Martin: Livin' la Vida Loca' = 0.58573\n",
            "- Enrique Iglesias: Tired Of Being Sorry' = 0.49914\n",
            "- Shakira: Hips Don't Lie' = -0.49436\n",
            "- France Gall: Ella, Elle l'a' = -0.97263\n",
            "\n",
            "Enrique Iglesias: Tired Of Being Sorry\n",
            "==================\n",
            "- Ricky Martin: Livin' la Vida Loca' = 0.96425\n",
            "- 2Pac: California Love' = 0.81363\n",
            "- Limp Bizkit: My Generation' = 0.54324\n",
            "- Jacques Brel: Ne Me Quitte Pas' = 0.49914\n",
            "- Édith Piaf: Non, Je Ne Regrette Rien' = 0.47073\n",
            "- Limp Bizkit: My Way' = 0.45328\n",
            "- Metallica: The Unforgiven' = 0.41594\n",
            "- Snoop Dogg: Drop It Like It's Hot' = 0.40082\n",
            "- Black Sabbath: Iron Man' = 0.3639\n",
            "- Metallica: Nothing Else Matters' = 0.34519\n",
            "- Dr. Dre: The Next Episode' = 0.21999\n",
            "- Eminem: Lose Yourself' = 0.01761\n",
            "- Black Sabbath: Paranoid' = -0.08016\n",
            "- France Gall: Ella, Elle l'a' = -0.47847\n",
            "- Shakira: Hips Don't Lie' = -0.89631\n",
            "\n",
            "Black Sabbath: Iron Man\n",
            "==================\n",
            "- Metallica: The Unforgiven' = 0.98748\n",
            "- Metallica: Nothing Else Matters' = 0.98607\n",
            "- Jacques Brel: Ne Me Quitte Pas' = 0.9672\n",
            "- Limp Bizkit: My Way' = 0.95823\n",
            "- Dr. Dre: The Next Episode' = 0.95455\n",
            "- Snoop Dogg: Drop It Like It's Hot' = 0.93455\n",
            "- Eminem: Lose Yourself' = 0.91669\n",
            "- Limp Bizkit: My Generation' = 0.882\n",
            "- Black Sabbath: Paranoid' = 0.86599\n",
            "- Édith Piaf: Non, Je Ne Regrette Rien' = 0.86142\n",
            "- 2Pac: California Love' = 0.72801\n",
            "- Ricky Martin: Livin' la Vida Loca' = 0.45826\n",
            "- Enrique Iglesias: Tired Of Being Sorry' = 0.3639\n",
            "- Shakira: Hips Don't Lie' = -0.3536\n",
            "- France Gall: Ella, Elle l'a' = -0.93978\n",
            "\n",
            "France Gall: Ella, Elle l'a\n",
            "==================\n",
            "- Shakira: Hips Don't Lie' = 0.52704\n",
            "- Enrique Iglesias: Tired Of Being Sorry' = -0.47847\n",
            "- Ricky Martin: Livin' la Vida Loca' = -0.56161\n",
            "- Édith Piaf: Non, Je Ne Regrette Rien' = -0.7738\n",
            "- Black Sabbath: Paranoid' = -0.77995\n",
            "- 2Pac: California Love' = -0.82069\n",
            "- Eminem: Lose Yourself' = -0.82506\n",
            "- Limp Bizkit: My Generation' = -0.88728\n",
            "- Dr. Dre: The Next Episode' = -0.90845\n",
            "- Limp Bizkit: My Way' = -0.93754\n",
            "- Black Sabbath: Iron Man' = -0.93978\n",
            "- Snoop Dogg: Drop It Like It's Hot' = -0.94789\n",
            "- Metallica: Nothing Else Matters' = -0.95277\n",
            "- Metallica: The Unforgiven' = -0.95617\n",
            "- Jacques Brel: Ne Me Quitte Pas' = -0.97263\n",
            "\n",
            "Eminem: Lose Yourself\n",
            "==================\n",
            "- Black Sabbath: Paranoid' = 0.97393\n",
            "- Dr. Dre: The Next Episode' = 0.95047\n",
            "- Metallica: Nothing Else Matters' = 0.92616\n",
            "- Black Sabbath: Iron Man' = 0.91669\n",
            "- Metallica: The Unforgiven' = 0.89349\n",
            "- Snoop Dogg: Drop It Like It's Hot' = 0.87057\n",
            "- Limp Bizkit: My Way' = 0.84926\n",
            "- Jacques Brel: Ne Me Quitte Pas' = 0.84086\n",
            "- Limp Bizkit: My Generation' = 0.71959\n",
            "- Édith Piaf: Non, Je Ne Regrette Rien' = 0.7091\n",
            "- 2Pac: California Love' = 0.48964\n",
            "- Ricky Martin: Livin' la Vida Loca' = 0.09121\n",
            "- Enrique Iglesias: Tired Of Being Sorry' = 0.01761\n",
            "- Shakira: Hips Don't Lie' = -0.01292\n",
            "- France Gall: Ella, Elle l'a' = -0.82506\n",
            "\n"
          ],
          "name": "stdout"
        }
      ]
    },
    {
      "cell_type": "markdown",
      "metadata": {
        "id": "GEpzwhG8f_cG"
      },
      "source": [
        "## License\n",
        "\n",
        "Copyright 2020 Google LLC\n",
        "\n",
        "Licensed under the Apache License, Version 2.0 (the \"License\");\n",
        "you may not use this file except in compliance with the License. You may obtain a copy of the License at: http://www.apache.org/licenses/LICENSE-2.0\n",
        "\n",
        "Unless required by applicable law or agreed to in writing, software distributed under the License is distributed on an \"AS IS\" BASIS, WITHOUT WARRANTIES OR CONDITIONS OF ANY KIND, either express or implied. \n",
        "\n",
        "See the License for the specific language governing permissions and limitations under the License.\n",
        "\n",
        "**This is not an official Google product but sample code provided for an educational purpose**"
      ]
    }
  ]
}
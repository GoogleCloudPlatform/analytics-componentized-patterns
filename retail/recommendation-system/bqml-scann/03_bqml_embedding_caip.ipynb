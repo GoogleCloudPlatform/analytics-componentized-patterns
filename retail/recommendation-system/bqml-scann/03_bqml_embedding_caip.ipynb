{
 "cells": [
  {
   "cell_type": "markdown",
   "metadata": {
    "id": "2WVKxCwTsFVK"
   },
   "source": [
    "# Item-to-item Recommendation using Cooccurrence and Matrix Factorization (Part 3)\n",
    "\n",
    "This tutorial shows how to use Matrix Factorization algorithm in BigQuery ML to generate embeddings for items based on their cooccurrence statistics. The generated item embeddings can be then used to find similar items.\n",
    "\n",
    "Part 3 covers serving the embeddings in Cloud AI Platform Prediction as an item-embedding lookup.\n",
    "\n"
   ]
  },
  {
   "cell_type": "markdown",
   "metadata": {
    "id": "vLLtPpTQSQM-"
   },
   "source": [
    "## Setup"
   ]
  },
  {
   "cell_type": "code",
   "execution_count": null,
   "metadata": {
    "id": "ZlnTyUeAdfnO"
   },
   "outputs": [],
   "source": [
    "!pip install -q -U pip\n",
    "!pip install -q tensorflow==2.2.0\n",
    "!pip install -q -U google-auth google-api-python-client google-api-core"
   ]
  },
  {
   "cell_type": "markdown",
   "metadata": {
    "id": "lq0qelfbSSnR"
   },
   "source": [
    "### Import libraries"
   ]
  },
  {
   "cell_type": "code",
   "execution_count": null,
   "metadata": {
    "id": "bup8vvpRSWg2"
   },
   "outputs": [],
   "source": [
    "import os\n",
    "import tensorflow as tf\n",
    "import numpy as np\n",
    "print(f'Tensorflow version: {tf.__version__}')"
   ]
  },
  {
   "cell_type": "markdown",
   "metadata": {
    "id": "Ty3pxeh3Sej9"
   },
   "source": [
    "### Configure GCP environment settings"
   ]
  },
  {
   "cell_type": "code",
   "execution_count": null,
   "metadata": {
    "id": "Yx83a_PasCBa"
   },
   "outputs": [],
   "source": [
    "PROJECT_ID = 'ksalama-cloudml'\n",
    "BUCKET = 'ksalama-cloudml'\n",
    "REGION = 'us-central1'\n",
    "MODEL_NAME = 'songs_embeddings'\n",
    "MODEL_VERSION = 'v1'\n",
    "EMBEDDING_FILES_PREFIX = f'gs://{BUCKET}/bqml/embeddings-*'\n",
    "OUTPUT_MODEL_DIR = f'gs://{BUCKET}/bqml/embedding_model'\n",
    "\n",
    "!gcloud config set project $PROJECT_ID"
   ]
  },
  {
   "cell_type": "markdown",
   "metadata": {
    "id": "My7F5vUCShdv"
   },
   "source": [
    "### Authenticate your GCP account\n",
    "This is required if you run the notebook in Colab"
   ]
  },
  {
   "cell_type": "code",
   "execution_count": null,
   "metadata": {
    "id": "PZAUnfyFShls"
   },
   "outputs": [],
   "source": [
    "try:\n",
    "  from google.colab import auth\n",
    "  auth.authenticate_user()\n",
    "  print(\"Colab user is authenticated.\")\n",
    "except: pass"
   ]
  },
  {
   "cell_type": "markdown",
   "metadata": {
    "id": "0ZvE504CYAeW"
   },
   "source": [
    "## Serve an Embedding Lookup Model on AI Platform Prediction"
   ]
  },
  {
   "cell_type": "markdown",
   "metadata": {
    "id": "ID8n2q9MSyE8"
   },
   "source": [
    "### Implement EmbeddingModel with Keras"
   ]
  },
  {
   "cell_type": "code",
   "execution_count": null,
   "metadata": {
    "id": "biKU6dd-Sk1t"
   },
   "outputs": [],
   "source": [
    "class EmbeddingModel(tf.keras.Model):\n",
    "\n",
    "  def __init__(self, embedding_files_prefix, **kwargs):\n",
    "    super(EmbeddingModel, self).__init__(**kwargs)\n",
    "\n",
    "    vocabulary = list()\n",
    "    embeddings = list()\n",
    "\n",
    "    # Read embeddings from csv files.\n",
    "    print('Loading embeddings from files ...')\n",
    "    for embedding_file in tf.io.gfile.glob(embedding_files_prefix):\n",
    "      print(f'Loading embeddings in {embedding_file} ...')\n",
    "      with tf.io.gfile.GFile(embedding_file, 'r') as lines:\n",
    "        for line in lines:\n",
    "          try:\n",
    "            line_parts = line.split(',')\n",
    "            item = line_parts[0]\n",
    "            embedding = np.array([float(v) for v in line_parts[1:]])\n",
    "            vocabulary.append(item)\n",
    "            embeddings.append(embedding)\n",
    "          except: pass\n",
    "\n",
    "    print('Embeddings loaded.')\n",
    "    embedding_size = len(embeddings[0])\n",
    "    oov_embedding = np.zeros((1, embedding_size))\n",
    "    self.embeddings = np.append(np.array(embeddings), oov_embedding, axis=0)\n",
    "    print(f'Embeddings: {self.embeddings.shape}')\n",
    "    \n",
    "    \n",
    "    # Write vocabualry file.\n",
    "    print('Writing vocabulary to file ...')\n",
    "    with open('vocabulary.txt', 'w') as f:\n",
    "      for item in vocabulary: \n",
    "        f.write(f'{item}\\n')\n",
    "    print('Vocabulary file written and will be added as a model asset.')\n",
    "    \n",
    "    self.vocabulary_file = tf.saved_model.Asset('vocabulary.txt')\n",
    "   \n",
    "\n",
    "    initializer = tf.lookup.KeyValueTensorInitializer(\n",
    "        keys=vocabulary, values=list(range(len(vocabulary))))\n",
    "    self.token_to_id = tf.lookup.StaticHashTable(\n",
    "        initializer, default_value=len(vocabulary))\n",
    "\n",
    "  @tf.function(input_signature=[tf.TensorSpec([None], tf.string)])\n",
    "  def __call__(self, inputs):\n",
    "    tokens = tf.strings.split(inputs, sep=None).to_sparse()\n",
    "    ids = self.token_to_id.lookup(tokens) \n",
    "    embeddings = tf.nn.embedding_lookup_sparse(\n",
    "        params=self.embeddings, \n",
    "        sp_ids=ids, \n",
    "        sp_weights=None, \n",
    "        combiner=\"mean\"\n",
    "    )\n",
    "    return embeddings"
   ]
  },
  {
   "cell_type": "markdown",
   "metadata": {
    "id": "7CQQUUO8X8u8"
   },
   "source": [
    "### Save the model with Serving Signatures"
   ]
  },
  {
   "cell_type": "code",
   "execution_count": null,
   "metadata": {
    "id": "IW1amfSCYMn5"
   },
   "outputs": [],
   "source": [
    "embedding_model = EmbeddingModel(EMBEDDING_FILES_PREFIX)"
   ]
  },
  {
   "cell_type": "code",
   "execution_count": null,
   "metadata": {
    "id": "-mr_LQWgV_Fg"
   },
   "outputs": [],
   "source": [
    "if tf.io.gfile.exists(OUTPUT_MODEL_DIR):\n",
    "  print(\"Removing {} contents...\".format(OUTPUT_MODEL_DIR))\n",
    "  tf.io.gfile.rmtree(OUTPUT_MODEL_DIR)\n",
    "\n",
    "signatures = {\n",
    "    'serving_default': embedding_model.__call__.get_concrete_function(),\n",
    "}\n",
    "\n",
    "tf.saved_model.save(embedding_model, OUTPUT_MODEL_DIR, signatures=signatures)"
   ]
  },
  {
   "cell_type": "code",
   "execution_count": null,
   "metadata": {
    "id": "3Y1o5lVCZqbY"
   },
   "outputs": [],
   "source": [
    "!saved_model_cli show --dir {OUTPUT_MODEL_DIR} --tag_set serve --signature_def serving_default"
   ]
  },
  {
   "cell_type": "code",
   "execution_count": null,
   "metadata": {
    "id": "serXfA5jfy0h"
   },
   "outputs": [],
   "source": [
    "loaded_model = tf.saved_model.load(OUTPUT_MODEL_DIR)"
   ]
  },
  {
   "cell_type": "code",
   "execution_count": null,
   "metadata": {
    "id": "oVveXWDIqE1V"
   },
   "outputs": [],
   "source": [
    "input_items = ['2114406', '2114402 2120788', 'abc123']\n",
    "output = loaded_model(input_items)\n",
    "print(output.shape)\n",
    "print(output[2])"
   ]
  },
  {
   "cell_type": "markdown",
   "metadata": {
    "id": "9ye3tlvFakO2"
   },
   "source": [
    "### Deploy the model to AI Platform Prediction"
   ]
  },
  {
   "cell_type": "code",
   "execution_count": null,
   "metadata": {
    "id": "wrDUNXdwaK0y"
   },
   "outputs": [],
   "source": [
    "!gcloud ai-platform models create {MODEL_NAME} --region={REGION}"
   ]
  },
  {
   "cell_type": "code",
   "execution_count": null,
   "metadata": {
    "id": "U5kjiOBIardu"
   },
   "outputs": [],
   "source": [
    "!gcloud ai-platform versions create {MODEL_VERSION} \\\n",
    "  --region={REGION} \\\n",
    "  --model={MODEL_NAME} \\\n",
    "  --origin={OUTPUT_MODEL_DIR} \\\n",
    "  --runtime-version=2.2 \\\n",
    "  --framework=TensorFlow \\\n",
    "  --python-version=3.7 \\\n",
    "  --machine-type=n1-standard-2\n",
    "\n",
    "print(\"The model version is deployed to AI Platform Prediciton.\")"
   ]
  },
  {
   "cell_type": "code",
   "execution_count": null,
   "metadata": {
    "id": "-pTi5-1SatCx"
   },
   "outputs": [],
   "source": [
    "!gcloud ai-platform versions list --model={MODEL_NAME} --region={REGION}"
   ]
  },
  {
   "cell_type": "markdown",
   "metadata": {
    "id": "07HxrhvX5rFu"
   },
   "source": [
    "### Test the deployed model"
   ]
  },
  {
   "cell_type": "code",
   "execution_count": null,
   "metadata": {
    "id": "EAw8yoWhdWIl"
   },
   "outputs": [],
   "source": [
    "import googleapiclient.discovery\n",
    "from google.api_core.client_options import ClientOptions\n",
    "\n",
    "api_endpoint = f'https://{REGION}-ml.googleapis.com'\n",
    "client_options = ClientOptions(api_endpoint=api_endpoint)\n",
    "service = googleapiclient.discovery.build(\n",
    "    serviceName='ml', version='v1', client_options=client_options)\n",
    "name = f'projects/{PROJECT_ID}/models/{MODEL_NAME}/versions/{MODEL_VERSION}'\n",
    "print(f'Service name: {name}')\n",
    "\n",
    "def caip_embedding_lookup(input_items):\n",
    "  request_body = {'instances': input_items}\n",
    "  response = service.projects().predict(name=name, body=request_body).execute()\n",
    "\n",
    "  if 'error' in response:\n",
    "    raise RuntimeError(response['error'])\n",
    "\n",
    "  return response['predictions']"
   ]
  },
  {
   "cell_type": "code",
   "execution_count": null,
   "metadata": {
    "id": "_FK2M8XOdbxS"
   },
   "outputs": [],
   "source": [
    "input_items = ['2114406', '2114402 2120788', 'abc123']\n",
    "\n",
    "embeddings = caip_embedding_lookup(input_items)\n",
    "print(f'Embeddings retrieved: {len(embeddings)}')\n",
    "for idx, embedding in enumerate(embeddings):\n",
    "  print(f'{input_items[idx]}: {embedding[:5]}')"
   ]
  },
  {
   "cell_type": "markdown",
   "metadata": {
    "id": "2zkAH5zH5n4g"
   },
   "source": [
    "## License\n",
    "\n",
    "Copyright 2020 Google LLC\n",
    "\n",
    "Licensed under the Apache License, Version 2.0 (the \"License\");\n",
    "you may not use this file except in compliance with the License. You may obtain a copy of the License at: http://www.apache.org/licenses/LICENSE-2.0\n",
    "\n",
    "Unless required by applicable law or agreed to in writing, software distributed under the License is distributed on an \"AS IS\" BASIS, WITHOUT WARRANTIES OR CONDITIONS OF ANY KIND, either express or implied. \n",
    "\n",
    "See the License for the specific language governing permissions and limitations under the License.\n",
    "\n",
    "**This is not an official Google product but sample code provided for an educational purpose**"
   ]
  },
  {
   "cell_type": "code",
   "execution_count": null,
   "metadata": {},
   "outputs": [],
   "source": []
  }
 ],
 "metadata": {
  "colab": {
   "collapsed_sections": [],
   "name": "03-bqml-embedding-caip.ipynb",
   "provenance": [],
   "toc_visible": true
  },
  "environment": {
   "name": "tf2-2-3-gpu.2-3.m58",
   "type": "gcloud",
   "uri": "gcr.io/deeplearning-platform-release/tf2-2-3-gpu.2-3:m58"
  },
  "kernelspec": {
   "display_name": "Python 3",
   "language": "python",
   "name": "python3"
  },
  "language_info": {
   "codemirror_mode": {
    "name": "ipython",
    "version": 3
   },
   "file_extension": ".py",
   "mimetype": "text/x-python",
   "name": "python",
   "nbconvert_exporter": "python",
   "pygments_lexer": "ipython3",
   "version": "3.7.8"
  }
 },
 "nbformat": 4,
 "nbformat_minor": 4
}

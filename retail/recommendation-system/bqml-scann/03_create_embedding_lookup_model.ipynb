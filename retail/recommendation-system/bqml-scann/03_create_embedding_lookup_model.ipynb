{
 "cells": [
  {
   "cell_type": "markdown",
   "metadata": {
    "id": "2WVKxCwTsFVK"
   },
   "source": [
    "# Part 3: Creating an Item Embedding Lookup Model using Keras\n",
    "\n",
    "This tutorial shows how to use Matrix Factorization algorithm in BigQuery ML to generate embeddings for items based on their cooccurrence statistics. The generated item embeddings can be then used to find similar items.\n",
    "\n",
    "Part 3 covers wrapping the item embeddings in a Keras model and exporting it\n",
    "as a SavedModel, to act as an item-embedding lookup.\n",
    "\n"
   ]
  },
  {
   "cell_type": "markdown",
   "metadata": {
    "id": "vLLtPpTQSQM-"
   },
   "source": [
    "## Setup"
   ]
  },
  {
   "cell_type": "code",
   "execution_count": null,
   "metadata": {
    "id": "ZlnTyUeAdfnO"
   },
   "outputs": [],
   "source": [
    "!pip install -q -U pip\n",
    "!pip install -q tensorflow==2.2.0\n",
    "!pip install -q -U google-auth google-api-python-client google-api-core"
   ]
  },
  {
   "cell_type": "markdown",
   "metadata": {
    "id": "lq0qelfbSSnR"
   },
   "source": [
    "### Import libraries"
   ]
  },
  {
   "cell_type": "code",
   "execution_count": null,
   "metadata": {
    "id": "bup8vvpRSWg2"
   },
   "outputs": [],
   "source": [
    "import os\n",
    "import tensorflow as tf\n",
    "import numpy as np\n",
    "print(f'Tensorflow version: {tf.__version__}')"
   ]
  },
  {
   "cell_type": "markdown",
   "metadata": {
    "id": "Ty3pxeh3Sej9"
   },
   "source": [
    "### Configure GCP environment settings"
   ]
  },
  {
   "cell_type": "code",
   "execution_count": null,
   "metadata": {
    "id": "Yx83a_PasCBa"
   },
   "outputs": [],
   "source": [
    "PROJECT_ID = 'ksalama-cloudml' # Change to your project.\n",
    "BUCKET = 'ksalama-cloudml' # Change to your bucket.\n",
    "EMBEDDING_FILES_PATH = f'gs://{BUCKET}/bqml/item_embeddings/embeddings-*'\n",
    "MODEL_OUTPUT_DIR = f'gs://{BUCKET}/bqml/embedding_lookup_model'\n",
    "\n",
    "!gcloud config set project $PROJECT_ID"
   ]
  },
  {
   "cell_type": "markdown",
   "metadata": {
    "id": "My7F5vUCShdv"
   },
   "source": [
    "### Authenticate your GCP account\n",
    "This is required if you run the notebook in Colab"
   ]
  },
  {
   "cell_type": "code",
   "execution_count": null,
   "metadata": {
    "id": "PZAUnfyFShls"
   },
   "outputs": [],
   "source": [
    "try:\n",
    "  from google.colab import auth\n",
    "  auth.authenticate_user()\n",
    "  print(\"Colab user is authenticated.\")\n",
    "except: pass"
   ]
  },
  {
   "cell_type": "markdown",
   "metadata": {},
   "source": [
    "### Create and Export an Embedding lookup SavedModel"
   ]
  },
  {
   "cell_type": "code",
   "execution_count": null,
   "metadata": {},
   "outputs": [],
   "source": [
    "if tf.io.gfile.exists(MODEL_OUTPUT_DIR):\n",
    "  print(\"Removing {} contents...\".format(MODEL_OUTPUT_DIR))\n",
    "  tf.io.gfile.rmtree(MODEL_OUTPUT_DIR)"
   ]
  },
  {
   "cell_type": "code",
   "execution_count": null,
   "metadata": {
    "id": "IW1amfSCYMn5"
   },
   "outputs": [],
   "source": [
    "from embeddings_lookup import lookup_exporter\n",
    "lookup_exporter.export_saved_model(EMBEDDING_FILES_PATH, MODEL_OUTPUT_DIR)"
   ]
  },
  {
   "cell_type": "code",
   "execution_count": null,
   "metadata": {
    "id": "3Y1o5lVCZqbY"
   },
   "outputs": [],
   "source": [
    "!saved_model_cli show --dir {MODEL_OUTPUT_DIR} --tag_set serve --signature_def serving_default"
   ]
  },
  {
   "cell_type": "code",
   "execution_count": null,
   "metadata": {
    "id": "serXfA5jfy0h"
   },
   "outputs": [],
   "source": [
    "loaded_model = tf.saved_model.load(MODEL_OUTPUT_DIR)"
   ]
  },
  {
   "cell_type": "code",
   "execution_count": null,
   "metadata": {
    "id": "oVveXWDIqE1V"
   },
   "outputs": [],
   "source": [
    "input_items = ['2114406', '2114402 2120788', 'abc123']\n",
    "output = loaded_model(input_items)\n",
    "print(f'Embeddings retrieved: {output.shape}')\n",
    "for idx, embedding in enumerate(output):\n",
    "  print(f'{input_items[idx]}: {embedding[:5]}')"
   ]
  },
  {
   "cell_type": "markdown",
   "metadata": {
    "id": "2zkAH5zH5n4g"
   },
   "source": [
    "## License\n",
    "\n",
    "Copyright 2020 Google LLC\n",
    "\n",
    "Licensed under the Apache License, Version 2.0 (the \"License\");\n",
    "you may not use this file except in compliance with the License. You may obtain a copy of the License at: http://www.apache.org/licenses/LICENSE-2.0\n",
    "\n",
    "Unless required by applicable law or agreed to in writing, software distributed under the License is distributed on an \"AS IS\" BASIS, WITHOUT WARRANTIES OR CONDITIONS OF ANY KIND, either express or implied. \n",
    "\n",
    "See the License for the specific language governing permissions and limitations under the License.\n",
    "\n",
    "**This is not an official Google product but sample code provided for an educational purpose**"
   ]
  }
 ],
 "metadata": {
  "colab": {
   "collapsed_sections": [],
   "name": "03-bqml-embedding-caip.ipynb",
   "provenance": [],
   "toc_visible": true
  },
  "environment": {
   "name": "tf2-2-3-gpu.2-3.m59",
   "type": "gcloud",
   "uri": "gcr.io/deeplearning-platform-release/tf2-2-3-gpu.2-3:m59"
  },
  "kernelspec": {
   "display_name": "Python 3",
   "language": "python",
   "name": "python3"
  },
  "language_info": {
   "codemirror_mode": {
    "name": "ipython",
    "version": 3
   },
   "file_extension": ".py",
   "mimetype": "text/x-python",
   "name": "python",
   "nbconvert_exporter": "python",
   "pygments_lexer": "ipython3",
   "version": "3.7.8"
  }
 },
 "nbformat": 4,
 "nbformat_minor": 4
}

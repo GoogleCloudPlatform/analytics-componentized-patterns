{
 "cells": [
  {
   "cell_type": "markdown",
   "metadata": {
    "id": "2WVKxCwTsFVK"
   },
   "source": [
<<<<<<< HEAD
    "# Part 3: Serving the Item Embeddings as a Lookup Model in AI Platform Prediction\n",
    "\n",
    "This tutorial shows how to use Matrix Factorization algorithm in BigQuery ML to generate embeddings for items based on their cooccurrence statistics. The generated item embeddings can be then used to find similar items.\n",
    "\n",
    "Part 3 covers wrapping the item embeddings in a Keras model, exporting it\n",
    "as a SavedModel, and serving the embeddings in Cloud AI Platform Prediction as an item-embedding lookup.\n",
=======
    "# Item-to-item Recommendation using Cooccurrence and Matrix Factorization (Part 3)\n",
    "\n",
    "This tutorial shows how to use Matrix Factorization algorithm in BigQuery ML to generate embeddings for items based on their cooccurrence statistics. The generated item embeddings can be then used to find similar items.\n",
    "\n",
    "Part 3 covers serving the embeddings in Cloud AI Platform Prediction as an item-embedding lookup.\n",
>>>>>>> 789235981ee63da0a3bfd5785159f072e06d4551
    "\n"
   ]
  },
  {
   "cell_type": "markdown",
   "metadata": {
    "id": "vLLtPpTQSQM-"
   },
   "source": [
    "## Setup"
   ]
  },
  {
   "cell_type": "code",
   "execution_count": null,
   "metadata": {
    "id": "ZlnTyUeAdfnO"
   },
   "outputs": [],
   "source": [
    "!pip install -q -U pip\n",
    "!pip install -q tensorflow==2.2.0\n",
    "!pip install -q -U google-auth google-api-python-client google-api-core"
   ]
  },
  {
<<<<<<< HEAD
=======
   "cell_type": "code",
   "execution_count": null,
   "metadata": {},
   "outputs": [],
   "source": [
    "%load_ext autoreload\n",
    "%autoreload 2"
   ]
  },
  {
>>>>>>> 789235981ee63da0a3bfd5785159f072e06d4551
   "cell_type": "markdown",
   "metadata": {
    "id": "lq0qelfbSSnR"
   },
   "source": [
    "### Import libraries"
   ]
  },
  {
   "cell_type": "code",
   "execution_count": null,
   "metadata": {
    "id": "bup8vvpRSWg2"
   },
   "outputs": [],
   "source": [
    "import os\n",
    "import tensorflow as tf\n",
    "import numpy as np\n",
    "print(f'Tensorflow version: {tf.__version__}')"
   ]
  },
  {
   "cell_type": "markdown",
   "metadata": {
    "id": "Ty3pxeh3Sej9"
   },
   "source": [
    "### Configure GCP environment settings"
   ]
  },
  {
   "cell_type": "code",
   "execution_count": null,
   "metadata": {
    "id": "Yx83a_PasCBa"
   },
   "outputs": [],
   "source": [
    "PROJECT_ID = 'ksalama-cloudml'\n",
    "BUCKET = 'ksalama-cloudml'\n",
    "REGION = 'us-central1'\n",
    "MODEL_NAME = 'item_embedding_lookup'\n",
    "MODEL_VERSION = 'v1'\n",
    "EMBEDDING_FILES_PATH = f'gs://{BUCKET}/bqml/item_embeddings/embeddings-*'\n",
    "MODEL_OUTPUT_DIR = f'gs://{BUCKET}/bqml/embedding_lookup_model'\n",
    "\n",
    "!gcloud config set project $PROJECT_ID"
   ]
  },
  {
   "cell_type": "markdown",
   "metadata": {
    "id": "My7F5vUCShdv"
   },
   "source": [
    "### Authenticate your GCP account\n",
    "This is required if you run the notebook in Colab"
   ]
  },
  {
   "cell_type": "code",
   "execution_count": null,
   "metadata": {
    "id": "PZAUnfyFShls"
   },
   "outputs": [],
   "source": [
    "try:\n",
    "  from google.colab import auth\n",
    "  auth.authenticate_user()\n",
    "  print(\"Colab user is authenticated.\")\n",
    "except: pass"
   ]
  },
  {
   "cell_type": "markdown",
   "metadata": {},
   "source": [
    "### Create and Export an Embedding lookup SavedModel"
   ]
  },
  {
   "cell_type": "code",
   "execution_count": null,
   "metadata": {},
   "outputs": [],
   "source": [
    "if tf.io.gfile.exists(MODEL_OUTPUT_DIR):\n",
    "  print(\"Removing {} contents...\".format(MODEL_OUTPUT_DIR))\n",
    "  tf.io.gfile.rmtree(MODEL_OUTPUT_DIR)"
   ]
  },
  {
   "cell_type": "code",
   "execution_count": null,
   "metadata": {
    "id": "IW1amfSCYMn5"
   },
   "outputs": [],
   "source": [
    "from embeddings_lookup import lookup_exporter\n",
    "lookup_exporter.export_saved_model(EMBEDDING_FILES_PATH, MODEL_OUTPUT_DIR)"
   ]
  },
  {
   "cell_type": "code",
   "execution_count": null,
   "metadata": {
    "id": "3Y1o5lVCZqbY"
   },
   "outputs": [],
   "source": [
    "!saved_model_cli show --dir {MODEL_OUTPUT_DIR} --tag_set serve --signature_def serving_default"
   ]
  },
  {
   "cell_type": "code",
   "execution_count": null,
   "metadata": {
    "id": "serXfA5jfy0h"
   },
   "outputs": [],
   "source": [
    "loaded_model = tf.saved_model.load(MODEL_OUTPUT_DIR)"
   ]
  },
  {
   "cell_type": "code",
   "execution_count": null,
   "metadata": {
    "id": "oVveXWDIqE1V"
   },
   "outputs": [],
   "source": [
    "input_items = ['2114406', '2114402 2120788', 'abc123']\n",
    "output = loaded_model(input_items)\n",
    "print(f'Embeddings retrieved: {len(output)}')\n",
    "for idx, embedding in enumerate(output):\n",
    "  print(f'{input_items[idx]}: {embedding[:5]}')"
   ]
  },
  {
   "cell_type": "markdown",
   "metadata": {
    "id": "0ZvE504CYAeW"
   },
   "source": [
    "## Serve an Embedding Lookup Model on AI Platform Prediction"
   ]
  },
  {
   "cell_type": "code",
   "execution_count": null,
   "metadata": {
    "id": "wrDUNXdwaK0y"
   },
   "outputs": [],
   "source": [
    "!gcloud ai-platform models create {MODEL_NAME} --region={REGION}"
   ]
  },
  {
   "cell_type": "code",
   "execution_count": null,
   "metadata": {
    "id": "U5kjiOBIardu"
   },
   "outputs": [],
   "source": [
    "!gcloud ai-platform versions create {MODEL_VERSION} \\\n",
    "  --region={REGION} \\\n",
    "  --model={MODEL_NAME} \\\n",
    "  --origin={MODEL_OUTPUT_DIR} \\\n",
    "  --runtime-version=2.2 \\\n",
    "  --framework=TensorFlow \\\n",
    "  --python-version=3.7 \\\n",
    "  --machine-type=n1-standard-2\n",
    "\n",
    "print(\"The model version is deployed to AI Platform Prediciton.\")"
   ]
  },
  {
   "cell_type": "code",
   "execution_count": null,
   "metadata": {
    "id": "-pTi5-1SatCx"
   },
   "outputs": [],
   "source": [
    "!gcloud ai-platform versions list --model={MODEL_NAME} --region={REGION}"
   ]
  },
  {
   "cell_type": "markdown",
   "metadata": {
    "id": "07HxrhvX5rFu"
   },
   "source": [
    "### Test the deployed model"
   ]
  },
  {
   "cell_type": "code",
   "execution_count": null,
   "metadata": {
    "id": "EAw8yoWhdWIl"
   },
   "outputs": [],
   "source": [
    "import googleapiclient.discovery\n",
    "from google.api_core.client_options import ClientOptions\n",
    "\n",
    "api_endpoint = f'https://{REGION}-ml.googleapis.com'\n",
    "client_options = ClientOptions(api_endpoint=api_endpoint)\n",
    "service = googleapiclient.discovery.build(\n",
    "    serviceName='ml', version='v1', client_options=client_options)\n",
    "embedding_lookup = f'projects/{PROJECT_ID}/models/{MODEL_NAME}/versions/{MODEL_VERSION}'\n",
    "print(f'Service name: {embedding_lookup}')\n",
    "\n",
    "def caip_predict(input_items, service_name):\n",
    "  request_body = {'instances': input_items}\n",
    "  response = service.projects().predict(name=service_name, body=request_body).execute()\n",
    "\n",
    "  if 'error' in response:\n",
    "    raise RuntimeError(response['error'])\n",
    "\n",
    "  return response['predictions']"
   ]
  },
  {
   "cell_type": "code",
   "execution_count": null,
   "metadata": {
    "id": "_FK2M8XOdbxS"
   },
   "outputs": [],
   "source": [
    "input_items = ['2114406', '2114402 2120788', 'abc123']\n",
    "\n",
    "embeddings = caip_predict(input_items, embedding_lookup)\n",
    "print(f'Embeddings retrieved: {len(embeddings)}')\n",
    "for idx, embedding in enumerate(embeddings):\n",
    "  print(f'{input_items[idx]}: {embedding[:5]}')"
   ]
  },
  {
   "cell_type": "markdown",
   "metadata": {},
   "source": [
    "## (Optional) Export and Deploy the BigQuery Model to AI Platform"
   ]
  },
  {
   "cell_type": "markdown",
   "metadata": {},
   "source": [
    "### Import the model from BigQuery ML to Cloud Storage as a SavedModel\n",
    "This will export the matrix factorization as an exact matching model. The model takes Item1_Id as an input and outputs the top 50 recommended item2_Ids."
   ]
  },
  {
   "cell_type": "code",
   "execution_count": null,
   "metadata": {},
   "outputs": [],
   "source": [
    "BQ_DATASET_NAME = 'recommendations'\n",
    "BQML_MODEL_NAME = 'item_matching_model'\n",
    "BQML_MODEL_OUTPUT_DIR = f'gs://{BUCKET}/bqml/item_matching_model'\n",
    "\n",
    "!bq extract -m {BQ_DATASET_NAME}.{BQML_MODEL_NAME} {BQML_MODEL_OUTPUT_DIR}"
   ]
  },
  {
   "cell_type": "code",
   "execution_count": null,
   "metadata": {},
   "outputs": [],
   "source": [
    "!saved_model_cli show --dir {BQML_MODEL_OUTPUT_DIR} --tag_set serve --signature_def serving_default"
   ]
  },
  {
   "cell_type": "markdown",
   "metadata": {},
   "source": [
    "### Deploy the item matching SavedModel to AI Platform Prediction"
   ]
  },
  {
   "cell_type": "code",
   "execution_count": null,
   "metadata": {},
   "outputs": [],
   "source": [
    "!gcloud ai-platform models create {BQML_MODEL_NAME} --region={REGION}"
   ]
  },
  {
   "cell_type": "code",
   "execution_count": null,
   "metadata": {},
   "outputs": [],
   "source": [
    "!gcloud ai-platform versions create {MODEL_VERSION} \\\n",
    "  --region={REGION} \\\n",
    "  --model={BQML_MODEL_NAME} \\\n",
    "  --origin={BQML_MODEL_OUTPUT_DIR} \\\n",
    "  --runtime-version=2.2 \\\n",
    "  --framework=TensorFlow \\\n",
    "  --python-version=3.7 \\\n",
    "  --machine-type=n1-standard-2\n",
    "\n",
    "print(\"The model version is deployed to AI Platform Prediciton.\")"
   ]
  },
  {
   "cell_type": "code",
   "execution_count": null,
   "metadata": {},
   "outputs": [],
   "source": [
    "input_items = [2114406, -123]\n",
    "\n",
    "item_matching = f'projects/{PROJECT_ID}/models/{BQML_MODEL_NAME}/versions/{MODEL_VERSION}'\n",
    "print(f'Service name: {item_matching}')\n",
    "\n",
    "output = caip_predict(input_items, item_matching)\n",
    "for idx, matches in enumerate(output):\n",
    "  print(f'Item {input_items[idx]} top matches: {matches[\"predicted_item2_Id\"][:5]}')"
   ]
  },
  {
   "cell_type": "markdown",
   "metadata": {
    "id": "2zkAH5zH5n4g"
   },
   "source": [
    "## License\n",
    "\n",
    "Copyright 2020 Google LLC\n",
    "\n",
    "Licensed under the Apache License, Version 2.0 (the \"License\");\n",
    "you may not use this file except in compliance with the License. You may obtain a copy of the License at: http://www.apache.org/licenses/LICENSE-2.0\n",
    "\n",
    "Unless required by applicable law or agreed to in writing, software distributed under the License is distributed on an \"AS IS\" BASIS, WITHOUT WARRANTIES OR CONDITIONS OF ANY KIND, either express or implied. \n",
    "\n",
    "See the License for the specific language governing permissions and limitations under the License.\n",
    "\n",
    "**This is not an official Google product but sample code provided for an educational purpose**"
   ]
<<<<<<< HEAD
=======
  },
  {
   "cell_type": "code",
   "execution_count": null,
   "metadata": {},
   "outputs": [],
   "source": []
>>>>>>> 789235981ee63da0a3bfd5785159f072e06d4551
  }
 ],
 "metadata": {
  "colab": {
   "collapsed_sections": [],
   "name": "03-bqml-embedding-caip.ipynb",
   "provenance": [],
   "toc_visible": true
  },
  "environment": {
   "name": "tf2-2-3-gpu.2-3.m58",
   "type": "gcloud",
   "uri": "gcr.io/deeplearning-platform-release/tf2-2-3-gpu.2-3:m58"
  },
  "kernelspec": {
   "display_name": "Python 3",
   "language": "python",
   "name": "python3"
  },
  "language_info": {
   "codemirror_mode": {
    "name": "ipython",
    "version": 3
   },
   "file_extension": ".py",
   "mimetype": "text/x-python",
   "name": "python",
   "nbconvert_exporter": "python",
   "pygments_lexer": "ipython3",
   "version": "3.7.8"
  }
 },
 "nbformat": 4,
 "nbformat_minor": 4
}

{
 "cells": [
  {
   "cell_type": "markdown",
   "metadata": {},
   "source": [
    "## Test the Performance of Approximate vs Exact Matching "
   ]
  },
  {
   "cell_type": "code",
   "execution_count": 11,
   "metadata": {},
   "outputs": [],
   "source": [
    "import tensorflow as tf\n",
    "import time"
   ]
  },
  {
   "cell_type": "code",
   "execution_count": 1,
   "metadata": {},
   "outputs": [],
   "source": [
    "PROJECT_ID = 'ksalama-cloudml'\n",
    "BUCKET = 'ksalama-cloudml'\n",
    "REGION = 'us-central1'\n",
    "INDEX_DIR = f'gs://{BUCKET}/bqml/scann_index'\n",
    "MODEL_NAME = 'item_embedding_lookup'\n",
    "MODEL_VERSION = 'v1'\n",
    "SERVICE_NAME = 'index-server'\n",
    "KIND = 'song'"
   ]
  },
  {
   "cell_type": "code",
   "execution_count": 2,
   "metadata": {},
   "outputs": [
    {
     "name": "stdout",
     "output_type": "stream",
     "text": [
      "Service name: projects/ksalama-cloudml/models/item_embedding_lookup/versions/v1\n"
     ]
    }
   ],
   "source": [
    "from index_server.lookup import EmbeddingLookup\n",
    "embedding_lookup = EmbeddingLookup(PROJECT_ID, REGION, MODEL_NAME, MODEL_VERSION)"
   ]
  },
  {
   "cell_type": "code",
   "execution_count": 3,
   "metadata": {},
   "outputs": [],
   "source": [
    "vector = embedding_lookup.lookup(['2114402'])[0]"
   ]
  },
  {
   "cell_type": "markdown",
   "metadata": {},
   "source": [
    "## Approximate Matching (ScaNN)"
   ]
  },
  {
   "cell_type": "code",
   "execution_count": 4,
   "metadata": {},
   "outputs": [
    {
     "name": "stdout",
     "output_type": "stream",
     "text": [
      "Loading ScaNN index...\n",
      "ScaNN index is loadded.\n"
     ]
    }
   ],
   "source": [
    "from index_server.matching import ScaNNMatcher\n",
    "scann_matcher = ScaNNMatcher(INDEX_DIR)"
   ]
  },
  {
   "cell_type": "code",
   "execution_count": 8,
   "metadata": {},
   "outputs": [
    {
     "name": "stdout",
     "output_type": "stream",
     "text": [
      "Elapsed time:0.026595115661621094 - average time: 0.00026595115661621094\n"
     ]
    }
   ],
   "source": [
    "start_time = time.time()\n",
    "for i in range(100):\n",
    "  scann_matcher.match(vector, 50)\n",
    "end_time = time.time()\n",
    "elapsed_time = end_time - start_time\n",
    "\n",
    "print(f'Elapsed time:{elapsed_time} - average time: {elapsed_time/100}')"
   ]
  },
  {
   "cell_type": "markdown",
   "metadata": {},
   "source": [
    "## Exact Matching"
   ]
  },
  {
   "cell_type": "code",
   "execution_count": 45,
   "metadata": {},
   "outputs": [],
   "source": [
    "class ExactMatcher(object):\n",
    "  def __init__(self, model_dir):\n",
    "    print(\"Loading exact matchg model...\")\n",
    "    self.model = tf.saved_model.load(model_dir)\n",
    "    print(\"Exact matchg model is loaded.\")\n",
    "  \n",
    "  def match(self, instances):\n",
    "    outputs = self.model.signatures['serving_default'](tf.constant(instances, tf.dtypes.int64))\n",
    "    return outputs['predicted_item2_Id'].numpy()"
   ]
  },
  {
   "cell_type": "code",
   "execution_count": 46,
   "metadata": {},
   "outputs": [
    {
     "name": "stdout",
     "output_type": "stream",
     "text": [
      "Loading exact matchg model...\n",
      "Exact matchg model is loaded.\n"
     ]
    }
   ],
   "source": [
    "BQML_MODEL_OUTPUT_DIR = f'gs://{BUCKET}/bqml/item_matching_model'\n",
    "exact_matcher = ExactMatcher(BQML_MODEL_OUTPUT_DIR)"
   ]
  },
  {
   "cell_type": "code",
   "execution_count": 48,
   "metadata": {},
   "outputs": [
    {
     "name": "stdout",
     "output_type": "stream",
     "text": [
      "Elapsed time:1.2519912719726562 - average time: 0.012519912719726562\n"
     ]
    }
   ],
   "source": [
    "start_time = time.time()\n",
    "for i in range(100):\n",
    "  exact_matcher.match([2114402])\n",
    "end_time = time.time()\n",
    "elapsed_time = end_time - start_time\n",
    "\n",
    "print(f'Elapsed time:{elapsed_time} - average time: {elapsed_time/100}')"
   ]
  }
 ],
 "metadata": {
  "environment": {
   "name": "tf2-2-3-gpu.2-3.m58",
   "type": "gcloud",
   "uri": "gcr.io/deeplearning-platform-release/tf2-2-3-gpu.2-3:m58"
  },
  "kernelspec": {
   "display_name": "Python 3",
   "language": "python",
   "name": "python3"
  },
  "language_info": {
   "codemirror_mode": {
    "name": "ipython",
    "version": 3
   },
   "file_extension": ".py",
   "mimetype": "text/x-python",
   "name": "python",
   "nbconvert_exporter": "python",
   "pygments_lexer": "ipython3",
   "version": "3.7.8"
  }
 },
 "nbformat": 4,
 "nbformat_minor": 4
}

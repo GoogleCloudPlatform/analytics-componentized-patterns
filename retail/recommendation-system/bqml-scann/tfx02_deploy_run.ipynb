{
 "cells": [
  {
   "cell_type": "markdown",
   "metadata": {},
   "source": [
    "# TFX - Compile and Deploy the TFX Pipeline to KFP\n",
    "\n",
    "This Notebook helps you to compile the **TFX Pipeline** to a **KFP package**. This will creat an **Argo YAML** file in a **.tar.gz** package. We perform the following steps:\n",
    "1. Build a custom container image that include our modules\n",
    "2. Compile TFX Pipeline using CLI\n",
    "3. Deploy the compiled pipeline to KFP \n"
   ]
  },
  {
   "cell_type": "markdown",
   "metadata": {},
   "source": [
    "## Setup"
   ]
  },
  {
   "cell_type": "code",
   "execution_count": null,
   "metadata": {},
   "outputs": [],
   "source": [
    "!pip install -U kfp"
   ]
  },
  {
   "cell_type": "markdown",
   "metadata": {},
   "source": [
    "## Set compile time variables"
   ]
  },
  {
   "cell_type": "code",
   "execution_count": null,
   "metadata": {},
   "outputs": [],
   "source": [
    "import os\n",
    "\n",
    "os.environ['PROJECT_ID'] = 'ksalama-cloudml' # Set your project\n",
    "os.environ['BUCKET'] = 'ksalama-cloudml' # Set your project\n",
    "os.environ['REGION'] = 'us-central1' # Set your region\n",
    "os.environ['GKE_CLUSTER_NAME'] = 'ksalama-cloudml-dev' # Set your GKE cluster name\n",
    "os.environ['GKE_CLUSTER_ZONE'] = 'europe-west2-a' # Set your GKE cluster zone\n",
    "\n",
    "\n",
    "os.environ['IMAGE_NAME'] = 'tfx-ml'\n",
    "os.environ['TAG'] = 'latest'\n",
    "os.environ['ML_IMAGE_URI']=f'gcr.io/{os.environ.get(\"PROJECT_ID\")}/{os.environ.get(\"IMAGE_NAME\")}:{os.environ.get(\"TAG\")}'\n",
    "\n",
    "os.environ['NAMESPACE'] = 'kubeflow-pipelines'\n",
    "os.environ['ARTIFACT_STORE_URI'] = f'gs://{os.environ.get(\"BUCKET\")}/tfx_artifact_store'\n",
    "os.environ['GCS_STAGING_PATH'] = f'{os.environ.get(\"ARTIFACT_STORE_URI\")}/staging'\n",
    "\n",
    "os.environ['RUNTIME_VERSION'] = '2.2'\n",
    "os.environ['PYTHON_VERSION'] = '3.7'\n",
    "os.environ['BEAM_RUNNER'] = 'DirectRunner'\n",
    "os.environ['MODEL_REGISTRY_URI'] = f'{os.environ.get(\"ARTIFACT_STORE_URI\")}/model_registry'\n",
    "\n",
    "os.environ['PIPELINE_NAME'] = 'tfx_bqml_scann_embeddings'"
   ]
  },
  {
   "cell_type": "markdown",
   "metadata": {},
   "source": [
    "## 1. Build Container Image\n",
    "\n",
    "The pipeline uses a custom docker image, which is a derivative of the [tensorflow/tfx:0.23.0](https://hub.docker.com/r/tensorflow/tfx) image, as a runtime execution environment for the pipeline's components. The same image is also used as a a training image used by **AI Platform Training**.\n"
   ]
  },
  {
   "cell_type": "code",
   "execution_count": null,
   "metadata": {
    "scrolled": true
   },
   "outputs": [],
   "source": [
    "!gcloud builds submit --tag $ML_IMAGE_URI tfx_pipeline"
   ]
  },
  {
   "cell_type": "markdown",
   "metadata": {},
   "source": [
    "## 2. Compile TFX Pipeline using CLI"
   ]
  },
  {
   "cell_type": "code",
   "execution_count": null,
   "metadata": {},
   "outputs": [],
   "source": [
    "!rm ${PIPELINE_NAME}.tar.gz\n",
    "!tfx pipeline compile \\\n",
    "    --engine=kubeflow \\\n",
    "    --pipeline_path=tfx_pipeline/runner.py "
   ]
  },
  {
   "cell_type": "markdown",
   "metadata": {},
   "source": [
    "## 3. Deploy the Compiled Pipeline to KFP"
   ]
  },
  {
   "cell_type": "code",
   "execution_count": null,
   "metadata": {},
   "outputs": [],
   "source": [
    "%%bash\n",
    "\n",
    "gcloud container clusters get-credentials ${GKE_CLUSTER_NAME} --zone ${GKE_CLUSTER_ZONE}\n",
    "export KFP_ENDPOINT=$(kubectl describe configmap inverse-proxy-config -n ${NAMESPACE} | grep \"googleusercontent.com\")\n",
    "\n",
    "kfp --namespace=${NAMESPACE} --endpoint=${KFP_ENDPOINT} \\\n",
    "    pipeline upload \\\n",
    "    --pipeline-name=${PIPELINE_NAME} \\\n",
    "    ${PIPELINE_NAME}.tar.gz"
   ]
  },
  {
   "cell_type": "markdown",
   "metadata": {},
   "source": [
    "## Use the KFP UI to run the deployed pipeline..."
   ]
  },
  {
   "cell_type": "code",
   "execution_count": null,
   "metadata": {},
   "outputs": [],
   "source": [
    "!echo $(kubectl describe configmap inverse-proxy-config -n ${NAMESPACE} | grep \"googleusercontent.com\")"
   ]
  },
  {
   "cell_type": "markdown",
   "metadata": {},
   "source": [
    "## License\n",
    "\n",
    "Copyright 2020 Google LLC\n",
    "\n",
    "Licensed under the Apache License, Version 2.0 (the \"License\");\n",
    "you may not use this file except in compliance with the License. You may obtain a copy of the License at: http://www.apache.org/licenses/LICENSE-2.0\n",
    "\n",
    "Unless required by applicable law or agreed to in writing, software distributed under the License is distributed on an \"AS IS\" BASIS, WITHOUT WARRANTIES OR CONDITIONS OF ANY KIND, either express or implied. \n",
    "\n",
    "See the License for the specific language governing permissions and limitations under the License.\n",
    "\n",
    "**This is not an official Google product but sample code provided for an educational purpose**"
   ]
  }
 ],
 "metadata": {
  "environment": {
   "name": "tf2-2-3-gpu.2-3.m58",
   "type": "gcloud",
   "uri": "gcr.io/deeplearning-platform-release/tf2-2-3-gpu.2-3:m58"
  },
  "kernelspec": {
   "display_name": "Python 3",
   "language": "python",
   "name": "python3"
  },
  "language_info": {
   "codemirror_mode": {
    "name": "ipython",
    "version": 3
   },
   "file_extension": ".py",
   "mimetype": "text/x-python",
   "name": "python",
   "nbconvert_exporter": "python",
   "pygments_lexer": "ipython3",
   "version": "3.7.8"
  }
 },
 "nbformat": 4,
 "nbformat_minor": 4
}
